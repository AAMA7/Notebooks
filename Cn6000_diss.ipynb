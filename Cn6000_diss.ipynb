{
  "cells": [
    {
      "cell_type": "markdown",
      "metadata": {
        "id": "npnduCLoitck"
      },
      "source": [
        "# Predicting depression - DASS-42"
      ]
    },
    {
      "cell_type": "markdown",
      "metadata": {
        "id": "6Y8RHVdRi0ra"
      },
      "source": [
        "#### Objective: Implement four supervised machine learning models, with the goal of predicting depression using a labelled dataset. DASS-42: Depression anxiety stress scale. A 42 item questionnaire asking participants about their mental health.\n",
        "## Steps\n",
        "\n",
        "1. EDA - Understand data, clean data and analyse relationships\n",
        "2. Data preprocessing - Create target variables\n",
        "3. Implement - Create and use the models\n",
        "3. Results - Predictions\n",
        "4. Evaluation/refining - Improve accuracy\n",
        "\n",
        "#### Note: To classify, Q1A to Q42A will be used to build the target. Other features will be dropped or used as part of the training/testing."
      ]
    },
    {
      "cell_type": "code",
      "execution_count": null,
      "metadata": {
        "id": "Ah8jJNoZx9DT"
      },
      "outputs": [],
      "source": [
        "# All libraries required\n",
        "import numpy as np\n",
        "import matplotlib.pyplot as plt\n",
        "from matplotlib.pyplot import figure\n",
        "%matplotlib inline\n",
        "import pandas as pd\n",
        "import sklearn as sk\n",
        "import seaborn as sns\n",
        "from sklearn.preprocessing import LabelEncoder\n",
        "from sklearn.model_selection import train_test_split\n",
        "from sklearn.preprocessing import StandardScaler, MinMaxScaler\n",
        "import IPython\n",
        "!pip install nbconvert\n",
        "!pip install sweetviz\n",
        "import sweetviz as sv\n",
        "\n",
        "#classifiers\n",
        "from sklearn.tree import DecisionTreeClassifier\n",
        "from sklearn.model_selection import train_test_split\n",
        "from sklearn.naive_bayes import GaussianNB\n",
        "from sklearn.ensemble import RandomForestClassifier\n",
        "from sklearn.neighbors import KNeighborsClassifier\n",
        "from sklearn.naive_bayes import MultinomialNB\n",
        "from sklearn.naive_bayes import BernoulliNB\n",
        "from sklearn import svm\n",
        "from sklearn.svm import SVC\n",
        "\n",
        "#metrics/other\n",
        "from sklearn.metrics import accuracy_score, log_loss, confusion_matrix\n",
        "from google.colab import drive\n",
        "from sklearn.metrics import classification_report\n",
        "from sklearn.metrics import precision_score\n",
        "from sklearn.metrics import f1_score\n",
        "from sklearn.metrics import recall_score"
      ]
    },
    {
      "cell_type": "code",
      "execution_count": null,
      "metadata": {
        "id": "DeYyKC_H2DNQ"
      },
      "outputs": [],
      "source": [
        "df = pd.read_csv(\"/content/drive/MyDrive/Colab Notebooks/CN6000_diss/data3.csv\",sep= '\\t')\n",
        "pd.set_option(\"display.max_columns\", None)"
      ]
    },
    {
      "cell_type": "code",
      "execution_count": null,
      "metadata": {
        "id": "p8GkY0-0QCLr"
      },
      "outputs": [],
      "source": [
        "report =  sv.analyze(df)\n",
        "report.show_html ('analyze.html', open_browser = False)"
      ]
    },
    {
      "cell_type": "markdown",
      "metadata": {
        "id": "kfcRH6fSTTrl"
      },
      "source": [
        "#### Inital report generated from sweetviz library"
      ]
    },
    {
      "cell_type": "code",
      "execution_count": null,
      "metadata": {
        "id": "M_xxkoUiQtxI"
      },
      "outputs": [],
      "source": [
        "report.show_notebook()"
      ]
    },
    {
      "cell_type": "code",
      "execution_count": null,
      "metadata": {
        "id": "4fTHuj68kdDr"
      },
      "outputs": [],
      "source": [
        "df.sample(4) #random selection"
      ]
    },
    {
      "cell_type": "code",
      "execution_count": null,
      "metadata": {
        "id": "4XPkkFLOkEIu"
      },
      "outputs": [],
      "source": [
        "df.tail(2) #show the last two records"
      ]
    },
    {
      "cell_type": "code",
      "execution_count": null,
      "metadata": {
        "id": "f9pW_SO1iQUG"
      },
      "outputs": [],
      "source": [
        "df.info()"
      ]
    },
    {
      "cell_type": "code",
      "execution_count": null,
      "metadata": {
        "id": "zFUhcW3cKtVu"
      },
      "outputs": [],
      "source": [
        "print(df.duplicated().sum())"
      ]
    },
    {
      "cell_type": "code",
      "execution_count": null,
      "metadata": {
        "id": "VP6ly7l8l9DC"
      },
      "outputs": [],
      "source": [
        "df_size = df.shape #store shape in size\n",
        "\n",
        "row = df_size[0]    #0 = row, 1 = columns\n",
        "col = df_size[1]\n",
        "\n",
        "print(\"the number of rows:\", row)\n",
        "print(\"the number of columns:\", col)"
      ]
    },
    {
      "cell_type": "code",
      "execution_count": null,
      "metadata": {
        "id": "6yOg80Z-vqgh"
      },
      "outputs": [],
      "source": [
        "df.describe() #describe all numerical columns"
      ]
    },
    {
      "cell_type": "code",
      "execution_count": null,
      "metadata": {
        "id": "UaicXf1q1VB3"
      },
      "outputs": [],
      "source": [
        "df.Q1A.describe()"
      ]
    },
    {
      "cell_type": "code",
      "execution_count": null,
      "metadata": {
        "id": "oUIhcSIu33Qg"
      },
      "outputs": [],
      "source": [
        "df.age.describe()"
      ]
    },
    {
      "cell_type": "code",
      "execution_count": null,
      "metadata": {
        "id": "7tV9sSgwwGf8"
      },
      "outputs": [],
      "source": [
        "df['age'].unique()"
      ]
    },
    {
      "cell_type": "markdown",
      "metadata": {
        "id": "Nn3sOjFcN_Gt"
      },
      "source": [
        "Some people decided to enter their year of birth instead of age. These are considered outliers."
      ]
    },
    {
      "cell_type": "code",
      "execution_count": null,
      "metadata": {
        "id": "HEGFbeOrNl7-"
      },
      "outputs": [],
      "source": [
        "df = df.drop(df[df.age > 90].index) #Get rid of all participants older than 90\n",
        "df.age.unique()"
      ]
    },
    {
      "cell_type": "code",
      "execution_count": null,
      "metadata": {
        "id": "5BMGKiI4w_yf"
      },
      "outputs": [],
      "source": [
        "df['major'].unique()"
      ]
    },
    {
      "cell_type": "code",
      "execution_count": null,
      "metadata": {
        "id": "pDwyHEvFLQYd"
      },
      "outputs": [],
      "source": [
        "df['major'].value_counts()"
      ]
    },
    {
      "cell_type": "code",
      "execution_count": null,
      "metadata": {
        "id": "NLS6Q4HbmRXT"
      },
      "outputs": [],
      "source": [
        "df.isnull().sum() # the column for \"major\" has 11403 null values"
      ]
    },
    {
      "cell_type": "code",
      "execution_count": null,
      "metadata": {
        "id": "436p7t-fmfF_"
      },
      "outputs": [],
      "source": [
        "plt.figure(figsize=(17, 8))\n",
        "sns.heatmap(df.isnull())"
      ]
    },
    {
      "cell_type": "markdown",
      "metadata": {
        "id": "X9kCkXji1feQ"
      },
      "source": [
        "#### When dealing with null values, we can either delete or replace those values. In this case, I will replace every null value with the value \"no degree\"."
      ]
    },
    {
      "cell_type": "code",
      "execution_count": null,
      "metadata": {
        "id": "q-p61Huy62Qt"
      },
      "outputs": [],
      "source": [
        "df2 = df.fillna(value='No degree') #create new dataframe\n",
        "df2"
      ]
    },
    {
      "cell_type": "code",
      "execution_count": null,
      "metadata": {
        "id": "3fkcUy3F4I42"
      },
      "outputs": [],
      "source": [
        "df2.major.describe()"
      ]
    },
    {
      "cell_type": "code",
      "execution_count": null,
      "metadata": {
        "id": "fCEyf9FgLfsO"
      },
      "outputs": [],
      "source": [
        "df2['major'].value_counts()"
      ]
    },
    {
      "cell_type": "code",
      "execution_count": null,
      "metadata": {
        "id": "rCqSJxEqMy-A"
      },
      "outputs": [],
      "source": [
        "df2_eng = df2[df2[\"major\"] == \"English\"] #show all english majors\n",
        "df2_eng"
      ]
    },
    {
      "cell_type": "code",
      "execution_count": null,
      "metadata": {
        "id": "mm_Tjfk7UAxN"
      },
      "outputs": [],
      "source": [
        "df2=df2.replace('english','English')"
      ]
    },
    {
      "cell_type": "code",
      "execution_count": null,
      "metadata": {
        "id": "od542QFO0Vbk"
      },
      "outputs": [],
      "source": [
        "df2.major.value_counts(normalize=True)[:20].plot.bar() #top 20 majors\n",
        "plt.show()\n",
        "#measured as a percentage"
      ]
    },
    {
      "cell_type": "code",
      "execution_count": null,
      "metadata": {
        "id": "Trj0BhXUEnG2"
      },
      "outputs": [],
      "source": [
        "df2.isnull().sum() # df2 has no null values"
      ]
    },
    {
      "cell_type": "code",
      "execution_count": null,
      "metadata": {
        "id": "hjbseP5rmlWk"
      },
      "outputs": [],
      "source": [
        "plt.figure(figsize=(17, 8))\n",
        "sns.heatmap(df2.isnull())"
      ]
    },
    {
      "cell_type": "markdown",
      "metadata": {
        "id": "hpwvyk5qFKnE"
      },
      "source": [
        "### Since I am classifying for depression. I need to drop features that have little to no cause of depression."
      ]
    },
    {
      "cell_type": "code",
      "execution_count": null,
      "metadata": {
        "id": "snZYEhSTy2qa"
      },
      "outputs": [],
      "source": [
        "# building a list to delete features\n",
        "remove = [f'Q{i}E' for i in range(1, 43)] #  'Q1E' to 'Q42E' to be removed\n",
        "remove.extend([f'Q{i}I' for i in range(1, 43)]) # 'Q1E' to 'Q42E' to be removed\n",
        "remove.extend([f'VCL{i}' for i in range(1, 17)]) # 'VCL1' to 'VCL16' to be removed\n",
        "remove.extend([ 'source', 'voted','introelapse', 'hand','orientation', 'uniquenetworklocation','surveyelapse', 'engnat',\n",
        "     'country', 'testelapse','screensize',])"
      ]
    },
    {
      "cell_type": "code",
      "execution_count": null,
      "metadata": {
        "id": "XdURvlPNKBAe"
      },
      "outputs": [],
      "source": [
        "df3 = df2.drop(remove, axis=1)\n",
        "df3.head()"
      ]
    },
    {
      "cell_type": "code",
      "execution_count": null,
      "metadata": {
        "id": "9LtFT_hb4js-"
      },
      "outputs": [],
      "source": [
        "df3.religion.describe()"
      ]
    },
    {
      "cell_type": "code",
      "execution_count": null,
      "metadata": {
        "id": "PbOjpjZw4R0m"
      },
      "outputs": [],
      "source": [
        "df3.TIPI1.describe()"
      ]
    },
    {
      "cell_type": "code",
      "execution_count": null,
      "metadata": {
        "id": "iL4zSGMyKSvb"
      },
      "outputs": [],
      "source": [
        "df3.shape #we now have 63 columns"
      ]
    },
    {
      "cell_type": "code",
      "execution_count": null,
      "metadata": {
        "id": "LhtLyAjOWq8I"
      },
      "outputs": [],
      "source": [
        "correlation = df3.corr()"
      ]
    },
    {
      "cell_type": "code",
      "execution_count": null,
      "metadata": {
        "id": "NuPZdnkWXB4M"
      },
      "outputs": [],
      "source": [
        "plt.figure(figsize=(12,12))\n",
        "sns.heatmap(correlation, xticklabels=correlation.columns, yticklabels=correlation.columns) #relationship between features"
      ]
    },
    {
      "cell_type": "code",
      "execution_count": null,
      "metadata": {
        "id": "I1SQ_5tgoT9z"
      },
      "outputs": [],
      "source": [
        "plt.figure(figsize=(17, 8))\n",
        "sns.heatmap(df3.isnull())"
      ]
    },
    {
      "cell_type": "code",
      "execution_count": null,
      "metadata": {
        "id": "Qzcw9tCYvtOf"
      },
      "outputs": [],
      "source": [
        "df3.corr()"
      ]
    },
    {
      "cell_type": "code",
      "execution_count": null,
      "metadata": {
        "id": "X0bncU3ftHpA"
      },
      "outputs": [],
      "source": [
        "plt.figure(figsize=(4,4))\n",
        "df3.gender.value_counts(normalize=True)\n",
        "df3.gender.value_counts(normalize=True).plot.pie()\n",
        "plt.legend()\n",
        "plt.show()"
      ]
    },
    {
      "cell_type": "markdown",
      "metadata": {
        "id": "8DgXtPXfCJm6"
      },
      "source": [
        "2 is female, 1 is male, 0 and 3 are classified as others."
      ]
    },
    {
      "cell_type": "code",
      "execution_count": null,
      "metadata": {
        "id": "52DDS4LHAIuO"
      },
      "outputs": [],
      "source": [
        "df3.gender.unique()"
      ]
    },
    {
      "cell_type": "code",
      "execution_count": null,
      "metadata": {
        "id": "Jz0Tr2QOwI2f"
      },
      "outputs": [],
      "source": [
        "plt.figure(figsize=(4,4))\n",
        "df3.married.value_counts(normalize=True)\n",
        "df3.married.value_counts(normalize=True).plot.pie()\n",
        "plt.legend()\n",
        "plt.show()"
      ]
    },
    {
      "cell_type": "markdown",
      "metadata": {
        "id": "rXKsFpAmCdh-"
      },
      "source": [
        "1 are participants that have never been married, 2 is for participants who have been married."
      ]
    },
    {
      "cell_type": "code",
      "execution_count": null,
      "metadata": {
        "id": "whDvpsZLBW0Z"
      },
      "outputs": [],
      "source": [
        "df3.married.unique()"
      ]
    },
    {
      "cell_type": "code",
      "execution_count": null,
      "metadata": {
        "id": "QKfw0VRv5rLw"
      },
      "outputs": [],
      "source": [
        "df3.education.value_counts(normalize=True)\n",
        "df3.education.value_counts(normalize=True)[:20].plot.bar()\n",
        "plt.show()\n",
        "#measured as a percentage"
      ]
    },
    {
      "cell_type": "markdown",
      "metadata": {
        "id": "ZAah0o8EHSiO"
      },
      "source": [
        "0 and 1 less than high school, 2 high school completed, 3 university degree, 4 post grad degree"
      ]
    },
    {
      "cell_type": "code",
      "execution_count": null,
      "metadata": {
        "id": "6cxC9d1J0HsM"
      },
      "outputs": [],
      "source": [
        "sumofQ = [f'Q{i}A' for i in range(1, 43)]\n",
        "df3['score']=0\n",
        "for i in range(0,42):                        #Total score of all 42 questions\n",
        "  df3['score']=df3['score']+df3[sumofQ[i]]\n",
        "sns.displot(x=df3['score'])"
      ]
    },
    {
      "cell_type": "code",
      "execution_count": null,
      "metadata": {
        "id": "y829vM3X_1Pm"
      },
      "outputs": [],
      "source": [
        "def depressionindicators(value):      #function to create indicator target\n",
        "    if value <= 50:\n",
        "        return 0\n",
        "    if 51 <= value <= 70:\n",
        "        return 1\n",
        "    if 51 <= value <= 80:\n",
        "        return 2\n",
        "    if 81 <= value <= 100:\n",
        "        return 3\n",
        "    if value > 130:\n",
        "        return 4\n",
        "plt.figure(figsize=(6,6))\n",
        "df3['indicator'] = df3['score'].apply(depressionindicators)\n",
        "sns.countplot(x=df3['indicator']);"
      ]
    },
    {
      "cell_type": "code",
      "execution_count": null,
      "metadata": {
        "id": "V1o-ufgeh7Wq"
      },
      "outputs": [],
      "source": [
        "#object values in df3\n",
        "df3_cat=df2.select_dtypes(object)\n",
        "df3_cat"
      ]
    },
    {
      "cell_type": "code",
      "execution_count": null,
      "metadata": {
        "id": "m_r3Q9J-OewY"
      },
      "outputs": [],
      "source": [
        "encodedoutput_Y= LabelEncoder()\n",
        "df3['major'] = encodedoutput_Y.fit_transform(df.iloc[:,1].values) #changing major to values\n",
        "df3"
      ]
    },
    {
      "cell_type": "code",
      "execution_count": null,
      "metadata": {
        "id": "YWv1tlpaPWFn"
      },
      "outputs": [],
      "source": [
        "#12355 nulls values in the indicator column initially\n",
        "nan_count = df3.isna().sum()\n",
        "print(nan_count )"
      ]
    },
    {
      "cell_type": "code",
      "execution_count": null,
      "metadata": {
        "id": "Rv2k-B2-QyhS"
      },
      "outputs": [],
      "source": [
        "df3=df3.fillna(df3.mean())\n",
        "df3"
      ]
    },
    {
      "cell_type": "markdown",
      "metadata": {
        "id": "iEOnWIEjcdIg"
      },
      "source": [
        "##Splitting dataset"
      ]
    },
    {
      "cell_type": "code",
      "execution_count": null,
      "metadata": {
        "id": "5YaQWpmNYaGn"
      },
      "outputs": [],
      "source": [
        "y = df3['indicator']                         #target feature\n",
        "y=y.astype('int')                            #change indicator to int datatype\n",
        "x= df3.drop(['score', 'indicator'], axis=1)  #drop indicator and score features"
      ]
    },
    {
      "cell_type": "code",
      "execution_count": null,
      "metadata": {
        "id": "nCjMVJqCakWV"
      },
      "outputs": [],
      "source": [
        "x_train, x_test, y_train, y_test = train_test_split(x, y, test_size=.2, random_state=42) #80 to 20%\n",
        "print(f'x_train: {x_train.shape}, y_train: {y_train.shape}')\n",
        "print(f'x_test: {x_test.shape}, y_test: {y_test.shape}')"
      ]
    },
    {
      "cell_type": "markdown",
      "metadata": {
        "id": "BEaqy5-5USrV"
      },
      "source": [
        "Comparison report between x_train and x_test using sweetviz library"
      ]
    },
    {
      "cell_type": "code",
      "execution_count": null,
      "metadata": {
        "colab": {
          "background_save": true
        },
        "id": "PmjXeyXCUcYN"
      },
      "outputs": [],
      "source": [
        "compare_report = sv.compare([x_train, 'Train'], [x_test, 'Test'])\n",
        "compare_report.show_html('Compare.html', open_browser = False)"
      ]
    },
    {
      "cell_type": "code",
      "execution_count": null,
      "metadata": {
        "colab": {
          "background_save": true
        },
        "id": "vnLnlyfZU9mv"
      },
      "outputs": [],
      "source": [
        "IPython.display.HTML('Compare.html')"
      ]
    },
    {
      "cell_type": "code",
      "execution_count": null,
      "metadata": {
        "colab": {
          "background_save": true
        },
        "id": "tXVgyitXbyTI"
      },
      "outputs": [],
      "source": [
        "#normalization\n",
        "scale = StandardScaler()\n",
        "x_train_scaled = scale.fit_transform(x_train)\n",
        "x_test_scaled = scale.transform(x_test)"
      ]
    },
    {
      "cell_type": "markdown",
      "metadata": {
        "id": "S-mlliuechrL"
      },
      "source": [
        "## Naive bayes classifier"
      ]
    },
    {
      "cell_type": "code",
      "execution_count": null,
      "metadata": {
        "colab": {
          "background_save": true
        },
        "id": "UqcskSwdtDG5"
      },
      "outputs": [],
      "source": [
        "nb_classifier = MultinomialNB()"
      ]
    },
    {
      "cell_type": "code",
      "execution_count": null,
      "metadata": {
        "colab": {
          "background_save": true
        },
        "id": "0ncHAvcUtrLO"
      },
      "outputs": [],
      "source": [
        "nb_classifier.fit(x_train, y_train)"
      ]
    },
    {
      "cell_type": "code",
      "execution_count": null,
      "metadata": {
        "colab": {
          "background_save": true
        },
        "id": "DwdhqnMStyt8"
      },
      "outputs": [],
      "source": [
        "y_pred = nb_classifier.predict(x_test)"
      ]
    },
    {
      "cell_type": "code",
      "execution_count": null,
      "metadata": {
        "colab": {
          "background_save": true
        },
        "id": "-zbVNYbAt9yz"
      },
      "outputs": [],
      "source": [
        "print('Accuracy Score:', accuracy_score(y_test, y_pred))"
      ]
    },
    {
      "cell_type": "code",
      "execution_count": null,
      "metadata": {
        "colab": {
          "background_save": true
        },
        "id": "XCFP5JeJeFNO"
      },
      "outputs": [],
      "source": [
        "conf_matrix = confusion_matrix(y_true=y_test, y_pred=y_pred)\n",
        "fig, ax = plt.subplots(figsize=(5, 5))\n",
        "ax.matshow(conf_matrix, cmap=plt.cm.Blues, alpha=0.3)\n",
        "for i in range(conf_matrix.shape[0]):\n",
        "    for j in range(conf_matrix.shape[1]):\n",
        "        ax.text(x=j, y=i,s=conf_matrix[i, j], va='center', ha='center', size='xx-large')\n",
        "\n",
        "plt.xlabel('Predictions', fontsize=18)\n",
        "plt.ylabel('Actuals', fontsize=18)\n",
        "plt.title('Confusion Matrix', fontsize=18)\n",
        "plt.show()\n",
        "print(classification_report(y_test, y_pred))"
      ]
    },
    {
      "cell_type": "code",
      "execution_count": null,
      "metadata": {
        "colab": {
          "background_save": true
        },
        "id": "xUMq-dwUwQVZ"
      },
      "outputs": [],
      "source": [
        "gnb = GaussianNB()\n",
        "gnb.fit(x_train, y_train)"
      ]
    },
    {
      "cell_type": "code",
      "execution_count": null,
      "metadata": {
        "colab": {
          "background_save": true
        },
        "id": "dg-xtmrvwV8U"
      },
      "outputs": [],
      "source": [
        "y_pred = gnb.predict(x_test)"
      ]
    },
    {
      "cell_type": "code",
      "execution_count": null,
      "metadata": {
        "colab": {
          "background_save": true
        },
        "id": "1xHv41cWwXnX"
      },
      "outputs": [],
      "source": [
        "accuracy = accuracy_score(y_test, y_pred)\n",
        "print(\"Accuracy:\", accuracy)"
      ]
    },
    {
      "cell_type": "code",
      "execution_count": null,
      "metadata": {
        "colab": {
          "background_save": true
        },
        "id": "SLVGTl8teEgP"
      },
      "outputs": [],
      "source": [
        "conf_matrix = confusion_matrix(y_true=y_test, y_pred=y_pred)\n",
        "fig, ax = plt.subplots(figsize=(5, 5))\n",
        "ax.matshow(conf_matrix, cmap=plt.cm.Blues, alpha=0.3)\n",
        "for i in range(conf_matrix.shape[0]):\n",
        "    for j in range(conf_matrix.shape[1]):\n",
        "        ax.text(x=j, y=i,s=conf_matrix[i, j], va='center', ha='center', size='xx-large')\n",
        "\n",
        "plt.xlabel('Predictions', fontsize=18)\n",
        "plt.ylabel('Actuals', fontsize=18)\n",
        "plt.title('Confusion Matrix', fontsize=18)\n",
        "plt.show()\n",
        "print(classification_report(y_test, y_pred))"
      ]
    },
    {
      "cell_type": "code",
      "execution_count": null,
      "metadata": {
        "colab": {
          "background_save": true
        },
        "id": "Rn7CLex10R3c"
      },
      "outputs": [],
      "source": [
        "bnb = BernoulliNB()\n",
        "bnb.fit(x_train, y_train)"
      ]
    },
    {
      "cell_type": "code",
      "execution_count": null,
      "metadata": {
        "colab": {
          "background_save": true
        },
        "id": "aGSprfwg0ae9"
      },
      "outputs": [],
      "source": [
        "y_pred = bnb.predict(x_test)"
      ]
    },
    {
      "cell_type": "code",
      "execution_count": null,
      "metadata": {
        "colab": {
          "background_save": true
        },
        "id": "Fr45klWW0efm"
      },
      "outputs": [],
      "source": [
        "accuracy = accuracy_score(y_test, y_pred)\n",
        "print(\"Accuracy:\", accuracy)"
      ]
    },
    {
      "cell_type": "code",
      "execution_count": null,
      "metadata": {
        "colab": {
          "background_save": true
        },
        "id": "7yEeeC2heDmZ"
      },
      "outputs": [],
      "source": [
        "conf_matrix = confusion_matrix(y_true=y_test, y_pred=y_pred)\n",
        "fig, ax = plt.subplots(figsize=(5, 5))\n",
        "ax.matshow(conf_matrix, cmap=plt.cm.Blues, alpha=0.3)\n",
        "for i in range(conf_matrix.shape[0]):\n",
        "    for j in range(conf_matrix.shape[1]):\n",
        "        ax.text(x=j, y=i,s=conf_matrix[i, j], va='center', ha='center', size='xx-large')\n",
        "\n",
        "plt.xlabel('Predictions', fontsize=18)\n",
        "plt.ylabel('Actuals', fontsize=18)\n",
        "plt.title('Confusion Matrix', fontsize=18)\n",
        "plt.show()\n",
        "print(classification_report(y_test, y_pred))"
      ]
    },
    {
      "cell_type": "markdown",
      "metadata": {
        "id": "oqTL4ub-dkxz"
      },
      "source": [
        "## Random forest classifier"
      ]
    },
    {
      "cell_type": "code",
      "execution_count": null,
      "metadata": {
        "colab": {
          "background_save": true
        },
        "id": "e55Likd81CeG"
      },
      "outputs": [],
      "source": [
        "rf_classifier = RandomForestClassifier(n_estimators=100, random_state=42) #100 trees"
      ]
    },
    {
      "cell_type": "code",
      "execution_count": null,
      "metadata": {
        "colab": {
          "background_save": true
        },
        "id": "oX7GmN3w1VPw"
      },
      "outputs": [],
      "source": [
        "rf_classifier.fit(x_train, y_train)"
      ]
    },
    {
      "cell_type": "code",
      "execution_count": null,
      "metadata": {
        "colab": {
          "background_save": true
        },
        "id": "hDUiblyf1nOm"
      },
      "outputs": [],
      "source": [
        "y_pred = rf_classifier.predict(x_test)"
      ]
    },
    {
      "cell_type": "code",
      "execution_count": null,
      "metadata": {
        "colab": {
          "background_save": true
        },
        "id": "JQ5Bb7P61o81"
      },
      "outputs": [],
      "source": [
        "print('Accuracy Score:', accuracy_score(y_test, y_pred))"
      ]
    },
    {
      "cell_type": "code",
      "execution_count": null,
      "metadata": {
        "colab": {
          "background_save": true
        },
        "id": "3d92KWM-eCMt"
      },
      "outputs": [],
      "source": [
        "conf_matrix = confusion_matrix(y_true=y_test, y_pred=y_pred)\n",
        "fig, ax = plt.subplots(figsize=(5, 5))\n",
        "ax.matshow(conf_matrix, cmap=plt.cm.Blues, alpha=0.3)\n",
        "for i in range(conf_matrix.shape[0]):\n",
        "    for j in range(conf_matrix.shape[1]):\n",
        "        ax.text(x=j, y=i,s=conf_matrix[i, j], va='center', ha='center', size='xx-large')\n",
        "\n",
        "plt.xlabel('Predictions', fontsize=18)\n",
        "plt.ylabel('Actuals', fontsize=18)\n",
        "plt.title('Confusion Matrix', fontsize=18)\n",
        "plt.show()\n",
        "print(classification_report(y_test, y_pred))"
      ]
    },
    {
      "cell_type": "markdown",
      "metadata": {
        "id": "LsY1hxU0doFU"
      },
      "source": [
        "## Decision tree classifier"
      ]
    },
    {
      "cell_type": "code",
      "execution_count": null,
      "metadata": {
        "colab": {
          "background_save": true
        },
        "id": "51TxehLR2Zlt"
      },
      "outputs": [],
      "source": [
        "rdt_classifier = DecisionTreeClassifier(random_state=42)"
      ]
    },
    {
      "cell_type": "code",
      "execution_count": null,
      "metadata": {
        "colab": {
          "background_save": true
        },
        "id": "zVFIZ0uI2b6S"
      },
      "outputs": [],
      "source": [
        "rdt_classifier.fit(x_train, y_train)\n",
        "y_pred = rdt_classifier.predict(x_test)"
      ]
    },
    {
      "cell_type": "code",
      "execution_count": null,
      "metadata": {
        "colab": {
          "background_save": true
        },
        "id": "GBxe9zFz2a0a"
      },
      "outputs": [],
      "source": [
        "print('Accuracy Score:', accuracy_score(y_test, y_pred))"
      ]
    },
    {
      "cell_type": "code",
      "execution_count": null,
      "metadata": {
        "colab": {
          "background_save": true
        },
        "id": "slDqWT_AeAg-"
      },
      "outputs": [],
      "source": [
        "conf_matrix = confusion_matrix(y_true=y_test, y_pred=y_pred)\n",
        "fig, ax = plt.subplots(figsize=(5, 5))\n",
        "ax.matshow(conf_matrix, cmap=plt.cm.Blues, alpha=0.3)\n",
        "for i in range(conf_matrix.shape[0]):\n",
        "    for j in range(conf_matrix.shape[1]):\n",
        "        ax.text(x=j, y=i,s=conf_matrix[i, j], va='center', ha='center', size='xx-large')\n",
        "\n",
        "plt.xlabel('Predictions', fontsize=18)\n",
        "plt.ylabel('Actuals', fontsize=18)\n",
        "plt.title('Confusion Matrix', fontsize=18)\n",
        "plt.show()\n",
        "print(classification_report(y_test, y_pred))"
      ]
    },
    {
      "cell_type": "markdown",
      "metadata": {
        "id": "EHXfsctI0pF-"
      },
      "source": [
        "##SVM"
      ]
    },
    {
      "cell_type": "code",
      "execution_count": null,
      "metadata": {
        "colab": {
          "background_save": true
        },
        "id": "csk1jniI3C9Y"
      },
      "outputs": [],
      "source": [
        "svm_classifier = SVC(kernel='linear')"
      ]
    },
    {
      "cell_type": "code",
      "execution_count": null,
      "metadata": {
        "id": "OF5EW6oN3fhV"
      },
      "outputs": [],
      "source": [
        "svm_classifier.fit(x_train, y_train)\n",
        "y_pred = svm_classifier.predict(x_test)\n"
      ]
    },
    {
      "cell_type": "code",
      "execution_count": null,
      "metadata": {
        "id": "QKeNBvhs3fyR"
      },
      "outputs": [],
      "source": [
        "print('Accuracy Score:', accuracy_score(y_test, y_pred))"
      ]
    },
    {
      "cell_type": "code",
      "execution_count": null,
      "metadata": {
        "id": "1JM_Ty8_d-by"
      },
      "outputs": [],
      "source": [
        "conf_matrix = confusion_matrix(y_true=y_test, y_pred=y_pred)\n",
        "fig, ax = plt.subplots(figsize=(5, 5))\n",
        "ax.matshow(conf_matrix, cmap=plt.cm.Blues, alpha=0.3)\n",
        "for i in range(conf_matrix.shape[0]):\n",
        "    for j in range(conf_matrix.shape[1]):\n",
        "        ax.text(x=j, y=i,s=conf_matrix[i, j], va='center', ha='center', size='xx-large')\n",
        "\n",
        "plt.xlabel('Predictions', fontsize=18)\n",
        "plt.ylabel('Actuals', fontsize=18)\n",
        "plt.title('Confusion Matrix', fontsize=18)\n",
        "plt.show()\n",
        "print(classification_report(y_test, y_pred))"
      ]
    },
    {
      "cell_type": "code",
      "execution_count": null,
      "metadata": {
        "id": "FuP_z7B85mLI"
      },
      "outputs": [],
      "source": [
        "poly_svm = svm.SVC(kernel='poly', degree=3)"
      ]
    },
    {
      "cell_type": "code",
      "execution_count": null,
      "metadata": {
        "id": "4XkC5x5x5_fK"
      },
      "outputs": [],
      "source": [
        "poly_svm.fit(x_train, y_train)\n",
        "y_pred = poly_svm.predict(x_test)"
      ]
    },
    {
      "cell_type": "code",
      "execution_count": null,
      "metadata": {
        "id": "UPPoE4TC5_xE"
      },
      "outputs": [],
      "source": [
        "accuracy = accuracy_score(y_test, y_pred)\n",
        "print(f\"Accuracy: {accuracy}\")"
      ]
    },
    {
      "cell_type": "code",
      "execution_count": null,
      "metadata": {
        "id": "5HqSSOZvd4t6"
      },
      "outputs": [],
      "source": [
        "conf_matrix = confusion_matrix(y_true=y_test, y_pred=y_pred)\n",
        "fig, ax = plt.subplots(figsize=(5, 5))\n",
        "ax.matshow(conf_matrix, cmap=plt.cm.Blues, alpha=0.3)\n",
        "for i in range(conf_matrix.shape[0]):\n",
        "    for j in range(conf_matrix.shape[1]):\n",
        "        ax.text(x=j, y=i,s=conf_matrix[i, j], va='center', ha='center', size='xx-large')\n",
        "\n",
        "plt.xlabel('Predictions', fontsize=18)\n",
        "plt.ylabel('Actuals', fontsize=18)\n",
        "plt.title('Confusion Matrix', fontsize=18)\n",
        "plt.show()\n",
        "print(classification_report(y_test, y_pred))"
      ]
    },
    {
      "cell_type": "code",
      "execution_count": null,
      "metadata": {
        "id": "YLJDqYyH6aZJ"
      },
      "outputs": [],
      "source": [
        "rbf_svm = svm.SVC(kernel='rbf', gamma='scale')"
      ]
    },
    {
      "cell_type": "code",
      "execution_count": null,
      "metadata": {
        "id": "Ni_i-ykz6eM7"
      },
      "outputs": [],
      "source": [
        "rbf_svm.fit(x_train, y_train)\n",
        "y_pred = rbf_svm.predict(x_test)"
      ]
    },
    {
      "cell_type": "code",
      "execution_count": null,
      "metadata": {
        "id": "lVwPc68Q6d4M"
      },
      "outputs": [],
      "source": [
        "accuracy = accuracy_score(y_test, y_pred)\n",
        "print(f\"Accuracy: {accuracy}\")"
      ]
    },
    {
      "cell_type": "code",
      "execution_count": null,
      "metadata": {
        "id": "aC_aNMA0dw4_"
      },
      "outputs": [],
      "source": [
        "conf_matrix = confusion_matrix(y_true=y_test, y_pred=y_pred)\n",
        "fig, ax = plt.subplots(figsize=(5, 5))\n",
        "ax.matshow(conf_matrix, cmap=plt.cm.Blues, alpha=0.3)\n",
        "for i in range(conf_matrix.shape[0]):\n",
        "    for j in range(conf_matrix.shape[1]):\n",
        "        ax.text(x=j, y=i,s=conf_matrix[i, j], va='center', ha='center', size='xx-large')\n",
        "\n",
        "plt.xlabel('Predictions', fontsize=18)\n",
        "plt.ylabel('Actuals', fontsize=18)\n",
        "plt.title('Confusion Matrix', fontsize=18)\n",
        "plt.show()\n",
        "print(classification_report(y_test, y_pred))"
      ]
    },
    {
      "cell_type": "code",
      "execution_count": null,
      "metadata": {
        "id": "9GQtoILT6kJz"
      },
      "outputs": [],
      "source": [
        "sig_svm = svm.SVC(kernel='sigmoid')"
      ]
    },
    {
      "cell_type": "code",
      "execution_count": null,
      "metadata": {
        "id": "y_iUOL2c6x7z"
      },
      "outputs": [],
      "source": [
        "sig_svm.fit(x_train, y_train)\n",
        "y_pred = sig_svm.predict(x_test)"
      ]
    },
    {
      "cell_type": "code",
      "execution_count": null,
      "metadata": {
        "id": "TL0QNAFf6yNf"
      },
      "outputs": [],
      "source": [
        "accuracy = accuracy_score(y_test, y_pred)\n",
        "print(f\"Accuracy: {accuracy}\")"
      ]
    },
    {
      "cell_type": "code",
      "execution_count": null,
      "metadata": {
        "id": "40P41mX6ZRTn"
      },
      "outputs": [],
      "source": [
        "conf_matrix = confusion_matrix(y_true=y_test, y_pred=y_pred)\n",
        "fig, ax = plt.subplots(figsize=(5, 5))\n",
        "ax.matshow(conf_matrix, cmap=plt.cm.Blues, alpha=0.3)\n",
        "for i in range(conf_matrix.shape[0]):\n",
        "    for j in range(conf_matrix.shape[1]):\n",
        "        ax.text(x=j, y=i,s=conf_matrix[i, j], va='center', ha='center', size='xx-large')\n",
        "\n",
        "plt.xlabel('Predictions', fontsize=18)\n",
        "plt.ylabel('Actuals', fontsize=18)\n",
        "plt.title('Confusion Matrix', fontsize=18)\n",
        "plt.show()\n",
        "print(classification_report(y_test, y_pred))"
      ]
    },
    {
      "cell_type": "markdown",
      "metadata": {
        "id": "hL7nw6bG7ixQ"
      },
      "source": [
        "## Refining models"
      ]
    },
    {
      "cell_type": "code",
      "execution_count": null,
      "metadata": {
        "id": "0eCGalQObaJ3"
      },
      "outputs": [],
      "source": [
        "bnb2 = BernoulliNB(binarize = True)\n",
        "bnb2.fit(x_train, y_train)"
      ]
    },
    {
      "cell_type": "code",
      "execution_count": null,
      "metadata": {
        "id": "xPO6s7XQbqj4"
      },
      "outputs": [],
      "source": [
        "y_pred = bnb2.predict(x_test)"
      ]
    },
    {
      "cell_type": "code",
      "execution_count": null,
      "metadata": {
        "id": "CqPg0nJ8bvfw"
      },
      "outputs": [],
      "source": [
        "accuracy = accuracy_score(y_test, y_pred)\n",
        "print(\"Accuracy:\", accuracy)"
      ]
    },
    {
      "cell_type": "code",
      "execution_count": null,
      "metadata": {
        "id": "OpN3OGnGb2Iy"
      },
      "outputs": [],
      "source": [
        "conf_matrix = confusion_matrix(y_true=y_test, y_pred=y_pred)\n",
        "fig, ax = plt.subplots(figsize=(5, 5))\n",
        "ax.matshow(conf_matrix, cmap=plt.cm.Blues, alpha=0.3)\n",
        "for i in range(conf_matrix.shape[0]):\n",
        "    for j in range(conf_matrix.shape[1]):\n",
        "        ax.text(x=j, y=i,s=conf_matrix[i, j], va='center', ha='center', size='xx-large')\n",
        "\n",
        "plt.xlabel('Predictions', fontsize=18)\n",
        "plt.ylabel('Actuals', fontsize=18)\n",
        "plt.title('Confusion Matrix', fontsize=18)\n",
        "plt.show()\n",
        "print(classification_report(y_test, y_pred))"
      ]
    },
    {
      "cell_type": "code",
      "execution_count": null,
      "metadata": {
        "id": "t_pzlBvY7otn"
      },
      "outputs": [],
      "source": [
        "rdt_classifier2 = DecisionTreeClassifier(random_state=42,criterion = 'entropy', max_depth = 16)"
      ]
    },
    {
      "cell_type": "code",
      "execution_count": null,
      "metadata": {
        "id": "1E4a8RaZVclE"
      },
      "outputs": [],
      "source": [
        "rdt_classifier2.fit(x_train, y_train)\n",
        "y_pred = rdt_classifier2.predict(x_test)"
      ]
    },
    {
      "cell_type": "code",
      "execution_count": null,
      "metadata": {
        "id": "pAR9h92xVh9G"
      },
      "outputs": [],
      "source": [
        "print('Accuracy Score:', accuracy_score(y_test, y_pred))"
      ]
    },
    {
      "cell_type": "code",
      "execution_count": null,
      "metadata": {
        "id": "2MPkP39FcbEU"
      },
      "outputs": [],
      "source": [
        "conf_matrix = confusion_matrix(y_true=y_test, y_pred=y_pred)\n",
        "fig, ax = plt.subplots(figsize=(5, 5))\n",
        "ax.matshow(conf_matrix, cmap=plt.cm.Blues, alpha=0.3)\n",
        "for i in range(conf_matrix.shape[0]):\n",
        "    for j in range(conf_matrix.shape[1]):\n",
        "        ax.text(x=j, y=i,s=conf_matrix[i, j], va='center', ha='center', size='xx-large')\n",
        "\n",
        "plt.xlabel('Predictions', fontsize=18)\n",
        "plt.ylabel('Actuals', fontsize=18)\n",
        "plt.title('Confusion Matrix', fontsize=18)\n",
        "plt.show()\n",
        "print(classification_report(y_test, y_pred))"
      ]
    },
    {
      "cell_type": "code",
      "execution_count": null,
      "metadata": {
        "id": "6zvjAfKrZHzO"
      },
      "outputs": [],
      "source": [
        "rdt_classifier3 = DecisionTreeClassifier(random_state=42,criterion = 'gini', max_depth = 16)"
      ]
    },
    {
      "cell_type": "code",
      "execution_count": null,
      "metadata": {
        "id": "HZ7biTNxZKxC"
      },
      "outputs": [],
      "source": [
        "rdt_classifier3.fit(x_train, y_train)\n",
        "y_pred = rdt_classifier3.predict(x_test)"
      ]
    },
    {
      "cell_type": "code",
      "execution_count": null,
      "metadata": {
        "id": "sdveIA16ZNR_"
      },
      "outputs": [],
      "source": [
        "print('Accuracy Score:', accuracy_score(y_test, y_pred))"
      ]
    },
    {
      "cell_type": "code",
      "execution_count": null,
      "metadata": {
        "id": "0a4ywOcmcebq"
      },
      "outputs": [],
      "source": [
        "conf_matrix = confusion_matrix(y_true=y_test, y_pred=y_pred)\n",
        "fig, ax = plt.subplots(figsize=(5, 5))\n",
        "ax.matshow(conf_matrix, cmap=plt.cm.Blues, alpha=0.3)\n",
        "for i in range(conf_matrix.shape[0]):\n",
        "    for j in range(conf_matrix.shape[1]):\n",
        "        ax.text(x=j, y=i,s=conf_matrix[i, j], va='center', ha='center', size='xx-large')\n",
        "\n",
        "plt.xlabel('Predictions', fontsize=18)\n",
        "plt.ylabel('Actuals', fontsize=18)\n",
        "plt.title('Confusion Matrix', fontsize=18)\n",
        "plt.show()\n",
        "print(classification_report(y_test, y_pred))"
      ]
    },
    {
      "cell_type": "code",
      "execution_count": null,
      "metadata": {
        "id": "LxfU0HPSZqI2"
      },
      "outputs": [],
      "source": [
        "rdt_classifier4 = DecisionTreeClassifier(random_state=42,criterion = 'log_loss', max_depth = 16)"
      ]
    },
    {
      "cell_type": "code",
      "execution_count": null,
      "metadata": {
        "id": "jM4Mp_uQZwTI"
      },
      "outputs": [],
      "source": [
        "rdt_classifier4.fit(x_train, y_train)\n",
        "y_pred = rdt_classifier4.predict(x_test)"
      ]
    },
    {
      "cell_type": "code",
      "execution_count": null,
      "metadata": {
        "id": "BGZTkVLWZwji"
      },
      "outputs": [],
      "source": [
        "print('Accuracy Score:', accuracy_score(y_test, y_pred))"
      ]
    },
    {
      "cell_type": "code",
      "execution_count": null,
      "metadata": {
        "id": "l9G27XoUchmR"
      },
      "outputs": [],
      "source": [
        "conf_matrix = confusion_matrix(y_true=y_test, y_pred=y_pred)\n",
        "fig, ax = plt.subplots(figsize=(5, 5))\n",
        "ax.matshow(conf_matrix, cmap=plt.cm.Blues, alpha=0.3)\n",
        "for i in range(conf_matrix.shape[0]):\n",
        "    for j in range(conf_matrix.shape[1]):\n",
        "        ax.text(x=j, y=i,s=conf_matrix[i, j], va='center', ha='center', size='xx-large')\n",
        "\n",
        "plt.xlabel('Predictions', fontsize=18)\n",
        "plt.ylabel('Actuals', fontsize=18)\n",
        "plt.title('Confusion Matrix', fontsize=18)\n",
        "plt.show()\n",
        "print(classification_report(y_test, y_pred))"
      ]
    }
  ],
  "metadata": {
    "colab": {
      "provenance": [],
      "mount_file_id": "1zAikeL-pWWvw9geJUWod8piQBlH9xhkk",
      "authorship_tag": "ABX9TyPpDVsveQYTLu1w/VXMzQye"
    },
    "kernelspec": {
      "display_name": "Python 3",
      "name": "python3"
    },
    "language_info": {
      "name": "python"
    }
  },
  "nbformat": 4,
  "nbformat_minor": 0
}