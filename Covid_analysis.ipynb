{
  "cells": [
    {
      "cell_type": "markdown",
      "metadata": {
        "id": "bdwXp1zrAptc"
      },
      "source": [
        "#Coronavirus World Data Analysis\n",
        "#### In this notebook, we are going to look at a corona virus dataset and attempt to explore the data and answer some questions about the data."
      ]
    },
    {
      "cell_type": "code",
      "execution_count": 1,
      "metadata": {
        "id": "F5_YaGnPbKg8",
        "colab": {
          "base_uri": "https://localhost:8080/"
        },
        "outputId": "eb4c0af0-3389-4aed-b8d6-16387dd15f91"
      },
      "outputs": [
        {
          "output_type": "stream",
          "name": "stdout",
          "text": [
            "Mounted at /content/drive\n"
          ]
        }
      ],
      "source": [
        "from google.colab import drive\n",
        "drive.mount('/content/drive')"
      ]
    },
    {
      "cell_type": "code",
      "execution_count": 2,
      "metadata": {
        "id": "imdGRZXeAptl",
        "colab": {
          "base_uri": "https://localhost:8080/",
          "height": 331
        },
        "outputId": "4cb9d301-9034-4049-e87f-15e869398eb2"
      },
      "outputs": [
        {
          "output_type": "stream",
          "name": "stdout",
          "text": [
            "ERROR: unknown command \"nbconvert\"\n"
          ]
        },
        {
          "output_type": "execute_result",
          "data": {
            "text/plain": [
              "  Country/Region      Continent    Population  TotalCases  NewCases  \\\n",
              "0            USA  North America  3.311981e+08     5032179       NaN   \n",
              "1         Brazil  South America  2.127107e+08     2917562       NaN   \n",
              "2          India           Asia  1.381345e+09     2025409       NaN   \n",
              "3         Russia         Europe  1.459409e+08      871894       NaN   \n",
              "4   South Africa         Africa  5.938157e+07      538184       NaN   \n",
              "\n",
              "   TotalDeaths  NewDeaths  TotalRecovered  NewRecovered  ActiveCases  \\\n",
              "0     162804.0        NaN       2576668.0           NaN    2292707.0   \n",
              "1      98644.0        NaN       2047660.0           NaN     771258.0   \n",
              "2      41638.0        NaN       1377384.0           NaN     606387.0   \n",
              "3      14606.0        NaN        676357.0           NaN     180931.0   \n",
              "4       9604.0        NaN        387316.0           NaN     141264.0   \n",
              "\n",
              "   Serious,Critical  Tot Cases/1M pop  Deaths/1M pop  TotalTests  \\\n",
              "0           18296.0           15194.0          492.0  63139605.0   \n",
              "1            8318.0           13716.0          464.0  13206188.0   \n",
              "2            8944.0            1466.0           30.0  22149351.0   \n",
              "3            2300.0            5974.0          100.0  29716907.0   \n",
              "4             539.0            9063.0          162.0   3149807.0   \n",
              "\n",
              "   Tests/1M pop      WHO Region  \n",
              "0      190640.0        Americas  \n",
              "1       62085.0        Americas  \n",
              "2       16035.0  South-EastAsia  \n",
              "3      203623.0          Europe  \n",
              "4       53044.0          Africa  "
            ],
            "text/html": [
              "\n",
              "  <div id=\"df-e93d8c2a-d2c0-464f-a095-12d4a00eff9e\" class=\"colab-df-container\">\n",
              "    <div>\n",
              "<style scoped>\n",
              "    .dataframe tbody tr th:only-of-type {\n",
              "        vertical-align: middle;\n",
              "    }\n",
              "\n",
              "    .dataframe tbody tr th {\n",
              "        vertical-align: top;\n",
              "    }\n",
              "\n",
              "    .dataframe thead th {\n",
              "        text-align: right;\n",
              "    }\n",
              "</style>\n",
              "<table border=\"1\" class=\"dataframe\">\n",
              "  <thead>\n",
              "    <tr style=\"text-align: right;\">\n",
              "      <th></th>\n",
              "      <th>Country/Region</th>\n",
              "      <th>Continent</th>\n",
              "      <th>Population</th>\n",
              "      <th>TotalCases</th>\n",
              "      <th>NewCases</th>\n",
              "      <th>TotalDeaths</th>\n",
              "      <th>NewDeaths</th>\n",
              "      <th>TotalRecovered</th>\n",
              "      <th>NewRecovered</th>\n",
              "      <th>ActiveCases</th>\n",
              "      <th>Serious,Critical</th>\n",
              "      <th>Tot Cases/1M pop</th>\n",
              "      <th>Deaths/1M pop</th>\n",
              "      <th>TotalTests</th>\n",
              "      <th>Tests/1M pop</th>\n",
              "      <th>WHO Region</th>\n",
              "    </tr>\n",
              "  </thead>\n",
              "  <tbody>\n",
              "    <tr>\n",
              "      <th>0</th>\n",
              "      <td>USA</td>\n",
              "      <td>North America</td>\n",
              "      <td>3.311981e+08</td>\n",
              "      <td>5032179</td>\n",
              "      <td>NaN</td>\n",
              "      <td>162804.0</td>\n",
              "      <td>NaN</td>\n",
              "      <td>2576668.0</td>\n",
              "      <td>NaN</td>\n",
              "      <td>2292707.0</td>\n",
              "      <td>18296.0</td>\n",
              "      <td>15194.0</td>\n",
              "      <td>492.0</td>\n",
              "      <td>63139605.0</td>\n",
              "      <td>190640.0</td>\n",
              "      <td>Americas</td>\n",
              "    </tr>\n",
              "    <tr>\n",
              "      <th>1</th>\n",
              "      <td>Brazil</td>\n",
              "      <td>South America</td>\n",
              "      <td>2.127107e+08</td>\n",
              "      <td>2917562</td>\n",
              "      <td>NaN</td>\n",
              "      <td>98644.0</td>\n",
              "      <td>NaN</td>\n",
              "      <td>2047660.0</td>\n",
              "      <td>NaN</td>\n",
              "      <td>771258.0</td>\n",
              "      <td>8318.0</td>\n",
              "      <td>13716.0</td>\n",
              "      <td>464.0</td>\n",
              "      <td>13206188.0</td>\n",
              "      <td>62085.0</td>\n",
              "      <td>Americas</td>\n",
              "    </tr>\n",
              "    <tr>\n",
              "      <th>2</th>\n",
              "      <td>India</td>\n",
              "      <td>Asia</td>\n",
              "      <td>1.381345e+09</td>\n",
              "      <td>2025409</td>\n",
              "      <td>NaN</td>\n",
              "      <td>41638.0</td>\n",
              "      <td>NaN</td>\n",
              "      <td>1377384.0</td>\n",
              "      <td>NaN</td>\n",
              "      <td>606387.0</td>\n",
              "      <td>8944.0</td>\n",
              "      <td>1466.0</td>\n",
              "      <td>30.0</td>\n",
              "      <td>22149351.0</td>\n",
              "      <td>16035.0</td>\n",
              "      <td>South-EastAsia</td>\n",
              "    </tr>\n",
              "    <tr>\n",
              "      <th>3</th>\n",
              "      <td>Russia</td>\n",
              "      <td>Europe</td>\n",
              "      <td>1.459409e+08</td>\n",
              "      <td>871894</td>\n",
              "      <td>NaN</td>\n",
              "      <td>14606.0</td>\n",
              "      <td>NaN</td>\n",
              "      <td>676357.0</td>\n",
              "      <td>NaN</td>\n",
              "      <td>180931.0</td>\n",
              "      <td>2300.0</td>\n",
              "      <td>5974.0</td>\n",
              "      <td>100.0</td>\n",
              "      <td>29716907.0</td>\n",
              "      <td>203623.0</td>\n",
              "      <td>Europe</td>\n",
              "    </tr>\n",
              "    <tr>\n",
              "      <th>4</th>\n",
              "      <td>South Africa</td>\n",
              "      <td>Africa</td>\n",
              "      <td>5.938157e+07</td>\n",
              "      <td>538184</td>\n",
              "      <td>NaN</td>\n",
              "      <td>9604.0</td>\n",
              "      <td>NaN</td>\n",
              "      <td>387316.0</td>\n",
              "      <td>NaN</td>\n",
              "      <td>141264.0</td>\n",
              "      <td>539.0</td>\n",
              "      <td>9063.0</td>\n",
              "      <td>162.0</td>\n",
              "      <td>3149807.0</td>\n",
              "      <td>53044.0</td>\n",
              "      <td>Africa</td>\n",
              "    </tr>\n",
              "  </tbody>\n",
              "</table>\n",
              "</div>\n",
              "    <div class=\"colab-df-buttons\">\n",
              "\n",
              "  <div class=\"colab-df-container\">\n",
              "    <button class=\"colab-df-convert\" onclick=\"convertToInteractive('df-e93d8c2a-d2c0-464f-a095-12d4a00eff9e')\"\n",
              "            title=\"Convert this dataframe to an interactive table.\"\n",
              "            style=\"display:none;\">\n",
              "\n",
              "  <svg xmlns=\"http://www.w3.org/2000/svg\" height=\"24px\" viewBox=\"0 -960 960 960\">\n",
              "    <path d=\"M120-120v-720h720v720H120Zm60-500h600v-160H180v160Zm220 220h160v-160H400v160Zm0 220h160v-160H400v160ZM180-400h160v-160H180v160Zm440 0h160v-160H620v160ZM180-180h160v-160H180v160Zm440 0h160v-160H620v160Z\"/>\n",
              "  </svg>\n",
              "    </button>\n",
              "\n",
              "  <style>\n",
              "    .colab-df-container {\n",
              "      display:flex;\n",
              "      gap: 12px;\n",
              "    }\n",
              "\n",
              "    .colab-df-convert {\n",
              "      background-color: #E8F0FE;\n",
              "      border: none;\n",
              "      border-radius: 50%;\n",
              "      cursor: pointer;\n",
              "      display: none;\n",
              "      fill: #1967D2;\n",
              "      height: 32px;\n",
              "      padding: 0 0 0 0;\n",
              "      width: 32px;\n",
              "    }\n",
              "\n",
              "    .colab-df-convert:hover {\n",
              "      background-color: #E2EBFA;\n",
              "      box-shadow: 0px 1px 2px rgba(60, 64, 67, 0.3), 0px 1px 3px 1px rgba(60, 64, 67, 0.15);\n",
              "      fill: #174EA6;\n",
              "    }\n",
              "\n",
              "    .colab-df-buttons div {\n",
              "      margin-bottom: 4px;\n",
              "    }\n",
              "\n",
              "    [theme=dark] .colab-df-convert {\n",
              "      background-color: #3B4455;\n",
              "      fill: #D2E3FC;\n",
              "    }\n",
              "\n",
              "    [theme=dark] .colab-df-convert:hover {\n",
              "      background-color: #434B5C;\n",
              "      box-shadow: 0px 1px 3px 1px rgba(0, 0, 0, 0.15);\n",
              "      filter: drop-shadow(0px 1px 2px rgba(0, 0, 0, 0.3));\n",
              "      fill: #FFFFFF;\n",
              "    }\n",
              "  </style>\n",
              "\n",
              "    <script>\n",
              "      const buttonEl =\n",
              "        document.querySelector('#df-e93d8c2a-d2c0-464f-a095-12d4a00eff9e button.colab-df-convert');\n",
              "      buttonEl.style.display =\n",
              "        google.colab.kernel.accessAllowed ? 'block' : 'none';\n",
              "\n",
              "      async function convertToInteractive(key) {\n",
              "        const element = document.querySelector('#df-e93d8c2a-d2c0-464f-a095-12d4a00eff9e');\n",
              "        const dataTable =\n",
              "          await google.colab.kernel.invokeFunction('convertToInteractive',\n",
              "                                                    [key], {});\n",
              "        if (!dataTable) return;\n",
              "\n",
              "        const docLinkHtml = 'Like what you see? Visit the ' +\n",
              "          '<a target=\"_blank\" href=https://colab.research.google.com/notebooks/data_table.ipynb>data table notebook</a>'\n",
              "          + ' to learn more about interactive tables.';\n",
              "        element.innerHTML = '';\n",
              "        dataTable['output_type'] = 'display_data';\n",
              "        await google.colab.output.renderOutput(dataTable, element);\n",
              "        const docLink = document.createElement('div');\n",
              "        docLink.innerHTML = docLinkHtml;\n",
              "        element.appendChild(docLink);\n",
              "      }\n",
              "    </script>\n",
              "  </div>\n",
              "\n",
              "\n",
              "<div id=\"df-f8bb214e-50be-406d-a9ca-e8af28409eec\">\n",
              "  <button class=\"colab-df-quickchart\" onclick=\"quickchart('df-f8bb214e-50be-406d-a9ca-e8af28409eec')\"\n",
              "            title=\"Suggest charts\"\n",
              "            style=\"display:none;\">\n",
              "\n",
              "<svg xmlns=\"http://www.w3.org/2000/svg\" height=\"24px\"viewBox=\"0 0 24 24\"\n",
              "     width=\"24px\">\n",
              "    <g>\n",
              "        <path d=\"M19 3H5c-1.1 0-2 .9-2 2v14c0 1.1.9 2 2 2h14c1.1 0 2-.9 2-2V5c0-1.1-.9-2-2-2zM9 17H7v-7h2v7zm4 0h-2V7h2v10zm4 0h-2v-4h2v4z\"/>\n",
              "    </g>\n",
              "</svg>\n",
              "  </button>\n",
              "\n",
              "<style>\n",
              "  .colab-df-quickchart {\n",
              "      --bg-color: #E8F0FE;\n",
              "      --fill-color: #1967D2;\n",
              "      --hover-bg-color: #E2EBFA;\n",
              "      --hover-fill-color: #174EA6;\n",
              "      --disabled-fill-color: #AAA;\n",
              "      --disabled-bg-color: #DDD;\n",
              "  }\n",
              "\n",
              "  [theme=dark] .colab-df-quickchart {\n",
              "      --bg-color: #3B4455;\n",
              "      --fill-color: #D2E3FC;\n",
              "      --hover-bg-color: #434B5C;\n",
              "      --hover-fill-color: #FFFFFF;\n",
              "      --disabled-bg-color: #3B4455;\n",
              "      --disabled-fill-color: #666;\n",
              "  }\n",
              "\n",
              "  .colab-df-quickchart {\n",
              "    background-color: var(--bg-color);\n",
              "    border: none;\n",
              "    border-radius: 50%;\n",
              "    cursor: pointer;\n",
              "    display: none;\n",
              "    fill: var(--fill-color);\n",
              "    height: 32px;\n",
              "    padding: 0;\n",
              "    width: 32px;\n",
              "  }\n",
              "\n",
              "  .colab-df-quickchart:hover {\n",
              "    background-color: var(--hover-bg-color);\n",
              "    box-shadow: 0 1px 2px rgba(60, 64, 67, 0.3), 0 1px 3px 1px rgba(60, 64, 67, 0.15);\n",
              "    fill: var(--button-hover-fill-color);\n",
              "  }\n",
              "\n",
              "  .colab-df-quickchart-complete:disabled,\n",
              "  .colab-df-quickchart-complete:disabled:hover {\n",
              "    background-color: var(--disabled-bg-color);\n",
              "    fill: var(--disabled-fill-color);\n",
              "    box-shadow: none;\n",
              "  }\n",
              "\n",
              "  .colab-df-spinner {\n",
              "    border: 2px solid var(--fill-color);\n",
              "    border-color: transparent;\n",
              "    border-bottom-color: var(--fill-color);\n",
              "    animation:\n",
              "      spin 1s steps(1) infinite;\n",
              "  }\n",
              "\n",
              "  @keyframes spin {\n",
              "    0% {\n",
              "      border-color: transparent;\n",
              "      border-bottom-color: var(--fill-color);\n",
              "      border-left-color: var(--fill-color);\n",
              "    }\n",
              "    20% {\n",
              "      border-color: transparent;\n",
              "      border-left-color: var(--fill-color);\n",
              "      border-top-color: var(--fill-color);\n",
              "    }\n",
              "    30% {\n",
              "      border-color: transparent;\n",
              "      border-left-color: var(--fill-color);\n",
              "      border-top-color: var(--fill-color);\n",
              "      border-right-color: var(--fill-color);\n",
              "    }\n",
              "    40% {\n",
              "      border-color: transparent;\n",
              "      border-right-color: var(--fill-color);\n",
              "      border-top-color: var(--fill-color);\n",
              "    }\n",
              "    60% {\n",
              "      border-color: transparent;\n",
              "      border-right-color: var(--fill-color);\n",
              "    }\n",
              "    80% {\n",
              "      border-color: transparent;\n",
              "      border-right-color: var(--fill-color);\n",
              "      border-bottom-color: var(--fill-color);\n",
              "    }\n",
              "    90% {\n",
              "      border-color: transparent;\n",
              "      border-bottom-color: var(--fill-color);\n",
              "    }\n",
              "  }\n",
              "</style>\n",
              "\n",
              "  <script>\n",
              "    async function quickchart(key) {\n",
              "      const quickchartButtonEl =\n",
              "        document.querySelector('#' + key + ' button');\n",
              "      quickchartButtonEl.disabled = true;  // To prevent multiple clicks.\n",
              "      quickchartButtonEl.classList.add('colab-df-spinner');\n",
              "      try {\n",
              "        const charts = await google.colab.kernel.invokeFunction(\n",
              "            'suggestCharts', [key], {});\n",
              "      } catch (error) {\n",
              "        console.error('Error during call to suggestCharts:', error);\n",
              "      }\n",
              "      quickchartButtonEl.classList.remove('colab-df-spinner');\n",
              "      quickchartButtonEl.classList.add('colab-df-quickchart-complete');\n",
              "    }\n",
              "    (() => {\n",
              "      let quickchartButtonEl =\n",
              "        document.querySelector('#df-f8bb214e-50be-406d-a9ca-e8af28409eec button');\n",
              "      quickchartButtonEl.style.display =\n",
              "        google.colab.kernel.accessAllowed ? 'block' : 'none';\n",
              "    })();\n",
              "  </script>\n",
              "</div>\n",
              "    </div>\n",
              "  </div>\n"
            ],
            "application/vnd.google.colaboratory.intrinsic+json": {
              "type": "dataframe",
              "variable_name": "df",
              "summary": "{\n  \"name\": \"df\",\n  \"rows\": 209,\n  \"fields\": [\n    {\n      \"column\": \"Country/Region\",\n      \"properties\": {\n        \"dtype\": \"string\",\n        \"samples\": [\n          \"Oman\",\n          \"Martinique\",\n          \"French Guiana\"\n        ],\n        \"num_unique_values\": 209,\n        \"semantic_type\": \"\",\n        \"description\": \"\"\n      }\n    },\n    {\n      \"column\": \"Continent\",\n      \"properties\": {\n        \"dtype\": \"category\",\n        \"samples\": [\n          \"North America\",\n          \"South America\",\n          \"Australia/Oceania\"\n        ],\n        \"num_unique_values\": 6,\n        \"semantic_type\": \"\",\n        \"description\": \"\"\n      }\n    },\n    {\n      \"column\": \"Population\",\n      \"properties\": {\n        \"dtype\": \"number\",\n        \"std\": 104766099.48117349,\n        \"min\": 801.0,\n        \"max\": 1381344997.0,\n        \"samples\": [\n          23821199.0,\n          60452568.0,\n          5794279.0\n        ],\n        \"num_unique_values\": 208,\n        \"semantic_type\": \"\",\n        \"description\": \"\"\n      }\n    },\n    {\n      \"column\": \"TotalCases\",\n      \"properties\": {\n        \"dtype\": \"number\",\n        \"std\": 432586,\n        \"min\": 10,\n        \"max\": 5032179,\n        \"samples\": [\n          249204,\n          354530,\n          17\n        ],\n        \"num_unique_values\": 206,\n        \"semantic_type\": \"\",\n        \"description\": \"\"\n      }\n    },\n    {\n      \"column\": \"NewCases\",\n      \"properties\": {\n        \"dtype\": \"number\",\n        \"std\": 3129.611424229319,\n        \"min\": 20.0,\n        \"max\": 6590.0,\n        \"samples\": [\n          1282.0,\n          30.0,\n          6590.0\n        ],\n        \"num_unique_values\": 4,\n        \"semantic_type\": \"\",\n        \"description\": \"\"\n      }\n    },\n    {\n      \"column\": \"TotalDeaths\",\n      \"properties\": {\n        \"dtype\": \"number\",\n        \"std\": 15487.184877168185,\n        \"min\": 1.0,\n        \"max\": 162804.0,\n        \"samples\": [\n          617.0,\n          9252.0,\n          5.0\n        ],\n        \"num_unique_values\": 150,\n        \"semantic_type\": \"\",\n        \"description\": \"\"\n      }\n    },\n    {\n      \"column\": \"NewDeaths\",\n      \"properties\": {\n        \"dtype\": \"number\",\n        \"std\": 451.1995124110841,\n        \"min\": 1.0,\n        \"max\": 819.0,\n        \"samples\": [\n          819.0,\n          80.0,\n          1.0\n        ],\n        \"num_unique_values\": 3,\n        \"semantic_type\": \"\",\n        \"description\": \"\"\n      }\n    },\n    {\n      \"column\": \"TotalRecovered\",\n      \"properties\": {\n        \"dtype\": \"number\",\n        \"std\": 256698.40689838002,\n        \"min\": 7.0,\n        \"max\": 2576668.0,\n        \"samples\": [\n          652.0,\n          99852.0,\n          40539.0\n        ],\n        \"num_unique_values\": 201,\n        \"semantic_type\": \"\",\n        \"description\": \"\"\n      }\n    },\n    {\n      \"column\": \"NewRecovered\",\n      \"properties\": {\n        \"dtype\": \"number\",\n        \"std\": 2154.779803135346,\n        \"min\": 42.0,\n        \"max\": 4140.0,\n        \"samples\": [\n          4140.0,\n          936.0,\n          42.0\n        ],\n        \"num_unique_values\": 3,\n        \"semantic_type\": \"\",\n        \"description\": \"\"\n      }\n    },\n    {\n      \"column\": \"ActiveCases\",\n      \"properties\": {\n        \"dtype\": \"number\",\n        \"std\": 174632.7369279219,\n        \"min\": 0.0,\n        \"max\": 2292707.0,\n        \"samples\": [\n          50473.0,\n          37559.0,\n          17.0\n        ],\n        \"num_unique_values\": 180,\n        \"semantic_type\": \"\",\n        \"description\": \"\"\n      }\n    },\n    {\n      \"column\": \"Serious,Critical\",\n      \"properties\": {\n        \"dtype\": \"number\",\n        \"std\": 2047.5186133519667,\n        \"min\": 1.0,\n        \"max\": 18296.0,\n        \"samples\": [\n          539.0,\n          11.0,\n          384.0\n        ],\n        \"num_unique_values\": 74,\n        \"semantic_type\": \"\",\n        \"description\": \"\"\n      }\n    },\n    {\n      \"column\": \"Tot Cases/1M pop\",\n      \"properties\": {\n        \"dtype\": \"number\",\n        \"std\": 5191.986456701242,\n        \"min\": 3.0,\n        \"max\": 39922.0,\n        \"samples\": [\n          1317.0,\n          4122.0,\n          15769.0\n        ],\n        \"num_unique_values\": 202,\n        \"semantic_type\": \"\",\n        \"description\": \"\"\n      }\n    },\n    {\n      \"column\": \"Deaths/1M pop\",\n      \"properties\": {\n        \"dtype\": \"number\",\n        \"std\": 174.9568620893644,\n        \"min\": 0.08,\n        \"max\": 1238.0,\n        \"samples\": [\n          38.0,\n          214.0,\n          162.0\n        ],\n        \"num_unique_values\": 107,\n        \"semantic_type\": \"\",\n        \"description\": \"\"\n      }\n    },\n    {\n      \"column\": \"TotalTests\",\n      \"properties\": {\n        \"dtype\": \"number\",\n        \"std\": 5553366.67043168,\n        \"min\": 61.0,\n        \"max\": 63139605.0,\n        \"samples\": [\n          1183.0,\n          4238.0,\n          29233.0\n        ],\n        \"num_unique_values\": 190,\n        \"semantic_type\": \"\",\n        \"description\": \"\"\n      }\n    },\n    {\n      \"column\": \"Tests/1M pop\",\n      \"properties\": {\n        \"dtype\": \"number\",\n        \"std\": 152730.59123995784,\n        \"min\": 4.0,\n        \"max\": 995282.0,\n        \"samples\": [\n          22050.0,\n          3209.0,\n          11485.0\n        ],\n        \"num_unique_values\": 190,\n        \"semantic_type\": \"\",\n        \"description\": \"\"\n      }\n    },\n    {\n      \"column\": \"WHO Region\",\n      \"properties\": {\n        \"dtype\": \"category\",\n        \"samples\": [\n          \"Americas\",\n          \"South-EastAsia\",\n          \"WesternPacific\"\n        ],\n        \"num_unique_values\": 6,\n        \"semantic_type\": \"\",\n        \"description\": \"\"\n      }\n    }\n  ]\n}"
            }
          },
          "metadata": {},
          "execution_count": 2
        }
      ],
      "source": [
        "import pandas as pd\n",
        "import matplotlib.pyplot as plt\n",
        "import seaborn as sns\n",
        "!pip nbconvert\n",
        "# load data\n",
        "df = pd.read_csv('/content/drive/MyDrive/Colab Notebooks/CRWK_CN6009_2023/worldometer_corona.csv')\n",
        "df.head(5)"
      ]
    },
    {
      "cell_type": "markdown",
      "metadata": {
        "id": "aBh5Xr2xApto"
      },
      "source": [
        "# **Data Preparation [10 marks]**\n",
        "At this stage, you need to manage `Null` (missing) values, use transformation/aggregation methods such as `drop, replace, column rename, etc.` to prepare data for modelling, analysis, and visualization."
      ]
    },
    {
      "cell_type": "code",
      "execution_count": 3,
      "metadata": {
        "id": "-_9fqJkJAptp",
        "colab": {
          "base_uri": "https://localhost:8080/",
          "height": 221
        },
        "outputId": "fe1b83a8-c3b8-4a15-faf4-23bc7a4b66b3"
      },
      "outputs": [
        {
          "output_type": "execute_result",
          "data": {
            "text/plain": [
              "<bound method NDFrame.sample of             Country/Region      Continent    Population  TotalCases  NewCases  \\\n",
              "0                      USA  North America  3.311981e+08     5032179       NaN   \n",
              "1                   Brazil  South America  2.127107e+08     2917562       NaN   \n",
              "2                    India           Asia  1.381345e+09     2025409       NaN   \n",
              "3                   Russia         Europe  1.459409e+08      871894       NaN   \n",
              "4             South Africa         Africa  5.938157e+07      538184       NaN   \n",
              "..                     ...            ...           ...         ...       ...   \n",
              "204             Montserrat  North America  4.992000e+03          13       NaN   \n",
              "205  Caribbean Netherlands  North America  2.624700e+04          13       NaN   \n",
              "206       Falkland Islands  South America  3.489000e+03          13       NaN   \n",
              "207           Vatican City         Europe  8.010000e+02          12       NaN   \n",
              "208         Western Sahara         Africa  5.986820e+05          10       NaN   \n",
              "\n",
              "     TotalDeaths  NewDeaths  TotalRecovered  NewRecovered  ActiveCases  \\\n",
              "0       162804.0        NaN       2576668.0           NaN    2292707.0   \n",
              "1        98644.0        NaN       2047660.0           NaN     771258.0   \n",
              "2        41638.0        NaN       1377384.0           NaN     606387.0   \n",
              "3        14606.0        NaN        676357.0           NaN     180931.0   \n",
              "4         9604.0        NaN        387316.0           NaN     141264.0   \n",
              "..           ...        ...             ...           ...          ...   \n",
              "204          1.0        NaN            10.0           NaN          2.0   \n",
              "205          NaN        NaN             7.0           NaN          6.0   \n",
              "206          NaN        NaN            13.0           NaN          0.0   \n",
              "207          NaN        NaN            12.0           NaN          0.0   \n",
              "208          1.0        NaN             8.0           NaN          1.0   \n",
              "\n",
              "     Serious,Critical  Tot Cases/1M pop  Deaths/1M pop  \n",
              "0             18296.0           15194.0          492.0  \n",
              "1              8318.0           13716.0          464.0  \n",
              "2              8944.0            1466.0           30.0  \n",
              "3              2300.0            5974.0          100.0  \n",
              "4               539.0            9063.0          162.0  \n",
              "..                ...               ...            ...  \n",
              "204               NaN            2604.0          200.0  \n",
              "205               NaN             495.0            NaN  \n",
              "206               NaN            3726.0            NaN  \n",
              "207               NaN           14981.0            NaN  \n",
              "208               NaN              17.0            2.0  \n",
              "\n",
              "[209 rows x 13 columns]>"
            ],
            "text/html": [
              "<div style=\"max-width:800px; border: 1px solid var(--colab-border-color);\"><style>\n",
              "      pre.function-repr-contents {\n",
              "        overflow-x: auto;\n",
              "        padding: 8px 12px;\n",
              "        max-height: 500px;\n",
              "      }\n",
              "\n",
              "      pre.function-repr-contents.function-repr-contents-collapsed {\n",
              "        cursor: pointer;\n",
              "        max-height: 100px;\n",
              "      }\n",
              "    </style>\n",
              "    <pre style=\"white-space: initial; background:\n",
              "         var(--colab-secondary-surface-color); padding: 8px 12px;\n",
              "         border-bottom: 1px solid var(--colab-border-color);\"><b>pandas.core.generic.NDFrame.sample</b><br/>def sample(n: int | None=None, frac: float | None=None, replace: bool_t=False, weights=None, random_state: RandomState | None=None, axis: Axis | None=None, ignore_index: bool_t=False) -&gt; NDFrameT</pre><pre class=\"function-repr-contents function-repr-contents-collapsed\" style=\"\"><a class=\"filepath\" style=\"display:none\" href=\"#\">/usr/local/lib/python3.10/dist-packages/pandas/core/generic.py</a>Return a random sample of items from an axis of object.\n",
              "\n",
              "You can use `random_state` for reproducibility.\n",
              "\n",
              "Parameters\n",
              "----------\n",
              "n : int, optional\n",
              "    Number of items from axis to return. Cannot be used with `frac`.\n",
              "    Default = 1 if `frac` = None.\n",
              "frac : float, optional\n",
              "    Fraction of axis items to return. Cannot be used with `n`.\n",
              "replace : bool, default False\n",
              "    Allow or disallow sampling of the same row more than once.\n",
              "weights : str or ndarray-like, optional\n",
              "    Default &#x27;None&#x27; results in equal probability weighting.\n",
              "    If passed a Series, will align with target object on index. Index\n",
              "    values in weights not found in sampled object will be ignored and\n",
              "    index values in sampled object not in weights will be assigned\n",
              "    weights of zero.\n",
              "    If called on a DataFrame, will accept the name of a column\n",
              "    when axis = 0.\n",
              "    Unless weights are a Series, weights must be same length as axis\n",
              "    being sampled.\n",
              "    If weights do not sum to 1, they will be normalized to sum to 1.\n",
              "    Missing values in the weights column will be treated as zero.\n",
              "    Infinite values not allowed.\n",
              "random_state : int, array-like, BitGenerator, np.random.RandomState, np.random.Generator, optional\n",
              "    If int, array-like, or BitGenerator, seed for random number generator.\n",
              "    If np.random.RandomState or np.random.Generator, use as given.\n",
              "\n",
              "    .. versionchanged:: 1.1.0\n",
              "\n",
              "        array-like and BitGenerator object now passed to np.random.RandomState()\n",
              "        as seed\n",
              "\n",
              "    .. versionchanged:: 1.4.0\n",
              "\n",
              "        np.random.Generator objects now accepted\n",
              "\n",
              "axis : {0 or ‘index’, 1 or ‘columns’, None}, default None\n",
              "    Axis to sample. Accepts axis number or name. Default is stat axis\n",
              "    for given data type. For `Series` this parameter is unused and defaults to `None`.\n",
              "ignore_index : bool, default False\n",
              "    If True, the resulting index will be labeled 0, 1, …, n - 1.\n",
              "\n",
              "    .. versionadded:: 1.3.0\n",
              "\n",
              "Returns\n",
              "-------\n",
              "Series or DataFrame\n",
              "    A new object of same type as caller containing `n` items randomly\n",
              "    sampled from the caller object.\n",
              "\n",
              "See Also\n",
              "--------\n",
              "DataFrameGroupBy.sample: Generates random samples from each group of a\n",
              "    DataFrame object.\n",
              "SeriesGroupBy.sample: Generates random samples from each group of a\n",
              "    Series object.\n",
              "numpy.random.choice: Generates a random sample from a given 1-D numpy\n",
              "    array.\n",
              "\n",
              "Notes\n",
              "-----\n",
              "If `frac` &gt; 1, `replacement` should be set to `True`.\n",
              "\n",
              "Examples\n",
              "--------\n",
              "&gt;&gt;&gt; df = pd.DataFrame({&#x27;num_legs&#x27;: [2, 4, 8, 0],\n",
              "...                    &#x27;num_wings&#x27;: [2, 0, 0, 0],\n",
              "...                    &#x27;num_specimen_seen&#x27;: [10, 2, 1, 8]},\n",
              "...                   index=[&#x27;falcon&#x27;, &#x27;dog&#x27;, &#x27;spider&#x27;, &#x27;fish&#x27;])\n",
              "&gt;&gt;&gt; df\n",
              "        num_legs  num_wings  num_specimen_seen\n",
              "falcon         2          2                 10\n",
              "dog            4          0                  2\n",
              "spider         8          0                  1\n",
              "fish           0          0                  8\n",
              "\n",
              "Extract 3 random elements from the ``Series`` ``df[&#x27;num_legs&#x27;]``:\n",
              "Note that we use `random_state` to ensure the reproducibility of\n",
              "the examples.\n",
              "\n",
              "&gt;&gt;&gt; df[&#x27;num_legs&#x27;].sample(n=3, random_state=1)\n",
              "fish      0\n",
              "spider    8\n",
              "falcon    2\n",
              "Name: num_legs, dtype: int64\n",
              "\n",
              "A random 50% sample of the ``DataFrame`` with replacement:\n",
              "\n",
              "&gt;&gt;&gt; df.sample(frac=0.5, replace=True, random_state=1)\n",
              "      num_legs  num_wings  num_specimen_seen\n",
              "dog          4          0                  2\n",
              "fish         0          0                  8\n",
              "\n",
              "An upsample sample of the ``DataFrame`` with replacement:\n",
              "Note that `replace` parameter has to be `True` for `frac` parameter &gt; 1.\n",
              "\n",
              "&gt;&gt;&gt; df.sample(frac=2, replace=True, random_state=1)\n",
              "        num_legs  num_wings  num_specimen_seen\n",
              "dog            4          0                  2\n",
              "fish           0          0                  8\n",
              "falcon         2          2                 10\n",
              "falcon         2          2                 10\n",
              "fish           0          0                  8\n",
              "dog            4          0                  2\n",
              "fish           0          0                  8\n",
              "dog            4          0                  2\n",
              "\n",
              "Using a DataFrame column as weights. Rows with larger value in the\n",
              "`num_specimen_seen` column are more likely to be sampled.\n",
              "\n",
              "&gt;&gt;&gt; df.sample(n=2, weights=&#x27;num_specimen_seen&#x27;, random_state=1)\n",
              "        num_legs  num_wings  num_specimen_seen\n",
              "falcon         2          2                 10\n",
              "fish           0          0                  8</pre>\n",
              "      <script>\n",
              "      if (google.colab.kernel.accessAllowed && google.colab.files && google.colab.files.view) {\n",
              "        for (const element of document.querySelectorAll('.filepath')) {\n",
              "          element.style.display = 'block'\n",
              "          element.onclick = (event) => {\n",
              "            event.preventDefault();\n",
              "            event.stopPropagation();\n",
              "            google.colab.files.view(element.textContent, 5626);\n",
              "          };\n",
              "        }\n",
              "      }\n",
              "      for (const element of document.querySelectorAll('.function-repr-contents')) {\n",
              "        element.onclick = (event) => {\n",
              "          event.preventDefault();\n",
              "          event.stopPropagation();\n",
              "          element.classList.toggle('function-repr-contents-collapsed');\n",
              "        };\n",
              "      }\n",
              "      </script>\n",
              "      </div>"
            ]
          },
          "metadata": {},
          "execution_count": 3
        }
      ],
      "source": [
        "#dropped totaltests, WHO region, test/1m pop\n",
        "df2 = df.drop(columns=['WHO Region', 'Tests/1M pop', 'TotalTests'])\n",
        "df2.sample"
      ]
    },
    {
      "cell_type": "markdown",
      "metadata": {
        "id": "RQ7qnu2ro1A_"
      },
      "source": [
        "Removed unecessary columns"
      ]
    },
    {
      "cell_type": "code",
      "execution_count": 4,
      "metadata": {
        "id": "RP3lRxiICgXX",
        "colab": {
          "base_uri": "https://localhost:8080/"
        },
        "outputId": "f2294f4a-3c9e-46e0-d4ae-cb3606d66d54"
      },
      "outputs": [
        {
          "output_type": "execute_result",
          "data": {
            "text/plain": [
              "758"
            ]
          },
          "metadata": {},
          "execution_count": 4
        }
      ],
      "source": [
        "df2. isna(). sum(). sum() #initially 758 nulls in our dataframe, get rid or replace the null values."
      ]
    },
    {
      "cell_type": "code",
      "execution_count": 5,
      "metadata": {
        "id": "T9vCUV6oCwMW",
        "colab": {
          "base_uri": "https://localhost:8080/"
        },
        "outputId": "a8b42b53-d5cf-4c64-82be-c1823f5d5722"
      },
      "outputs": [
        {
          "output_type": "execute_result",
          "data": {
            "text/plain": [
              "205"
            ]
          },
          "metadata": {},
          "execution_count": 5
        }
      ],
      "source": [
        "df2['NewCases'].isna().sum() #205 nulls"
      ]
    },
    {
      "cell_type": "code",
      "execution_count": 6,
      "metadata": {
        "id": "pBP0Z-EWDBb6",
        "colab": {
          "base_uri": "https://localhost:8080/"
        },
        "outputId": "0b067609-5518-43bb-da36-426756758f55"
      },
      "outputs": [
        {
          "output_type": "execute_result",
          "data": {
            "text/plain": [
              "206"
            ]
          },
          "metadata": {},
          "execution_count": 6
        }
      ],
      "source": [
        "df2['NewDeaths'].isna().sum() #206 nulls"
      ]
    },
    {
      "cell_type": "code",
      "execution_count": 7,
      "metadata": {
        "id": "qZtRXVFIDT8a",
        "colab": {
          "base_uri": "https://localhost:8080/"
        },
        "outputId": "c0a7b416-381c-4651-950f-d3836d5e9cc6"
      },
      "outputs": [
        {
          "output_type": "execute_result",
          "data": {
            "text/plain": [
              "206"
            ]
          },
          "metadata": {},
          "execution_count": 7
        }
      ],
      "source": [
        "df2['NewRecovered'].isna().sum() #206 nulls"
      ]
    },
    {
      "cell_type": "markdown",
      "metadata": {
        "id": "52Gye3GoKENw"
      },
      "source": [
        "Lets replace the missing values with the mean of the filled in values"
      ]
    },
    {
      "cell_type": "code",
      "execution_count": 8,
      "metadata": {
        "id": "poso9SvZOEg_"
      },
      "outputs": [],
      "source": [
        "df2['NewCases'] = df2['NewCases'].fillna(df2[\"NewCases\"].mean())"
      ]
    },
    {
      "cell_type": "code",
      "execution_count": 9,
      "metadata": {
        "id": "d6DRTkluisGe",
        "colab": {
          "base_uri": "https://localhost:8080/"
        },
        "outputId": "ea23c732-17d7-4cbf-ef15-ab020f4f6e80"
      },
      "outputs": [
        {
          "output_type": "execute_result",
          "data": {
            "text/plain": [
              "0      1980.5\n",
              "1      1980.5\n",
              "2      1980.5\n",
              "3      1980.5\n",
              "4      1980.5\n",
              "        ...  \n",
              "204    1980.5\n",
              "205    1980.5\n",
              "206    1980.5\n",
              "207    1980.5\n",
              "208    1980.5\n",
              "Name: NewCases, Length: 209, dtype: float64"
            ]
          },
          "metadata": {},
          "execution_count": 9
        }
      ],
      "source": [
        "df2['NewCases']"
      ]
    },
    {
      "cell_type": "code",
      "execution_count": 10,
      "metadata": {
        "id": "R88U7nDQN3Rq"
      },
      "outputs": [],
      "source": [
        "df2['NewDeaths'] = df2['NewDeaths'].fillna(df2[\"NewDeaths\"].mean())"
      ]
    },
    {
      "cell_type": "code",
      "execution_count": 11,
      "metadata": {
        "id": "bZIkQrnckFqg",
        "colab": {
          "base_uri": "https://localhost:8080/"
        },
        "outputId": "a6661003-d5ca-4dbe-b07c-c7b90a907c80"
      },
      "outputs": [
        {
          "output_type": "execute_result",
          "data": {
            "text/plain": [
              "0      300.0\n",
              "1      300.0\n",
              "2      300.0\n",
              "3      300.0\n",
              "4      300.0\n",
              "       ...  \n",
              "204    300.0\n",
              "205    300.0\n",
              "206    300.0\n",
              "207    300.0\n",
              "208    300.0\n",
              "Name: NewDeaths, Length: 209, dtype: float64"
            ]
          },
          "metadata": {},
          "execution_count": 11
        }
      ],
      "source": [
        "df2['NewDeaths']"
      ]
    },
    {
      "cell_type": "code",
      "execution_count": 12,
      "metadata": {
        "id": "EHqMbd3dOMvZ"
      },
      "outputs": [],
      "source": [
        "df2['NewRecovered'] = df2['NewRecovered'].fillna(df2[\"NewRecovered\"].mean())"
      ]
    },
    {
      "cell_type": "code",
      "execution_count": 13,
      "metadata": {
        "id": "GMrpqcNEkVva",
        "colab": {
          "base_uri": "https://localhost:8080/"
        },
        "outputId": "1135b40a-19e1-441f-d909-5877addb65a4"
      },
      "outputs": [
        {
          "output_type": "execute_result",
          "data": {
            "text/plain": [
              "0      1706.0\n",
              "1      1706.0\n",
              "2      1706.0\n",
              "3      1706.0\n",
              "4      1706.0\n",
              "        ...  \n",
              "204    1706.0\n",
              "205    1706.0\n",
              "206    1706.0\n",
              "207    1706.0\n",
              "208    1706.0\n",
              "Name: NewRecovered, Length: 209, dtype: float64"
            ]
          },
          "metadata": {},
          "execution_count": 13
        }
      ],
      "source": [
        "df2['NewRecovered']"
      ]
    },
    {
      "cell_type": "code",
      "execution_count": 14,
      "metadata": {
        "id": "ttwOQycLP-TW",
        "colab": {
          "base_uri": "https://localhost:8080/"
        },
        "outputId": "6991a417-b015-48db-adff-3c1f5f1d9ff5"
      },
      "outputs": [
        {
          "output_type": "execute_result",
          "data": {
            "text/plain": [
              "141"
            ]
          },
          "metadata": {},
          "execution_count": 14
        }
      ],
      "source": [
        "df2. isna(). sum(). sum() #141 null values now"
      ]
    },
    {
      "cell_type": "code",
      "execution_count": 15,
      "metadata": {
        "id": "ZxH48zzRQo0K",
        "colab": {
          "base_uri": "https://localhost:8080/"
        },
        "outputId": "5a0049b6-9948-48d6-f139-842ba985923f"
      },
      "outputs": [
        {
          "output_type": "execute_result",
          "data": {
            "text/plain": [
              "87"
            ]
          },
          "metadata": {},
          "execution_count": 15
        }
      ],
      "source": [
        "df2['Serious,Critical'].isna().sum()"
      ]
    },
    {
      "cell_type": "code",
      "execution_count": 16,
      "metadata": {
        "id": "9IFb-lSURB7J"
      },
      "outputs": [],
      "source": [
        "df2['Serious,Critical'] = df2['Serious,Critical'].fillna(df2[\"Serious,Critical\"].mean())"
      ]
    },
    {
      "cell_type": "code",
      "execution_count": 17,
      "metadata": {
        "id": "ZKSp4OJpkymk",
        "colab": {
          "base_uri": "https://localhost:8080/"
        },
        "outputId": "c6d09d84-a799-4f5b-b9c7-c57c802a78a0"
      },
      "outputs": [
        {
          "output_type": "execute_result",
          "data": {
            "text/plain": [
              "0      18296.000000\n",
              "1       8318.000000\n",
              "2       8944.000000\n",
              "3       2300.000000\n",
              "4        539.000000\n",
              "           ...     \n",
              "204      534.393443\n",
              "205      534.393443\n",
              "206      534.393443\n",
              "207      534.393443\n",
              "208      534.393443\n",
              "Name: Serious,Critical, Length: 209, dtype: float64"
            ]
          },
          "metadata": {},
          "execution_count": 17
        }
      ],
      "source": [
        "df2['Serious,Critical']"
      ]
    },
    {
      "cell_type": "code",
      "execution_count": 18,
      "metadata": {
        "id": "lR4xBqTuTAO9",
        "colab": {
          "base_uri": "https://localhost:8080/"
        },
        "outputId": "8a54881c-ce6f-4e36-efa3-f57501cabe72"
      },
      "outputs": [
        {
          "output_type": "execute_result",
          "data": {
            "text/plain": [
              "54"
            ]
          },
          "metadata": {},
          "execution_count": 18
        }
      ],
      "source": [
        "df2. isna(). sum(). sum() #at this point we had 54 null values"
      ]
    },
    {
      "cell_type": "code",
      "execution_count": 19,
      "metadata": {
        "id": "b8pBs2ack85e",
        "colab": {
          "base_uri": "https://localhost:8080/"
        },
        "outputId": "acd04c0c-a29d-4b65-88ce-41e523d0ba16"
      },
      "outputs": [
        {
          "output_type": "stream",
          "name": "stdout",
          "text": [
            "['Continent', 'Population', 'TotalDeaths', 'TotalRecovered', 'ActiveCases', 'Tot Cases/1M pop', 'Deaths/1M pop']\n"
          ]
        }
      ],
      "source": [
        "null_cols = df2.isnull().any()\n",
        "print(null_cols[null_cols == True].index.tolist())"
      ]
    },
    {
      "cell_type": "markdown",
      "metadata": {
        "id": "NG32Xyaqlb5C"
      },
      "source": [
        "We can continue to fill in the null values with mean values for numerical columns and drop rows if needed"
      ]
    },
    {
      "cell_type": "code",
      "execution_count": 20,
      "metadata": {
        "id": "o139joTDlwyR"
      },
      "outputs": [],
      "source": [
        "df2['Population'] = df2['Population'].fillna(df2[\"Population\"].mean())"
      ]
    },
    {
      "cell_type": "code",
      "execution_count": 21,
      "metadata": {
        "id": "8P4xpLXGl8oG",
        "colab": {
          "base_uri": "https://localhost:8080/"
        },
        "outputId": "a593c5be-d7ac-4880-8080-e72d59461fe7"
      },
      "outputs": [
        {
          "output_type": "execute_result",
          "data": {
            "text/plain": [
              "0      3.311981e+08\n",
              "1      2.127107e+08\n",
              "2      1.381345e+09\n",
              "3      1.459409e+08\n",
              "4      5.938157e+07\n",
              "           ...     \n",
              "204    4.992000e+03\n",
              "205    2.624700e+04\n",
              "206    3.489000e+03\n",
              "207    8.010000e+02\n",
              "208    5.986820e+05\n",
              "Name: Population, Length: 209, dtype: float64"
            ]
          },
          "metadata": {},
          "execution_count": 21
        }
      ],
      "source": [
        "df2['Population']"
      ]
    },
    {
      "cell_type": "code",
      "execution_count": 22,
      "metadata": {
        "id": "4SJO1mPhmFyj"
      },
      "outputs": [],
      "source": [
        "df2['TotalDeaths'] = df2['TotalDeaths'].fillna(df2[\"TotalDeaths\"].mean())"
      ]
    },
    {
      "cell_type": "code",
      "execution_count": 23,
      "metadata": {
        "id": "3YAwnp4GmK6s",
        "colab": {
          "base_uri": "https://localhost:8080/"
        },
        "outputId": "8ecce99c-4bfe-44f0-9f44-15176884621c"
      },
      "outputs": [
        {
          "output_type": "execute_result",
          "data": {
            "text/plain": [
              "0      162804.000000\n",
              "1       98644.000000\n",
              "2       41638.000000\n",
              "3       14606.000000\n",
              "4        9604.000000\n",
              "           ...      \n",
              "204         1.000000\n",
              "205      3792.590426\n",
              "206      3792.590426\n",
              "207      3792.590426\n",
              "208         1.000000\n",
              "Name: TotalDeaths, Length: 209, dtype: float64"
            ]
          },
          "metadata": {},
          "execution_count": 23
        }
      ],
      "source": [
        "df2['TotalDeaths']"
      ]
    },
    {
      "cell_type": "code",
      "execution_count": 24,
      "metadata": {
        "id": "cXukVZdhmSwi"
      },
      "outputs": [],
      "source": [
        "df2['TotalRecovered'] = df2['TotalRecovered'].fillna(df2[\"TotalRecovered\"].mean())"
      ]
    },
    {
      "cell_type": "code",
      "execution_count": 25,
      "metadata": {
        "id": "HsmdwGUxmYXo",
        "colab": {
          "base_uri": "https://localhost:8080/"
        },
        "outputId": "7d035a94-dc3e-4666-b6c1-7e7301689615"
      },
      "outputs": [
        {
          "output_type": "execute_result",
          "data": {
            "text/plain": [
              "0      2576668.0\n",
              "1      2047660.0\n",
              "2      1377384.0\n",
              "3       676357.0\n",
              "4       387316.0\n",
              "         ...    \n",
              "204         10.0\n",
              "205          7.0\n",
              "206         13.0\n",
              "207         12.0\n",
              "208          8.0\n",
              "Name: TotalRecovered, Length: 209, dtype: float64"
            ]
          },
          "metadata": {},
          "execution_count": 25
        }
      ],
      "source": [
        "df2['TotalRecovered']"
      ]
    },
    {
      "cell_type": "code",
      "execution_count": 26,
      "metadata": {
        "id": "BFmkN8BsmiAE"
      },
      "outputs": [],
      "source": [
        "df2['ActiveCases'] = df2['ActiveCases'].fillna(df2[\"ActiveCases\"].mean())"
      ]
    },
    {
      "cell_type": "code",
      "execution_count": 27,
      "metadata": {
        "id": "l1np3Peomrm6",
        "colab": {
          "base_uri": "https://localhost:8080/"
        },
        "outputId": "e93a23de-d031-46c0-e03e-640ab4f13f21"
      },
      "outputs": [
        {
          "output_type": "execute_result",
          "data": {
            "text/plain": [
              "0      2292707.0\n",
              "1       771258.0\n",
              "2       606387.0\n",
              "3       180931.0\n",
              "4       141264.0\n",
              "         ...    \n",
              "204          2.0\n",
              "205          6.0\n",
              "206          0.0\n",
              "207          0.0\n",
              "208          1.0\n",
              "Name: ActiveCases, Length: 209, dtype: float64"
            ]
          },
          "metadata": {},
          "execution_count": 27
        }
      ],
      "source": [
        "df2['ActiveCases']"
      ]
    },
    {
      "cell_type": "markdown",
      "metadata": {
        "id": "NBmUgU_Go8bM"
      },
      "source": [
        "Now lets remove rows with nulls in them"
      ]
    },
    {
      "cell_type": "code",
      "execution_count": 28,
      "metadata": {
        "id": "nRKLhG78n1LQ"
      },
      "outputs": [],
      "source": [
        "df2 = df2[df2['Continent'].notnull()]"
      ]
    },
    {
      "cell_type": "code",
      "execution_count": 29,
      "metadata": {
        "id": "0tTSyusToKb-"
      },
      "outputs": [],
      "source": [
        "df2 = df2[df2['Deaths/1M pop'].notnull()]"
      ]
    },
    {
      "cell_type": "code",
      "execution_count": 30,
      "metadata": {
        "id": "sL8kWw8romke",
        "colab": {
          "base_uri": "https://localhost:8080/"
        },
        "outputId": "1cd2805f-953e-434b-c72c-7d480cd23677"
      },
      "outputs": [
        {
          "output_type": "execute_result",
          "data": {
            "text/plain": [
              "0"
            ]
          },
          "metadata": {},
          "execution_count": 30
        }
      ],
      "source": [
        "df2. isna(). sum(). sum() #at this point, we have 0 null values"
      ]
    },
    {
      "cell_type": "code",
      "execution_count": 31,
      "metadata": {
        "id": "k3UP-jwiosWz",
        "colab": {
          "base_uri": "https://localhost:8080/",
          "height": 478
        },
        "outputId": "047f4fe9-78e4-4fd1-ae4f-998fa3932b21"
      },
      "outputs": [
        {
          "output_type": "execute_result",
          "data": {
            "text/plain": [
              "     Country/Region          Continent    Population  TotalCases  NewCases  \\\n",
              "0               USA      North America  3.311981e+08     5032179    1980.5   \n",
              "1            Brazil      South America  2.127107e+08     2917562    1980.5   \n",
              "2             India               Asia  1.381345e+09     2025409    1980.5   \n",
              "3            Russia             Europe  1.459409e+08      871894    1980.5   \n",
              "4      South Africa             Africa  5.938157e+07      538184    1980.5   \n",
              "..              ...                ...           ...         ...       ...   \n",
              "192    Saint Martin      North America  3.872900e+04          53    1980.5   \n",
              "194         Curaçao      North America  1.641610e+05          31    1980.5   \n",
              "195            Fiji  Australia/Oceania  8.970950e+05          27    1980.5   \n",
              "204      Montserrat      North America  4.992000e+03          13    1980.5   \n",
              "208  Western Sahara             Africa  5.986820e+05          10    1980.5   \n",
              "\n",
              "     TotalDeaths  NewDeaths  TotalRecovered  NewRecovered  ActiveCases  \\\n",
              "0       162804.0      300.0       2576668.0        1706.0    2292707.0   \n",
              "1        98644.0      300.0       2047660.0        1706.0     771258.0   \n",
              "2        41638.0      300.0       1377384.0        1706.0     606387.0   \n",
              "3        14606.0      300.0        676357.0        1706.0     180931.0   \n",
              "4         9604.0      300.0        387316.0        1706.0     141264.0   \n",
              "..           ...        ...             ...           ...          ...   \n",
              "192          3.0      300.0            41.0        1706.0          9.0   \n",
              "194          1.0      300.0            28.0        1706.0          2.0   \n",
              "195          1.0      300.0            18.0        1706.0          8.0   \n",
              "204          1.0      300.0            10.0        1706.0          2.0   \n",
              "208          1.0      300.0             8.0        1706.0          1.0   \n",
              "\n",
              "     Serious,Critical  Tot Cases/1M pop  Deaths/1M pop  \n",
              "0        18296.000000           15194.0          492.0  \n",
              "1         8318.000000           13716.0          464.0  \n",
              "2         8944.000000            1466.0           30.0  \n",
              "3         2300.000000            5974.0          100.0  \n",
              "4          539.000000            9063.0          162.0  \n",
              "..                ...               ...            ...  \n",
              "192          1.000000            1368.0           77.0  \n",
              "194        534.393443             189.0            6.0  \n",
              "195        534.393443              30.0            1.0  \n",
              "204        534.393443            2604.0          200.0  \n",
              "208        534.393443              17.0            2.0  \n",
              "\n",
              "[187 rows x 13 columns]"
            ],
            "text/html": [
              "\n",
              "  <div id=\"df-d2f02d8d-5c11-4af2-9025-d562490e2691\" class=\"colab-df-container\">\n",
              "    <div>\n",
              "<style scoped>\n",
              "    .dataframe tbody tr th:only-of-type {\n",
              "        vertical-align: middle;\n",
              "    }\n",
              "\n",
              "    .dataframe tbody tr th {\n",
              "        vertical-align: top;\n",
              "    }\n",
              "\n",
              "    .dataframe thead th {\n",
              "        text-align: right;\n",
              "    }\n",
              "</style>\n",
              "<table border=\"1\" class=\"dataframe\">\n",
              "  <thead>\n",
              "    <tr style=\"text-align: right;\">\n",
              "      <th></th>\n",
              "      <th>Country/Region</th>\n",
              "      <th>Continent</th>\n",
              "      <th>Population</th>\n",
              "      <th>TotalCases</th>\n",
              "      <th>NewCases</th>\n",
              "      <th>TotalDeaths</th>\n",
              "      <th>NewDeaths</th>\n",
              "      <th>TotalRecovered</th>\n",
              "      <th>NewRecovered</th>\n",
              "      <th>ActiveCases</th>\n",
              "      <th>Serious,Critical</th>\n",
              "      <th>Tot Cases/1M pop</th>\n",
              "      <th>Deaths/1M pop</th>\n",
              "    </tr>\n",
              "  </thead>\n",
              "  <tbody>\n",
              "    <tr>\n",
              "      <th>0</th>\n",
              "      <td>USA</td>\n",
              "      <td>North America</td>\n",
              "      <td>3.311981e+08</td>\n",
              "      <td>5032179</td>\n",
              "      <td>1980.5</td>\n",
              "      <td>162804.0</td>\n",
              "      <td>300.0</td>\n",
              "      <td>2576668.0</td>\n",
              "      <td>1706.0</td>\n",
              "      <td>2292707.0</td>\n",
              "      <td>18296.000000</td>\n",
              "      <td>15194.0</td>\n",
              "      <td>492.0</td>\n",
              "    </tr>\n",
              "    <tr>\n",
              "      <th>1</th>\n",
              "      <td>Brazil</td>\n",
              "      <td>South America</td>\n",
              "      <td>2.127107e+08</td>\n",
              "      <td>2917562</td>\n",
              "      <td>1980.5</td>\n",
              "      <td>98644.0</td>\n",
              "      <td>300.0</td>\n",
              "      <td>2047660.0</td>\n",
              "      <td>1706.0</td>\n",
              "      <td>771258.0</td>\n",
              "      <td>8318.000000</td>\n",
              "      <td>13716.0</td>\n",
              "      <td>464.0</td>\n",
              "    </tr>\n",
              "    <tr>\n",
              "      <th>2</th>\n",
              "      <td>India</td>\n",
              "      <td>Asia</td>\n",
              "      <td>1.381345e+09</td>\n",
              "      <td>2025409</td>\n",
              "      <td>1980.5</td>\n",
              "      <td>41638.0</td>\n",
              "      <td>300.0</td>\n",
              "      <td>1377384.0</td>\n",
              "      <td>1706.0</td>\n",
              "      <td>606387.0</td>\n",
              "      <td>8944.000000</td>\n",
              "      <td>1466.0</td>\n",
              "      <td>30.0</td>\n",
              "    </tr>\n",
              "    <tr>\n",
              "      <th>3</th>\n",
              "      <td>Russia</td>\n",
              "      <td>Europe</td>\n",
              "      <td>1.459409e+08</td>\n",
              "      <td>871894</td>\n",
              "      <td>1980.5</td>\n",
              "      <td>14606.0</td>\n",
              "      <td>300.0</td>\n",
              "      <td>676357.0</td>\n",
              "      <td>1706.0</td>\n",
              "      <td>180931.0</td>\n",
              "      <td>2300.000000</td>\n",
              "      <td>5974.0</td>\n",
              "      <td>100.0</td>\n",
              "    </tr>\n",
              "    <tr>\n",
              "      <th>4</th>\n",
              "      <td>South Africa</td>\n",
              "      <td>Africa</td>\n",
              "      <td>5.938157e+07</td>\n",
              "      <td>538184</td>\n",
              "      <td>1980.5</td>\n",
              "      <td>9604.0</td>\n",
              "      <td>300.0</td>\n",
              "      <td>387316.0</td>\n",
              "      <td>1706.0</td>\n",
              "      <td>141264.0</td>\n",
              "      <td>539.000000</td>\n",
              "      <td>9063.0</td>\n",
              "      <td>162.0</td>\n",
              "    </tr>\n",
              "    <tr>\n",
              "      <th>...</th>\n",
              "      <td>...</td>\n",
              "      <td>...</td>\n",
              "      <td>...</td>\n",
              "      <td>...</td>\n",
              "      <td>...</td>\n",
              "      <td>...</td>\n",
              "      <td>...</td>\n",
              "      <td>...</td>\n",
              "      <td>...</td>\n",
              "      <td>...</td>\n",
              "      <td>...</td>\n",
              "      <td>...</td>\n",
              "      <td>...</td>\n",
              "    </tr>\n",
              "    <tr>\n",
              "      <th>192</th>\n",
              "      <td>Saint Martin</td>\n",
              "      <td>North America</td>\n",
              "      <td>3.872900e+04</td>\n",
              "      <td>53</td>\n",
              "      <td>1980.5</td>\n",
              "      <td>3.0</td>\n",
              "      <td>300.0</td>\n",
              "      <td>41.0</td>\n",
              "      <td>1706.0</td>\n",
              "      <td>9.0</td>\n",
              "      <td>1.000000</td>\n",
              "      <td>1368.0</td>\n",
              "      <td>77.0</td>\n",
              "    </tr>\n",
              "    <tr>\n",
              "      <th>194</th>\n",
              "      <td>Curaçao</td>\n",
              "      <td>North America</td>\n",
              "      <td>1.641610e+05</td>\n",
              "      <td>31</td>\n",
              "      <td>1980.5</td>\n",
              "      <td>1.0</td>\n",
              "      <td>300.0</td>\n",
              "      <td>28.0</td>\n",
              "      <td>1706.0</td>\n",
              "      <td>2.0</td>\n",
              "      <td>534.393443</td>\n",
              "      <td>189.0</td>\n",
              "      <td>6.0</td>\n",
              "    </tr>\n",
              "    <tr>\n",
              "      <th>195</th>\n",
              "      <td>Fiji</td>\n",
              "      <td>Australia/Oceania</td>\n",
              "      <td>8.970950e+05</td>\n",
              "      <td>27</td>\n",
              "      <td>1980.5</td>\n",
              "      <td>1.0</td>\n",
              "      <td>300.0</td>\n",
              "      <td>18.0</td>\n",
              "      <td>1706.0</td>\n",
              "      <td>8.0</td>\n",
              "      <td>534.393443</td>\n",
              "      <td>30.0</td>\n",
              "      <td>1.0</td>\n",
              "    </tr>\n",
              "    <tr>\n",
              "      <th>204</th>\n",
              "      <td>Montserrat</td>\n",
              "      <td>North America</td>\n",
              "      <td>4.992000e+03</td>\n",
              "      <td>13</td>\n",
              "      <td>1980.5</td>\n",
              "      <td>1.0</td>\n",
              "      <td>300.0</td>\n",
              "      <td>10.0</td>\n",
              "      <td>1706.0</td>\n",
              "      <td>2.0</td>\n",
              "      <td>534.393443</td>\n",
              "      <td>2604.0</td>\n",
              "      <td>200.0</td>\n",
              "    </tr>\n",
              "    <tr>\n",
              "      <th>208</th>\n",
              "      <td>Western Sahara</td>\n",
              "      <td>Africa</td>\n",
              "      <td>5.986820e+05</td>\n",
              "      <td>10</td>\n",
              "      <td>1980.5</td>\n",
              "      <td>1.0</td>\n",
              "      <td>300.0</td>\n",
              "      <td>8.0</td>\n",
              "      <td>1706.0</td>\n",
              "      <td>1.0</td>\n",
              "      <td>534.393443</td>\n",
              "      <td>17.0</td>\n",
              "      <td>2.0</td>\n",
              "    </tr>\n",
              "  </tbody>\n",
              "</table>\n",
              "<p>187 rows × 13 columns</p>\n",
              "</div>\n",
              "    <div class=\"colab-df-buttons\">\n",
              "\n",
              "  <div class=\"colab-df-container\">\n",
              "    <button class=\"colab-df-convert\" onclick=\"convertToInteractive('df-d2f02d8d-5c11-4af2-9025-d562490e2691')\"\n",
              "            title=\"Convert this dataframe to an interactive table.\"\n",
              "            style=\"display:none;\">\n",
              "\n",
              "  <svg xmlns=\"http://www.w3.org/2000/svg\" height=\"24px\" viewBox=\"0 -960 960 960\">\n",
              "    <path d=\"M120-120v-720h720v720H120Zm60-500h600v-160H180v160Zm220 220h160v-160H400v160Zm0 220h160v-160H400v160ZM180-400h160v-160H180v160Zm440 0h160v-160H620v160ZM180-180h160v-160H180v160Zm440 0h160v-160H620v160Z\"/>\n",
              "  </svg>\n",
              "    </button>\n",
              "\n",
              "  <style>\n",
              "    .colab-df-container {\n",
              "      display:flex;\n",
              "      gap: 12px;\n",
              "    }\n",
              "\n",
              "    .colab-df-convert {\n",
              "      background-color: #E8F0FE;\n",
              "      border: none;\n",
              "      border-radius: 50%;\n",
              "      cursor: pointer;\n",
              "      display: none;\n",
              "      fill: #1967D2;\n",
              "      height: 32px;\n",
              "      padding: 0 0 0 0;\n",
              "      width: 32px;\n",
              "    }\n",
              "\n",
              "    .colab-df-convert:hover {\n",
              "      background-color: #E2EBFA;\n",
              "      box-shadow: 0px 1px 2px rgba(60, 64, 67, 0.3), 0px 1px 3px 1px rgba(60, 64, 67, 0.15);\n",
              "      fill: #174EA6;\n",
              "    }\n",
              "\n",
              "    .colab-df-buttons div {\n",
              "      margin-bottom: 4px;\n",
              "    }\n",
              "\n",
              "    [theme=dark] .colab-df-convert {\n",
              "      background-color: #3B4455;\n",
              "      fill: #D2E3FC;\n",
              "    }\n",
              "\n",
              "    [theme=dark] .colab-df-convert:hover {\n",
              "      background-color: #434B5C;\n",
              "      box-shadow: 0px 1px 3px 1px rgba(0, 0, 0, 0.15);\n",
              "      filter: drop-shadow(0px 1px 2px rgba(0, 0, 0, 0.3));\n",
              "      fill: #FFFFFF;\n",
              "    }\n",
              "  </style>\n",
              "\n",
              "    <script>\n",
              "      const buttonEl =\n",
              "        document.querySelector('#df-d2f02d8d-5c11-4af2-9025-d562490e2691 button.colab-df-convert');\n",
              "      buttonEl.style.display =\n",
              "        google.colab.kernel.accessAllowed ? 'block' : 'none';\n",
              "\n",
              "      async function convertToInteractive(key) {\n",
              "        const element = document.querySelector('#df-d2f02d8d-5c11-4af2-9025-d562490e2691');\n",
              "        const dataTable =\n",
              "          await google.colab.kernel.invokeFunction('convertToInteractive',\n",
              "                                                    [key], {});\n",
              "        if (!dataTable) return;\n",
              "\n",
              "        const docLinkHtml = 'Like what you see? Visit the ' +\n",
              "          '<a target=\"_blank\" href=https://colab.research.google.com/notebooks/data_table.ipynb>data table notebook</a>'\n",
              "          + ' to learn more about interactive tables.';\n",
              "        element.innerHTML = '';\n",
              "        dataTable['output_type'] = 'display_data';\n",
              "        await google.colab.output.renderOutput(dataTable, element);\n",
              "        const docLink = document.createElement('div');\n",
              "        docLink.innerHTML = docLinkHtml;\n",
              "        element.appendChild(docLink);\n",
              "      }\n",
              "    </script>\n",
              "  </div>\n",
              "\n",
              "\n",
              "<div id=\"df-78ee5a40-fd5c-4f2f-b98d-8eed04068781\">\n",
              "  <button class=\"colab-df-quickchart\" onclick=\"quickchart('df-78ee5a40-fd5c-4f2f-b98d-8eed04068781')\"\n",
              "            title=\"Suggest charts\"\n",
              "            style=\"display:none;\">\n",
              "\n",
              "<svg xmlns=\"http://www.w3.org/2000/svg\" height=\"24px\"viewBox=\"0 0 24 24\"\n",
              "     width=\"24px\">\n",
              "    <g>\n",
              "        <path d=\"M19 3H5c-1.1 0-2 .9-2 2v14c0 1.1.9 2 2 2h14c1.1 0 2-.9 2-2V5c0-1.1-.9-2-2-2zM9 17H7v-7h2v7zm4 0h-2V7h2v10zm4 0h-2v-4h2v4z\"/>\n",
              "    </g>\n",
              "</svg>\n",
              "  </button>\n",
              "\n",
              "<style>\n",
              "  .colab-df-quickchart {\n",
              "      --bg-color: #E8F0FE;\n",
              "      --fill-color: #1967D2;\n",
              "      --hover-bg-color: #E2EBFA;\n",
              "      --hover-fill-color: #174EA6;\n",
              "      --disabled-fill-color: #AAA;\n",
              "      --disabled-bg-color: #DDD;\n",
              "  }\n",
              "\n",
              "  [theme=dark] .colab-df-quickchart {\n",
              "      --bg-color: #3B4455;\n",
              "      --fill-color: #D2E3FC;\n",
              "      --hover-bg-color: #434B5C;\n",
              "      --hover-fill-color: #FFFFFF;\n",
              "      --disabled-bg-color: #3B4455;\n",
              "      --disabled-fill-color: #666;\n",
              "  }\n",
              "\n",
              "  .colab-df-quickchart {\n",
              "    background-color: var(--bg-color);\n",
              "    border: none;\n",
              "    border-radius: 50%;\n",
              "    cursor: pointer;\n",
              "    display: none;\n",
              "    fill: var(--fill-color);\n",
              "    height: 32px;\n",
              "    padding: 0;\n",
              "    width: 32px;\n",
              "  }\n",
              "\n",
              "  .colab-df-quickchart:hover {\n",
              "    background-color: var(--hover-bg-color);\n",
              "    box-shadow: 0 1px 2px rgba(60, 64, 67, 0.3), 0 1px 3px 1px rgba(60, 64, 67, 0.15);\n",
              "    fill: var(--button-hover-fill-color);\n",
              "  }\n",
              "\n",
              "  .colab-df-quickchart-complete:disabled,\n",
              "  .colab-df-quickchart-complete:disabled:hover {\n",
              "    background-color: var(--disabled-bg-color);\n",
              "    fill: var(--disabled-fill-color);\n",
              "    box-shadow: none;\n",
              "  }\n",
              "\n",
              "  .colab-df-spinner {\n",
              "    border: 2px solid var(--fill-color);\n",
              "    border-color: transparent;\n",
              "    border-bottom-color: var(--fill-color);\n",
              "    animation:\n",
              "      spin 1s steps(1) infinite;\n",
              "  }\n",
              "\n",
              "  @keyframes spin {\n",
              "    0% {\n",
              "      border-color: transparent;\n",
              "      border-bottom-color: var(--fill-color);\n",
              "      border-left-color: var(--fill-color);\n",
              "    }\n",
              "    20% {\n",
              "      border-color: transparent;\n",
              "      border-left-color: var(--fill-color);\n",
              "      border-top-color: var(--fill-color);\n",
              "    }\n",
              "    30% {\n",
              "      border-color: transparent;\n",
              "      border-left-color: var(--fill-color);\n",
              "      border-top-color: var(--fill-color);\n",
              "      border-right-color: var(--fill-color);\n",
              "    }\n",
              "    40% {\n",
              "      border-color: transparent;\n",
              "      border-right-color: var(--fill-color);\n",
              "      border-top-color: var(--fill-color);\n",
              "    }\n",
              "    60% {\n",
              "      border-color: transparent;\n",
              "      border-right-color: var(--fill-color);\n",
              "    }\n",
              "    80% {\n",
              "      border-color: transparent;\n",
              "      border-right-color: var(--fill-color);\n",
              "      border-bottom-color: var(--fill-color);\n",
              "    }\n",
              "    90% {\n",
              "      border-color: transparent;\n",
              "      border-bottom-color: var(--fill-color);\n",
              "    }\n",
              "  }\n",
              "</style>\n",
              "\n",
              "  <script>\n",
              "    async function quickchart(key) {\n",
              "      const quickchartButtonEl =\n",
              "        document.querySelector('#' + key + ' button');\n",
              "      quickchartButtonEl.disabled = true;  // To prevent multiple clicks.\n",
              "      quickchartButtonEl.classList.add('colab-df-spinner');\n",
              "      try {\n",
              "        const charts = await google.colab.kernel.invokeFunction(\n",
              "            'suggestCharts', [key], {});\n",
              "      } catch (error) {\n",
              "        console.error('Error during call to suggestCharts:', error);\n",
              "      }\n",
              "      quickchartButtonEl.classList.remove('colab-df-spinner');\n",
              "      quickchartButtonEl.classList.add('colab-df-quickchart-complete');\n",
              "    }\n",
              "    (() => {\n",
              "      let quickchartButtonEl =\n",
              "        document.querySelector('#df-78ee5a40-fd5c-4f2f-b98d-8eed04068781 button');\n",
              "      quickchartButtonEl.style.display =\n",
              "        google.colab.kernel.accessAllowed ? 'block' : 'none';\n",
              "    })();\n",
              "  </script>\n",
              "</div>\n",
              "    </div>\n",
              "  </div>\n"
            ],
            "application/vnd.google.colaboratory.intrinsic+json": {
              "type": "dataframe",
              "variable_name": "df2",
              "summary": "{\n  \"name\": \"df2\",\n  \"rows\": 187,\n  \"fields\": [\n    {\n      \"column\": \"Country/Region\",\n      \"properties\": {\n        \"dtype\": \"string\",\n        \"samples\": [\n          \"Montserrat\",\n          \"Sudan\",\n          \"Azerbaijan\"\n        ],\n        \"num_unique_values\": 187,\n        \"semantic_type\": \"\",\n        \"description\": \"\"\n      }\n    },\n    {\n      \"column\": \"Continent\",\n      \"properties\": {\n        \"dtype\": \"category\",\n        \"samples\": [\n          \"North America\",\n          \"South America\",\n          \"Australia/Oceania\"\n        ],\n        \"num_unique_values\": 6,\n        \"semantic_type\": \"\",\n        \"description\": \"\"\n      }\n    },\n    {\n      \"column\": \"Population\",\n      \"properties\": {\n        \"dtype\": \"number\",\n        \"std\": 110044221.59455948,\n        \"min\": 4992.0,\n        \"max\": 1381344997.0,\n        \"samples\": [\n          4992.0,\n          43943536.0,\n          10148243.0\n        ],\n        \"num_unique_values\": 187,\n        \"semantic_type\": \"\",\n        \"description\": \"\"\n      }\n    },\n    {\n      \"column\": \"TotalCases\",\n      \"properties\": {\n        \"dtype\": \"number\",\n        \"std\": 456240,\n        \"min\": 10,\n        \"max\": 5032179,\n        \"samples\": [\n          13,\n          11780,\n          33247\n        ],\n        \"num_unique_values\": 187,\n        \"semantic_type\": \"\",\n        \"description\": \"\"\n      }\n    },\n    {\n      \"column\": \"NewCases\",\n      \"properties\": {\n        \"dtype\": \"number\",\n        \"std\": 397.4610483383706,\n        \"min\": 20.0,\n        \"max\": 6590.0,\n        \"samples\": [\n          6590.0,\n          30.0,\n          1282.0\n        ],\n        \"num_unique_values\": 5,\n        \"semantic_type\": \"\",\n        \"description\": \"\"\n      }\n    },\n    {\n      \"column\": \"TotalDeaths\",\n      \"properties\": {\n        \"dtype\": \"number\",\n        \"std\": 15526.274945948873,\n        \"min\": 1.0,\n        \"max\": 162804.0,\n        \"samples\": [\n          617.0,\n          9252.0,\n          63.0\n        ],\n        \"num_unique_values\": 149,\n        \"semantic_type\": \"\",\n        \"description\": \"\"\n      }\n    },\n    {\n      \"column\": \"NewDeaths\",\n      \"properties\": {\n        \"dtype\": \"number\",\n        \"std\": 46.787209905621516,\n        \"min\": 1.0,\n        \"max\": 819.0,\n        \"samples\": [\n          819.0,\n          1.0,\n          300.0\n        ],\n        \"num_unique_values\": 4,\n        \"semantic_type\": \"\",\n        \"description\": \"\"\n      }\n    },\n    {\n      \"column\": \"TotalRecovered\",\n      \"properties\": {\n        \"dtype\": \"number\",\n        \"std\": 267981.80248395895,\n        \"min\": 8.0,\n        \"max\": 2576668.0,\n        \"samples\": [\n          101025.0,\n          32430.0,\n          189.0\n        ],\n        \"num_unique_values\": 183,\n        \"semantic_type\": \"\",\n        \"description\": \"\"\n      }\n    },\n    {\n      \"column\": \"NewRecovered\",\n      \"properties\": {\n        \"dtype\": \"number\",\n        \"std\": 223.4402568632089,\n        \"min\": 42.0,\n        \"max\": 4140.0,\n        \"samples\": [\n          4140.0,\n          42.0,\n          1706.0\n        ],\n        \"num_unique_values\": 4,\n        \"semantic_type\": \"\",\n        \"description\": \"\"\n      }\n    },\n    {\n      \"column\": \"ActiveCases\",\n      \"properties\": {\n        \"dtype\": \"number\",\n        \"std\": 182611.0647929717,\n        \"min\": 0.0,\n        \"max\": 2292707.0,\n        \"samples\": [\n          49.0,\n          783.0,\n          2991.0\n        ],\n        \"num_unique_values\": 175,\n        \"semantic_type\": \"\",\n        \"description\": \"\"\n      }\n    },\n    {\n      \"column\": \"Serious,Critical\",\n      \"properties\": {\n        \"dtype\": \"number\",\n        \"std\": 1649.5569813318323,\n        \"min\": 1.0,\n        \"max\": 18296.0,\n        \"samples\": [\n          539.0,\n          33.0,\n          4156.0\n        ],\n        \"num_unique_values\": 75,\n        \"semantic_type\": \"\",\n        \"description\": \"\"\n      }\n    },\n    {\n      \"column\": \"Tot Cases/1M pop\",\n      \"properties\": {\n        \"dtype\": \"number\",\n        \"std\": 5325.132092885736,\n        \"min\": 7.0,\n        \"max\": 39922.0,\n        \"samples\": [\n          2996.0,\n          3028.0,\n          749.0\n        ],\n        \"num_unique_values\": 182,\n        \"semantic_type\": \"\",\n        \"description\": \"\"\n      }\n    },\n    {\n      \"column\": \"Deaths/1M pop\",\n      \"properties\": {\n        \"dtype\": \"number\",\n        \"std\": 174.95686208936436,\n        \"min\": 0.08,\n        \"max\": 1238.0,\n        \"samples\": [\n          38.0,\n          214.0,\n          162.0\n        ],\n        \"num_unique_values\": 107,\n        \"semantic_type\": \"\",\n        \"description\": \"\"\n      }\n    }\n  ]\n}"
            }
          },
          "metadata": {},
          "execution_count": 31
        }
      ],
      "source": [
        "df2"
      ]
    },
    {
      "cell_type": "markdown",
      "metadata": {
        "id": "B0V9JHrkM8El"
      },
      "source": [
        "\n",
        "\n",
        "How many countries in `Africa` have more than 300 `TotalDeaths`?\n",
        "\n",
        "What is the average `ActiveCases` where `Serious,Critical` cases are greater than the mean?\n",
        "\n",
        "Compare the `TotalDeaths` and `TotalRecovered` for the `North America` countries, using visualization methods, such as bar chart or other methods.\n"
      ]
    },
    {
      "cell_type": "code",
      "execution_count": 32,
      "metadata": {
        "id": "7-YBx-vgApts",
        "colab": {
          "base_uri": "https://localhost:8080/",
          "height": 386
        },
        "outputId": "2466de22-e337-41e3-8259-e249304ae498"
      },
      "outputs": [
        {
          "output_type": "execute_result",
          "data": {
            "text/plain": [
              "   Country/Region Continent   Population  TotalCases  NewCases  TotalDeaths  \\\n",
              "4    South Africa    Africa   59381566.0      538184    1980.5       9604.0   \n",
              "26          Egypt    Africa  102516525.0       95006    1980.5       4951.0   \n",
              "45        Nigeria    Africa  206606300.0       45244    1980.5        930.0   \n",
              "54        Algeria    Africa   43926079.0       33626    1980.5       1273.0   \n",
              "56        Morocco    Africa   36953359.0       29644    1980.5        449.0   \n",
              "61          Kenya    Africa   53881160.0       24411    1980.5        399.0   \n",
              "66       Ethiopia    Africa  115223736.0       20900    1980.5        365.0   \n",
              "70       Cameroon    Africa   26606188.0       17718    1980.5        391.0   \n",
              "78          Sudan    Africa   43943536.0       11780    1980.5        763.0   \n",
              "\n",
              "    NewDeaths  TotalRecovered  NewRecovered  ActiveCases  Serious,Critical  \\\n",
              "4       300.0        387316.0        1706.0     141264.0        539.000000   \n",
              "26      300.0         48898.0        1706.0      41157.0         41.000000   \n",
              "45      300.0         32430.0        1706.0      11884.0          7.000000   \n",
              "54      300.0         23238.0        1706.0       9115.0         57.000000   \n",
              "56      300.0         20553.0        1706.0       8642.0         31.000000   \n",
              "61      300.0         10444.0        1706.0      13568.0         44.000000   \n",
              "66      300.0          9027.0        1706.0      11508.0        185.000000   \n",
              "70      300.0         15320.0        1706.0       2007.0         30.000000   \n",
              "78      300.0          6194.0        1706.0       4823.0        534.393443   \n",
              "\n",
              "    Tot Cases/1M pop  Deaths/1M pop  \n",
              "4             9063.0          162.0  \n",
              "26             927.0           48.0  \n",
              "45             219.0            5.0  \n",
              "54             766.0           29.0  \n",
              "56             802.0           12.0  \n",
              "61             453.0            7.0  \n",
              "66             181.0            3.0  \n",
              "70             666.0           15.0  \n",
              "78             268.0           17.0  "
            ],
            "text/html": [
              "\n",
              "  <div id=\"df-25450612-3ee8-410d-898a-0d8b0acf8cb1\" class=\"colab-df-container\">\n",
              "    <div>\n",
              "<style scoped>\n",
              "    .dataframe tbody tr th:only-of-type {\n",
              "        vertical-align: middle;\n",
              "    }\n",
              "\n",
              "    .dataframe tbody tr th {\n",
              "        vertical-align: top;\n",
              "    }\n",
              "\n",
              "    .dataframe thead th {\n",
              "        text-align: right;\n",
              "    }\n",
              "</style>\n",
              "<table border=\"1\" class=\"dataframe\">\n",
              "  <thead>\n",
              "    <tr style=\"text-align: right;\">\n",
              "      <th></th>\n",
              "      <th>Country/Region</th>\n",
              "      <th>Continent</th>\n",
              "      <th>Population</th>\n",
              "      <th>TotalCases</th>\n",
              "      <th>NewCases</th>\n",
              "      <th>TotalDeaths</th>\n",
              "      <th>NewDeaths</th>\n",
              "      <th>TotalRecovered</th>\n",
              "      <th>NewRecovered</th>\n",
              "      <th>ActiveCases</th>\n",
              "      <th>Serious,Critical</th>\n",
              "      <th>Tot Cases/1M pop</th>\n",
              "      <th>Deaths/1M pop</th>\n",
              "    </tr>\n",
              "  </thead>\n",
              "  <tbody>\n",
              "    <tr>\n",
              "      <th>4</th>\n",
              "      <td>South Africa</td>\n",
              "      <td>Africa</td>\n",
              "      <td>59381566.0</td>\n",
              "      <td>538184</td>\n",
              "      <td>1980.5</td>\n",
              "      <td>9604.0</td>\n",
              "      <td>300.0</td>\n",
              "      <td>387316.0</td>\n",
              "      <td>1706.0</td>\n",
              "      <td>141264.0</td>\n",
              "      <td>539.000000</td>\n",
              "      <td>9063.0</td>\n",
              "      <td>162.0</td>\n",
              "    </tr>\n",
              "    <tr>\n",
              "      <th>26</th>\n",
              "      <td>Egypt</td>\n",
              "      <td>Africa</td>\n",
              "      <td>102516525.0</td>\n",
              "      <td>95006</td>\n",
              "      <td>1980.5</td>\n",
              "      <td>4951.0</td>\n",
              "      <td>300.0</td>\n",
              "      <td>48898.0</td>\n",
              "      <td>1706.0</td>\n",
              "      <td>41157.0</td>\n",
              "      <td>41.000000</td>\n",
              "      <td>927.0</td>\n",
              "      <td>48.0</td>\n",
              "    </tr>\n",
              "    <tr>\n",
              "      <th>45</th>\n",
              "      <td>Nigeria</td>\n",
              "      <td>Africa</td>\n",
              "      <td>206606300.0</td>\n",
              "      <td>45244</td>\n",
              "      <td>1980.5</td>\n",
              "      <td>930.0</td>\n",
              "      <td>300.0</td>\n",
              "      <td>32430.0</td>\n",
              "      <td>1706.0</td>\n",
              "      <td>11884.0</td>\n",
              "      <td>7.000000</td>\n",
              "      <td>219.0</td>\n",
              "      <td>5.0</td>\n",
              "    </tr>\n",
              "    <tr>\n",
              "      <th>54</th>\n",
              "      <td>Algeria</td>\n",
              "      <td>Africa</td>\n",
              "      <td>43926079.0</td>\n",
              "      <td>33626</td>\n",
              "      <td>1980.5</td>\n",
              "      <td>1273.0</td>\n",
              "      <td>300.0</td>\n",
              "      <td>23238.0</td>\n",
              "      <td>1706.0</td>\n",
              "      <td>9115.0</td>\n",
              "      <td>57.000000</td>\n",
              "      <td>766.0</td>\n",
              "      <td>29.0</td>\n",
              "    </tr>\n",
              "    <tr>\n",
              "      <th>56</th>\n",
              "      <td>Morocco</td>\n",
              "      <td>Africa</td>\n",
              "      <td>36953359.0</td>\n",
              "      <td>29644</td>\n",
              "      <td>1980.5</td>\n",
              "      <td>449.0</td>\n",
              "      <td>300.0</td>\n",
              "      <td>20553.0</td>\n",
              "      <td>1706.0</td>\n",
              "      <td>8642.0</td>\n",
              "      <td>31.000000</td>\n",
              "      <td>802.0</td>\n",
              "      <td>12.0</td>\n",
              "    </tr>\n",
              "    <tr>\n",
              "      <th>61</th>\n",
              "      <td>Kenya</td>\n",
              "      <td>Africa</td>\n",
              "      <td>53881160.0</td>\n",
              "      <td>24411</td>\n",
              "      <td>1980.5</td>\n",
              "      <td>399.0</td>\n",
              "      <td>300.0</td>\n",
              "      <td>10444.0</td>\n",
              "      <td>1706.0</td>\n",
              "      <td>13568.0</td>\n",
              "      <td>44.000000</td>\n",
              "      <td>453.0</td>\n",
              "      <td>7.0</td>\n",
              "    </tr>\n",
              "    <tr>\n",
              "      <th>66</th>\n",
              "      <td>Ethiopia</td>\n",
              "      <td>Africa</td>\n",
              "      <td>115223736.0</td>\n",
              "      <td>20900</td>\n",
              "      <td>1980.5</td>\n",
              "      <td>365.0</td>\n",
              "      <td>300.0</td>\n",
              "      <td>9027.0</td>\n",
              "      <td>1706.0</td>\n",
              "      <td>11508.0</td>\n",
              "      <td>185.000000</td>\n",
              "      <td>181.0</td>\n",
              "      <td>3.0</td>\n",
              "    </tr>\n",
              "    <tr>\n",
              "      <th>70</th>\n",
              "      <td>Cameroon</td>\n",
              "      <td>Africa</td>\n",
              "      <td>26606188.0</td>\n",
              "      <td>17718</td>\n",
              "      <td>1980.5</td>\n",
              "      <td>391.0</td>\n",
              "      <td>300.0</td>\n",
              "      <td>15320.0</td>\n",
              "      <td>1706.0</td>\n",
              "      <td>2007.0</td>\n",
              "      <td>30.000000</td>\n",
              "      <td>666.0</td>\n",
              "      <td>15.0</td>\n",
              "    </tr>\n",
              "    <tr>\n",
              "      <th>78</th>\n",
              "      <td>Sudan</td>\n",
              "      <td>Africa</td>\n",
              "      <td>43943536.0</td>\n",
              "      <td>11780</td>\n",
              "      <td>1980.5</td>\n",
              "      <td>763.0</td>\n",
              "      <td>300.0</td>\n",
              "      <td>6194.0</td>\n",
              "      <td>1706.0</td>\n",
              "      <td>4823.0</td>\n",
              "      <td>534.393443</td>\n",
              "      <td>268.0</td>\n",
              "      <td>17.0</td>\n",
              "    </tr>\n",
              "  </tbody>\n",
              "</table>\n",
              "</div>\n",
              "    <div class=\"colab-df-buttons\">\n",
              "\n",
              "  <div class=\"colab-df-container\">\n",
              "    <button class=\"colab-df-convert\" onclick=\"convertToInteractive('df-25450612-3ee8-410d-898a-0d8b0acf8cb1')\"\n",
              "            title=\"Convert this dataframe to an interactive table.\"\n",
              "            style=\"display:none;\">\n",
              "\n",
              "  <svg xmlns=\"http://www.w3.org/2000/svg\" height=\"24px\" viewBox=\"0 -960 960 960\">\n",
              "    <path d=\"M120-120v-720h720v720H120Zm60-500h600v-160H180v160Zm220 220h160v-160H400v160Zm0 220h160v-160H400v160ZM180-400h160v-160H180v160Zm440 0h160v-160H620v160ZM180-180h160v-160H180v160Zm440 0h160v-160H620v160Z\"/>\n",
              "  </svg>\n",
              "    </button>\n",
              "\n",
              "  <style>\n",
              "    .colab-df-container {\n",
              "      display:flex;\n",
              "      gap: 12px;\n",
              "    }\n",
              "\n",
              "    .colab-df-convert {\n",
              "      background-color: #E8F0FE;\n",
              "      border: none;\n",
              "      border-radius: 50%;\n",
              "      cursor: pointer;\n",
              "      display: none;\n",
              "      fill: #1967D2;\n",
              "      height: 32px;\n",
              "      padding: 0 0 0 0;\n",
              "      width: 32px;\n",
              "    }\n",
              "\n",
              "    .colab-df-convert:hover {\n",
              "      background-color: #E2EBFA;\n",
              "      box-shadow: 0px 1px 2px rgba(60, 64, 67, 0.3), 0px 1px 3px 1px rgba(60, 64, 67, 0.15);\n",
              "      fill: #174EA6;\n",
              "    }\n",
              "\n",
              "    .colab-df-buttons div {\n",
              "      margin-bottom: 4px;\n",
              "    }\n",
              "\n",
              "    [theme=dark] .colab-df-convert {\n",
              "      background-color: #3B4455;\n",
              "      fill: #D2E3FC;\n",
              "    }\n",
              "\n",
              "    [theme=dark] .colab-df-convert:hover {\n",
              "      background-color: #434B5C;\n",
              "      box-shadow: 0px 1px 3px 1px rgba(0, 0, 0, 0.15);\n",
              "      filter: drop-shadow(0px 1px 2px rgba(0, 0, 0, 0.3));\n",
              "      fill: #FFFFFF;\n",
              "    }\n",
              "  </style>\n",
              "\n",
              "    <script>\n",
              "      const buttonEl =\n",
              "        document.querySelector('#df-25450612-3ee8-410d-898a-0d8b0acf8cb1 button.colab-df-convert');\n",
              "      buttonEl.style.display =\n",
              "        google.colab.kernel.accessAllowed ? 'block' : 'none';\n",
              "\n",
              "      async function convertToInteractive(key) {\n",
              "        const element = document.querySelector('#df-25450612-3ee8-410d-898a-0d8b0acf8cb1');\n",
              "        const dataTable =\n",
              "          await google.colab.kernel.invokeFunction('convertToInteractive',\n",
              "                                                    [key], {});\n",
              "        if (!dataTable) return;\n",
              "\n",
              "        const docLinkHtml = 'Like what you see? Visit the ' +\n",
              "          '<a target=\"_blank\" href=https://colab.research.google.com/notebooks/data_table.ipynb>data table notebook</a>'\n",
              "          + ' to learn more about interactive tables.';\n",
              "        element.innerHTML = '';\n",
              "        dataTable['output_type'] = 'display_data';\n",
              "        await google.colab.output.renderOutput(dataTable, element);\n",
              "        const docLink = document.createElement('div');\n",
              "        docLink.innerHTML = docLinkHtml;\n",
              "        element.appendChild(docLink);\n",
              "      }\n",
              "    </script>\n",
              "  </div>\n",
              "\n",
              "\n",
              "<div id=\"df-eaa1f065-578b-45f3-8927-3da11f21efa8\">\n",
              "  <button class=\"colab-df-quickchart\" onclick=\"quickchart('df-eaa1f065-578b-45f3-8927-3da11f21efa8')\"\n",
              "            title=\"Suggest charts\"\n",
              "            style=\"display:none;\">\n",
              "\n",
              "<svg xmlns=\"http://www.w3.org/2000/svg\" height=\"24px\"viewBox=\"0 0 24 24\"\n",
              "     width=\"24px\">\n",
              "    <g>\n",
              "        <path d=\"M19 3H5c-1.1 0-2 .9-2 2v14c0 1.1.9 2 2 2h14c1.1 0 2-.9 2-2V5c0-1.1-.9-2-2-2zM9 17H7v-7h2v7zm4 0h-2V7h2v10zm4 0h-2v-4h2v4z\"/>\n",
              "    </g>\n",
              "</svg>\n",
              "  </button>\n",
              "\n",
              "<style>\n",
              "  .colab-df-quickchart {\n",
              "      --bg-color: #E8F0FE;\n",
              "      --fill-color: #1967D2;\n",
              "      --hover-bg-color: #E2EBFA;\n",
              "      --hover-fill-color: #174EA6;\n",
              "      --disabled-fill-color: #AAA;\n",
              "      --disabled-bg-color: #DDD;\n",
              "  }\n",
              "\n",
              "  [theme=dark] .colab-df-quickchart {\n",
              "      --bg-color: #3B4455;\n",
              "      --fill-color: #D2E3FC;\n",
              "      --hover-bg-color: #434B5C;\n",
              "      --hover-fill-color: #FFFFFF;\n",
              "      --disabled-bg-color: #3B4455;\n",
              "      --disabled-fill-color: #666;\n",
              "  }\n",
              "\n",
              "  .colab-df-quickchart {\n",
              "    background-color: var(--bg-color);\n",
              "    border: none;\n",
              "    border-radius: 50%;\n",
              "    cursor: pointer;\n",
              "    display: none;\n",
              "    fill: var(--fill-color);\n",
              "    height: 32px;\n",
              "    padding: 0;\n",
              "    width: 32px;\n",
              "  }\n",
              "\n",
              "  .colab-df-quickchart:hover {\n",
              "    background-color: var(--hover-bg-color);\n",
              "    box-shadow: 0 1px 2px rgba(60, 64, 67, 0.3), 0 1px 3px 1px rgba(60, 64, 67, 0.15);\n",
              "    fill: var(--button-hover-fill-color);\n",
              "  }\n",
              "\n",
              "  .colab-df-quickchart-complete:disabled,\n",
              "  .colab-df-quickchart-complete:disabled:hover {\n",
              "    background-color: var(--disabled-bg-color);\n",
              "    fill: var(--disabled-fill-color);\n",
              "    box-shadow: none;\n",
              "  }\n",
              "\n",
              "  .colab-df-spinner {\n",
              "    border: 2px solid var(--fill-color);\n",
              "    border-color: transparent;\n",
              "    border-bottom-color: var(--fill-color);\n",
              "    animation:\n",
              "      spin 1s steps(1) infinite;\n",
              "  }\n",
              "\n",
              "  @keyframes spin {\n",
              "    0% {\n",
              "      border-color: transparent;\n",
              "      border-bottom-color: var(--fill-color);\n",
              "      border-left-color: var(--fill-color);\n",
              "    }\n",
              "    20% {\n",
              "      border-color: transparent;\n",
              "      border-left-color: var(--fill-color);\n",
              "      border-top-color: var(--fill-color);\n",
              "    }\n",
              "    30% {\n",
              "      border-color: transparent;\n",
              "      border-left-color: var(--fill-color);\n",
              "      border-top-color: var(--fill-color);\n",
              "      border-right-color: var(--fill-color);\n",
              "    }\n",
              "    40% {\n",
              "      border-color: transparent;\n",
              "      border-right-color: var(--fill-color);\n",
              "      border-top-color: var(--fill-color);\n",
              "    }\n",
              "    60% {\n",
              "      border-color: transparent;\n",
              "      border-right-color: var(--fill-color);\n",
              "    }\n",
              "    80% {\n",
              "      border-color: transparent;\n",
              "      border-right-color: var(--fill-color);\n",
              "      border-bottom-color: var(--fill-color);\n",
              "    }\n",
              "    90% {\n",
              "      border-color: transparent;\n",
              "      border-bottom-color: var(--fill-color);\n",
              "    }\n",
              "  }\n",
              "</style>\n",
              "\n",
              "  <script>\n",
              "    async function quickchart(key) {\n",
              "      const quickchartButtonEl =\n",
              "        document.querySelector('#' + key + ' button');\n",
              "      quickchartButtonEl.disabled = true;  // To prevent multiple clicks.\n",
              "      quickchartButtonEl.classList.add('colab-df-spinner');\n",
              "      try {\n",
              "        const charts = await google.colab.kernel.invokeFunction(\n",
              "            'suggestCharts', [key], {});\n",
              "      } catch (error) {\n",
              "        console.error('Error during call to suggestCharts:', error);\n",
              "      }\n",
              "      quickchartButtonEl.classList.remove('colab-df-spinner');\n",
              "      quickchartButtonEl.classList.add('colab-df-quickchart-complete');\n",
              "    }\n",
              "    (() => {\n",
              "      let quickchartButtonEl =\n",
              "        document.querySelector('#df-eaa1f065-578b-45f3-8927-3da11f21efa8 button');\n",
              "      quickchartButtonEl.style.display =\n",
              "        google.colab.kernel.accessAllowed ? 'block' : 'none';\n",
              "    })();\n",
              "  </script>\n",
              "</div>\n",
              "    </div>\n",
              "  </div>\n"
            ],
            "application/vnd.google.colaboratory.intrinsic+json": {
              "type": "dataframe",
              "summary": "{\n  \"name\": \"df2[(df2['TotalDeaths'] > 300) & (df2['Continent'] == 'Africa')]\",\n  \"rows\": 9,\n  \"fields\": [\n    {\n      \"column\": \"Country/Region\",\n      \"properties\": {\n        \"dtype\": \"string\",\n        \"samples\": [\n          \"Cameroon\",\n          \"Egypt\",\n          \"Kenya\"\n        ],\n        \"num_unique_values\": 9,\n        \"semantic_type\": \"\",\n        \"description\": \"\"\n      }\n    },\n    {\n      \"column\": \"Continent\",\n      \"properties\": {\n        \"dtype\": \"category\",\n        \"samples\": [\n          \"Africa\"\n        ],\n        \"num_unique_values\": 1,\n        \"semantic_type\": \"\",\n        \"description\": \"\"\n      }\n    },\n    {\n      \"column\": \"Population\",\n      \"properties\": {\n        \"dtype\": \"number\",\n        \"std\": 57099660.74958956,\n        \"min\": 26606188.0,\n        \"max\": 206606300.0,\n        \"samples\": [\n          26606188.0\n        ],\n        \"num_unique_values\": 9,\n        \"semantic_type\": \"\",\n        \"description\": \"\"\n      }\n    },\n    {\n      \"column\": \"TotalCases\",\n      \"properties\": {\n        \"dtype\": \"number\",\n        \"std\": 169607,\n        \"min\": 11780,\n        \"max\": 538184,\n        \"samples\": [\n          17718\n        ],\n        \"num_unique_values\": 9,\n        \"semantic_type\": \"\",\n        \"description\": \"\"\n      }\n    },\n    {\n      \"column\": \"NewCases\",\n      \"properties\": {\n        \"dtype\": \"number\",\n        \"std\": 0.0,\n        \"min\": 1980.5,\n        \"max\": 1980.5,\n        \"samples\": [\n          1980.5\n        ],\n        \"num_unique_values\": 1,\n        \"semantic_type\": \"\",\n        \"description\": \"\"\n      }\n    },\n    {\n      \"column\": \"TotalDeaths\",\n      \"properties\": {\n        \"dtype\": \"number\",\n        \"std\": 3158.779392423599,\n        \"min\": 365.0,\n        \"max\": 9604.0,\n        \"samples\": [\n          391.0\n        ],\n        \"num_unique_values\": 9,\n        \"semantic_type\": \"\",\n        \"description\": \"\"\n      }\n    },\n    {\n      \"column\": \"NewDeaths\",\n      \"properties\": {\n        \"dtype\": \"number\",\n        \"std\": 0.0,\n        \"min\": 300.0,\n        \"max\": 300.0,\n        \"samples\": [\n          300.0\n        ],\n        \"num_unique_values\": 1,\n        \"semantic_type\": \"\",\n        \"description\": \"\"\n      }\n    },\n    {\n      \"column\": \"TotalRecovered\",\n      \"properties\": {\n        \"dtype\": \"number\",\n        \"std\": 122908.53042145248,\n        \"min\": 6194.0,\n        \"max\": 387316.0,\n        \"samples\": [\n          15320.0\n        ],\n        \"num_unique_values\": 9,\n        \"semantic_type\": \"\",\n        \"description\": \"\"\n      }\n    },\n    {\n      \"column\": \"NewRecovered\",\n      \"properties\": {\n        \"dtype\": \"number\",\n        \"std\": 0.0,\n        \"min\": 1706.0,\n        \"max\": 1706.0,\n        \"samples\": [\n          1706.0\n        ],\n        \"num_unique_values\": 1,\n        \"semantic_type\": \"\",\n        \"description\": \"\"\n      }\n    },\n    {\n      \"column\": \"ActiveCases\",\n      \"properties\": {\n        \"dtype\": \"number\",\n        \"std\": 44270.26533439547,\n        \"min\": 2007.0,\n        \"max\": 141264.0,\n        \"samples\": [\n          2007.0\n        ],\n        \"num_unique_values\": 9,\n        \"semantic_type\": \"\",\n        \"description\": \"\"\n      }\n    },\n    {\n      \"column\": \"Serious,Critical\",\n      \"properties\": {\n        \"dtype\": \"number\",\n        \"std\": 217.8080787875086,\n        \"min\": 7.0,\n        \"max\": 539.0,\n        \"samples\": [\n          30.0\n        ],\n        \"num_unique_values\": 9,\n        \"semantic_type\": \"\",\n        \"description\": \"\"\n      }\n    },\n    {\n      \"column\": \"Tot Cases/1M pop\",\n      \"properties\": {\n        \"dtype\": \"number\",\n        \"std\": 2855.715749938086,\n        \"min\": 181.0,\n        \"max\": 9063.0,\n        \"samples\": [\n          666.0\n        ],\n        \"num_unique_values\": 9,\n        \"semantic_type\": \"\",\n        \"description\": \"\"\n      }\n    },\n    {\n      \"column\": \"Deaths/1M pop\",\n      \"properties\": {\n        \"dtype\": \"number\",\n        \"std\": 50.3275382977462,\n        \"min\": 3.0,\n        \"max\": 162.0,\n        \"samples\": [\n          15.0\n        ],\n        \"num_unique_values\": 9,\n        \"semantic_type\": \"\",\n        \"description\": \"\"\n      }\n    }\n  ]\n}"
            }
          },
          "metadata": {},
          "execution_count": 32
        }
      ],
      "source": [
        "df2[(df2['TotalDeaths'] > 300) & (df2['Continent'] == 'Africa')]"
      ]
    },
    {
      "cell_type": "code",
      "execution_count": 33,
      "metadata": {
        "id": "n-Zn2V73vcXF",
        "colab": {
          "base_uri": "https://localhost:8080/"
        },
        "outputId": "69e2ac9b-5b12-4e04-dce9-fefe18506919"
      },
      "outputs": [
        {
          "output_type": "stream",
          "name": "stdout",
          "text": [
            "Average active cases more than serious,critical average: 0       True\n",
            "1       True\n",
            "2       True\n",
            "3       True\n",
            "4      False\n",
            "       ...  \n",
            "192    False\n",
            "194    False\n",
            "195    False\n",
            "204    False\n",
            "208    False\n",
            "Name: Serious,Critical, Length: 187, dtype: bool\n"
          ]
        }
      ],
      "source": [
        "SeriousCritical_more_than_avg = df2['Serious,Critical'] > df2['Serious,Critical'].mean()\n",
        "activecases1 = df2[SeriousCritical_more_than_avg]['ActiveCases'].mean()\n",
        "print('Average active cases more than serious,critical average:', SeriousCritical_more_than_avg)"
      ]
    },
    {
      "cell_type": "markdown",
      "metadata": {
        "id": "Q0TP2gzauzQo"
      },
      "source": [
        "It is a good idea to gauge the max values to understand the graphs more clearly."
      ]
    },
    {
      "cell_type": "code",
      "execution_count": 34,
      "metadata": {
        "id": "xZYZk0hhsO79",
        "colab": {
          "base_uri": "https://localhost:8080/",
          "height": 472
        },
        "outputId": "807a62d8-1243-493f-a550-06f64da9dcf0"
      },
      "outputs": [
        {
          "output_type": "display_data",
          "data": {
            "text/plain": [
              "<Figure size 640x480 with 1 Axes>"
            ],
            "image/png": "[encoded data removed]"
          },
          "metadata": {}
        }
      ],
      "source": [
        "xscatter = df2[\"TotalDeaths\"]\n",
        "yscatter = df2[\"TotalRecovered\"]\n",
        "plt.scatter(xscatter, yscatter)\n",
        "plt.xlabel(\"TotalDeaths\")\n",
        "plt.ylabel(\"TotalRecovered\")\n",
        "plt.title(\"Scatter plot of Deaths vs recovered\")\n",
        "plt.show()"
      ]
    },
    {
      "cell_type": "markdown",
      "metadata": {
        "id": "OHHktj67r5Aj"
      },
      "source": [
        "1e6 = 10^6 = 1,000,000"
      ]
    },
    {
      "cell_type": "code",
      "execution_count": 35,
      "metadata": {
        "id": "o6GTAJbutF5a",
        "colab": {
          "base_uri": "https://localhost:8080/",
          "height": 548
        },
        "outputId": "5aa4edb3-b640-4490-a15c-f6c8be86b761"
      },
      "outputs": [
        {
          "output_type": "display_data",
          "data": {
            "text/plain": [
              "<Figure size 1000x600 with 1 Axes>"
            ],
            "image/png": "[encoded data removed]"
          },
          "metadata": {}
        }
      ],
      "source": [
        "# Plot a bar graph of the sales and expenses columns\n",
        "ax = df2.head(20)[['TotalDeaths', 'TotalRecovered']].plot(kind='bar', figsize=(10, 6))\n",
        "\n",
        "# Set the title and labels\n",
        "ax.set_title('Recovered vs Deaths')\n",
        "ax.set_ylabel('TotalDeaths')\n",
        "\n",
        "# Show the plot\n",
        "plt.show()"
      ]
    },
    {
      "cell_type": "code",
      "execution_count": 36,
      "metadata": {
        "id": "0SSbBAqfvw1w",
        "colab": {
          "base_uri": "https://localhost:8080/",
          "height": 472
        },
        "outputId": "0c8501db-e301-4e11-bea8-017b058801c4"
      },
      "outputs": [
        {
          "output_type": "display_data",
          "data": {
            "text/plain": [
              "<Figure size 640x480 with 1 Axes>"
            ],
            "image/png": "[encoded data removed]"
          },
          "metadata": {}
        }
      ],
      "source": [
        "plt.plot(df2['TotalRecovered'], label='Recovered')\n",
        "plt.plot(df2['TotalDeaths'], label='Deaths')\n",
        "\n",
        "# Add axis labels and a title\n",
        "plt.xlabel('Deaths')\n",
        "plt.ylabel('Recovered')\n",
        "plt.title('Line chart comparing Deaths vs recovered')\n",
        "\n",
        "# Add a legend\n",
        "plt.legend()\n",
        "\n",
        "# Display the chart\n",
        "plt.show()"
      ]
    },
    {
      "cell_type": "markdown",
      "source": [
        "Now lets look at the Continent of North America"
      ],
      "metadata": {
        "id": "AJZN4osD3N8Q"
      }
    },
    {
      "cell_type": "code",
      "source": [
        "df2_north_america = df2.loc[df2['Continent'] == 'North America']"
      ],
      "metadata": {
        "id": "H52eR4CA3U9P"
      },
      "execution_count": 37,
      "outputs": []
    },
    {
      "cell_type": "code",
      "source": [
        "plt.figure(figsize=(50,20))\n",
        "sns.barplot(x='TotalRecovered', y='TotalDeaths', hue='Continent', data=df2_north_america)"
      ],
      "metadata": {
        "id": "ci6pw9sN8Qi_",
        "colab": {
          "base_uri": "https://localhost:8080/",
          "height": 565
        },
        "outputId": "33fc359a-429b-4e64-8d8a-cbe300a1745e"
      },
      "execution_count": 38,
      "outputs": [
        {
          "output_type": "execute_result",
          "data": {
            "text/plain": [
              "<Axes: xlabel='TotalRecovered', ylabel='TotalDeaths'>"
            ]
          },
          "metadata": {},
          "execution_count": 38
        },
        {
          "output_type": "display_data",
          "data": {
            "text/plain": [
              "<Figure size 5000x2000 with 1 Axes>"
            ],
            "image/png": "[encoded data removed]"
          },
          "metadata": {}
        }
      ]
    },
    {
      "cell_type": "markdown",
      "source": [
        "We do not know which countries in North America these stats pertain to, lets find out"
      ],
      "metadata": {
        "id": "IJgqujAu9lmO"
      }
    },
    {
      "cell_type": "code",
      "source": [
        "selected_columns = ['TotalRecovered', 'TotalDeaths', 'Continent', 'Country/Region']\n",
        "north_america_df = df2[df2['Continent'] == 'North America']\n",
        "display_df = north_america_df[selected_columns]\n",
        "display_df"
      ],
      "metadata": {
        "id": "MSWqfeFR9ttD",
        "colab": {
          "base_uri": "https://localhost:8080/",
          "height": 927
        },
        "outputId": "0db1e3d3-c151-4942-f11e-dfe4e72ae419"
      },
      "execution_count": 39,
      "outputs": [
        {
          "output_type": "execute_result",
          "data": {
            "text/plain": [
              "     TotalRecovered  TotalDeaths      Continent       Country/Region\n",
              "0         2576668.0     162804.0  North America                  USA\n",
              "5          308848.0      50517.0  North America               Mexico\n",
              "23         103106.0       8966.0  North America               Canada\n",
              "33          40539.0       1246.0  North America   Dominican Republic\n",
              "34          45658.0       1574.0  North America               Panama\n",
              "42          42070.0       2119.0  North America            Guatemala\n",
              "46           6116.0       1423.0  North America             Honduras\n",
              "65           7038.0        200.0  North America           Costa Rica\n",
              "68           9236.0        513.0  North America          El Salvador\n",
              "88           4832.0        171.0  North America                Haiti\n",
              "106          2913.0        123.0  North America            Nicaragua\n",
              "115          2409.0         88.0  North America                 Cuba\n",
              "146           745.0         12.0  North America              Jamaica\n",
              "153            91.0         14.0  North America              Bahamas\n",
              "170           179.0         14.0  North America           Guadeloupe\n",
              "171            98.0         15.0  North America           Martinique\n",
              "173           114.0          3.0  North America                Aruba\n",
              "175           135.0          8.0  North America  Trinidad and Tobago\n",
              "176           202.0          1.0  North America       Cayman Islands\n",
              "179            64.0         16.0  North America         Sint Maarten\n",
              "180           144.0          9.0  North America              Bermuda\n",
              "182           100.0          7.0  North America             Barbados\n",
              "183            39.0          2.0  North America     Turks and Caicos\n",
              "187            76.0          3.0  North America  Antigua and Barbuda\n",
              "189            31.0          2.0  North America               Belize\n",
              "192            41.0          3.0  North America         Saint Martin\n",
              "194            28.0          1.0  North America              Curaçao\n",
              "204            10.0          1.0  North America           Montserrat"
            ],
            "text/html": [
              "\n",
              "  <div id=\"df-68fce8a1-6df9-4f52-8339-5a9e8edfa879\" class=\"colab-df-container\">\n",
              "    <div>\n",
              "<style scoped>\n",
              "    .dataframe tbody tr th:only-of-type {\n",
              "        vertical-align: middle;\n",
              "    }\n",
              "\n",
              "    .dataframe tbody tr th {\n",
              "        vertical-align: top;\n",
              "    }\n",
              "\n",
              "    .dataframe thead th {\n",
              "        text-align: right;\n",
              "    }\n",
              "</style>\n",
              "<table border=\"1\" class=\"dataframe\">\n",
              "  <thead>\n",
              "    <tr style=\"text-align: right;\">\n",
              "      <th></th>\n",
              "      <th>TotalRecovered</th>\n",
              "      <th>TotalDeaths</th>\n",
              "      <th>Continent</th>\n",
              "      <th>Country/Region</th>\n",
              "    </tr>\n",
              "  </thead>\n",
              "  <tbody>\n",
              "    <tr>\n",
              "      <th>0</th>\n",
              "      <td>2576668.0</td>\n",
              "      <td>162804.0</td>\n",
              "      <td>North America</td>\n",
              "      <td>USA</td>\n",
              "    </tr>\n",
              "    <tr>\n",
              "      <th>5</th>\n",
              "      <td>308848.0</td>\n",
              "      <td>50517.0</td>\n",
              "      <td>North America</td>\n",
              "      <td>Mexico</td>\n",
              "    </tr>\n",
              "    <tr>\n",
              "      <th>23</th>\n",
              "      <td>103106.0</td>\n",
              "      <td>8966.0</td>\n",
              "      <td>North America</td>\n",
              "      <td>Canada</td>\n",
              "    </tr>\n",
              "    <tr>\n",
              "      <th>33</th>\n",
              "      <td>40539.0</td>\n",
              "      <td>1246.0</td>\n",
              "      <td>North America</td>\n",
              "      <td>Dominican Republic</td>\n",
              "    </tr>\n",
              "    <tr>\n",
              "      <th>34</th>\n",
              "      <td>45658.0</td>\n",
              "      <td>1574.0</td>\n",
              "      <td>North America</td>\n",
              "      <td>Panama</td>\n",
              "    </tr>\n",
              "    <tr>\n",
              "      <th>42</th>\n",
              "      <td>42070.0</td>\n",
              "      <td>2119.0</td>\n",
              "      <td>North America</td>\n",
              "      <td>Guatemala</td>\n",
              "    </tr>\n",
              "    <tr>\n",
              "      <th>46</th>\n",
              "      <td>6116.0</td>\n",
              "      <td>1423.0</td>\n",
              "      <td>North America</td>\n",
              "      <td>Honduras</td>\n",
              "    </tr>\n",
              "    <tr>\n",
              "      <th>65</th>\n",
              "      <td>7038.0</td>\n",
              "      <td>200.0</td>\n",
              "      <td>North America</td>\n",
              "      <td>Costa Rica</td>\n",
              "    </tr>\n",
              "    <tr>\n",
              "      <th>68</th>\n",
              "      <td>9236.0</td>\n",
              "      <td>513.0</td>\n",
              "      <td>North America</td>\n",
              "      <td>El Salvador</td>\n",
              "    </tr>\n",
              "    <tr>\n",
              "      <th>88</th>\n",
              "      <td>4832.0</td>\n",
              "      <td>171.0</td>\n",
              "      <td>North America</td>\n",
              "      <td>Haiti</td>\n",
              "    </tr>\n",
              "    <tr>\n",
              "      <th>106</th>\n",
              "      <td>2913.0</td>\n",
              "      <td>123.0</td>\n",
              "      <td>North America</td>\n",
              "      <td>Nicaragua</td>\n",
              "    </tr>\n",
              "    <tr>\n",
              "      <th>115</th>\n",
              "      <td>2409.0</td>\n",
              "      <td>88.0</td>\n",
              "      <td>North America</td>\n",
              "      <td>Cuba</td>\n",
              "    </tr>\n",
              "    <tr>\n",
              "      <th>146</th>\n",
              "      <td>745.0</td>\n",
              "      <td>12.0</td>\n",
              "      <td>North America</td>\n",
              "      <td>Jamaica</td>\n",
              "    </tr>\n",
              "    <tr>\n",
              "      <th>153</th>\n",
              "      <td>91.0</td>\n",
              "      <td>14.0</td>\n",
              "      <td>North America</td>\n",
              "      <td>Bahamas</td>\n",
              "    </tr>\n",
              "    <tr>\n",
              "      <th>170</th>\n",
              "      <td>179.0</td>\n",
              "      <td>14.0</td>\n",
              "      <td>North America</td>\n",
              "      <td>Guadeloupe</td>\n",
              "    </tr>\n",
              "    <tr>\n",
              "      <th>171</th>\n",
              "      <td>98.0</td>\n",
              "      <td>15.0</td>\n",
              "      <td>North America</td>\n",
              "      <td>Martinique</td>\n",
              "    </tr>\n",
              "    <tr>\n",
              "      <th>173</th>\n",
              "      <td>114.0</td>\n",
              "      <td>3.0</td>\n",
              "      <td>North America</td>\n",
              "      <td>Aruba</td>\n",
              "    </tr>\n",
              "    <tr>\n",
              "      <th>175</th>\n",
              "      <td>135.0</td>\n",
              "      <td>8.0</td>\n",
              "      <td>North America</td>\n",
              "      <td>Trinidad and Tobago</td>\n",
              "    </tr>\n",
              "    <tr>\n",
              "      <th>176</th>\n",
              "      <td>202.0</td>\n",
              "      <td>1.0</td>\n",
              "      <td>North America</td>\n",
              "      <td>Cayman Islands</td>\n",
              "    </tr>\n",
              "    <tr>\n",
              "      <th>179</th>\n",
              "      <td>64.0</td>\n",
              "      <td>16.0</td>\n",
              "      <td>North America</td>\n",
              "      <td>Sint Maarten</td>\n",
              "    </tr>\n",
              "    <tr>\n",
              "      <th>180</th>\n",
              "      <td>144.0</td>\n",
              "      <td>9.0</td>\n",
              "      <td>North America</td>\n",
              "      <td>Bermuda</td>\n",
              "    </tr>\n",
              "    <tr>\n",
              "      <th>182</th>\n",
              "      <td>100.0</td>\n",
              "      <td>7.0</td>\n",
              "      <td>North America</td>\n",
              "      <td>Barbados</td>\n",
              "    </tr>\n",
              "    <tr>\n",
              "      <th>183</th>\n",
              "      <td>39.0</td>\n",
              "      <td>2.0</td>\n",
              "      <td>North America</td>\n",
              "      <td>Turks and Caicos</td>\n",
              "    </tr>\n",
              "    <tr>\n",
              "      <th>187</th>\n",
              "      <td>76.0</td>\n",
              "      <td>3.0</td>\n",
              "      <td>North America</td>\n",
              "      <td>Antigua and Barbuda</td>\n",
              "    </tr>\n",
              "    <tr>\n",
              "      <th>189</th>\n",
              "      <td>31.0</td>\n",
              "      <td>2.0</td>\n",
              "      <td>North America</td>\n",
              "      <td>Belize</td>\n",
              "    </tr>\n",
              "    <tr>\n",
              "      <th>192</th>\n",
              "      <td>41.0</td>\n",
              "      <td>3.0</td>\n",
              "      <td>North America</td>\n",
              "      <td>Saint Martin</td>\n",
              "    </tr>\n",
              "    <tr>\n",
              "      <th>194</th>\n",
              "      <td>28.0</td>\n",
              "      <td>1.0</td>\n",
              "      <td>North America</td>\n",
              "      <td>Curaçao</td>\n",
              "    </tr>\n",
              "    <tr>\n",
              "      <th>204</th>\n",
              "      <td>10.0</td>\n",
              "      <td>1.0</td>\n",
              "      <td>North America</td>\n",
              "      <td>Montserrat</td>\n",
              "    </tr>\n",
              "  </tbody>\n",
              "</table>\n",
              "</div>\n",
              "    <div class=\"colab-df-buttons\">\n",
              "\n",
              "  <div class=\"colab-df-container\">\n",
              "    <button class=\"colab-df-convert\" onclick=\"convertToInteractive('df-68fce8a1-6df9-4f52-8339-5a9e8edfa879')\"\n",
              "            title=\"Convert this dataframe to an interactive table.\"\n",
              "            style=\"display:none;\">\n",
              "\n",
              "  <svg xmlns=\"http://www.w3.org/2000/svg\" height=\"24px\" viewBox=\"0 -960 960 960\">\n",
              "    <path d=\"M120-120v-720h720v720H120Zm60-500h600v-160H180v160Zm220 220h160v-160H400v160Zm0 220h160v-160H400v160ZM180-400h160v-160H180v160Zm440 0h160v-160H620v160ZM180-180h160v-160H180v160Zm440 0h160v-160H620v160Z\"/>\n",
              "  </svg>\n",
              "    </button>\n",
              "\n",
              "  <style>\n",
              "    .colab-df-container {\n",
              "      display:flex;\n",
              "      gap: 12px;\n",
              "    }\n",
              "\n",
              "    .colab-df-convert {\n",
              "      background-color: #E8F0FE;\n",
              "      border: none;\n",
              "      border-radius: 50%;\n",
              "      cursor: pointer;\n",
              "      display: none;\n",
              "      fill: #1967D2;\n",
              "      height: 32px;\n",
              "      padding: 0 0 0 0;\n",
              "      width: 32px;\n",
              "    }\n",
              "\n",
              "    .colab-df-convert:hover {\n",
              "      background-color: #E2EBFA;\n",
              "      box-shadow: 0px 1px 2px rgba(60, 64, 67, 0.3), 0px 1px 3px 1px rgba(60, 64, 67, 0.15);\n",
              "      fill: #174EA6;\n",
              "    }\n",
              "\n",
              "    .colab-df-buttons div {\n",
              "      margin-bottom: 4px;\n",
              "    }\n",
              "\n",
              "    [theme=dark] .colab-df-convert {\n",
              "      background-color: #3B4455;\n",
              "      fill: #D2E3FC;\n",
              "    }\n",
              "\n",
              "    [theme=dark] .colab-df-convert:hover {\n",
              "      background-color: #434B5C;\n",
              "      box-shadow: 0px 1px 3px 1px rgba(0, 0, 0, 0.15);\n",
              "      filter: drop-shadow(0px 1px 2px rgba(0, 0, 0, 0.3));\n",
              "      fill: #FFFFFF;\n",
              "    }\n",
              "  </style>\n",
              "\n",
              "    <script>\n",
              "      const buttonEl =\n",
              "        document.querySelector('#df-68fce8a1-6df9-4f52-8339-5a9e8edfa879 button.colab-df-convert');\n",
              "      buttonEl.style.display =\n",
              "        google.colab.kernel.accessAllowed ? 'block' : 'none';\n",
              "\n",
              "      async function convertToInteractive(key) {\n",
              "        const element = document.querySelector('#df-68fce8a1-6df9-4f52-8339-5a9e8edfa879');\n",
              "        const dataTable =\n",
              "          await google.colab.kernel.invokeFunction('convertToInteractive',\n",
              "                                                    [key], {});\n",
              "        if (!dataTable) return;\n",
              "\n",
              "        const docLinkHtml = 'Like what you see? Visit the ' +\n",
              "          '<a target=\"_blank\" href=https://colab.research.google.com/notebooks/data_table.ipynb>data table notebook</a>'\n",
              "          + ' to learn more about interactive tables.';\n",
              "        element.innerHTML = '';\n",
              "        dataTable['output_type'] = 'display_data';\n",
              "        await google.colab.output.renderOutput(dataTable, element);\n",
              "        const docLink = document.createElement('div');\n",
              "        docLink.innerHTML = docLinkHtml;\n",
              "        element.appendChild(docLink);\n",
              "      }\n",
              "    </script>\n",
              "  </div>\n",
              "\n",
              "\n",
              "<div id=\"df-359c9a46-05b8-419f-8127-211a0243603f\">\n",
              "  <button class=\"colab-df-quickchart\" onclick=\"quickchart('df-359c9a46-05b8-419f-8127-211a0243603f')\"\n",
              "            title=\"Suggest charts\"\n",
              "            style=\"display:none;\">\n",
              "\n",
              "<svg xmlns=\"http://www.w3.org/2000/svg\" height=\"24px\"viewBox=\"0 0 24 24\"\n",
              "     width=\"24px\">\n",
              "    <g>\n",
              "        <path d=\"M19 3H5c-1.1 0-2 .9-2 2v14c0 1.1.9 2 2 2h14c1.1 0 2-.9 2-2V5c0-1.1-.9-2-2-2zM9 17H7v-7h2v7zm4 0h-2V7h2v10zm4 0h-2v-4h2v4z\"/>\n",
              "    </g>\n",
              "</svg>\n",
              "  </button>\n",
              "\n",
              "<style>\n",
              "  .colab-df-quickchart {\n",
              "      --bg-color: #E8F0FE;\n",
              "      --fill-color: #1967D2;\n",
              "      --hover-bg-color: #E2EBFA;\n",
              "      --hover-fill-color: #174EA6;\n",
              "      --disabled-fill-color: #AAA;\n",
              "      --disabled-bg-color: #DDD;\n",
              "  }\n",
              "\n",
              "  [theme=dark] .colab-df-quickchart {\n",
              "      --bg-color: #3B4455;\n",
              "      --fill-color: #D2E3FC;\n",
              "      --hover-bg-color: #434B5C;\n",
              "      --hover-fill-color: #FFFFFF;\n",
              "      --disabled-bg-color: #3B4455;\n",
              "      --disabled-fill-color: #666;\n",
              "  }\n",
              "\n",
              "  .colab-df-quickchart {\n",
              "    background-color: var(--bg-color);\n",
              "    border: none;\n",
              "    border-radius: 50%;\n",
              "    cursor: pointer;\n",
              "    display: none;\n",
              "    fill: var(--fill-color);\n",
              "    height: 32px;\n",
              "    padding: 0;\n",
              "    width: 32px;\n",
              "  }\n",
              "\n",
              "  .colab-df-quickchart:hover {\n",
              "    background-color: var(--hover-bg-color);\n",
              "    box-shadow: 0 1px 2px rgba(60, 64, 67, 0.3), 0 1px 3px 1px rgba(60, 64, 67, 0.15);\n",
              "    fill: var(--button-hover-fill-color);\n",
              "  }\n",
              "\n",
              "  .colab-df-quickchart-complete:disabled,\n",
              "  .colab-df-quickchart-complete:disabled:hover {\n",
              "    background-color: var(--disabled-bg-color);\n",
              "    fill: var(--disabled-fill-color);\n",
              "    box-shadow: none;\n",
              "  }\n",
              "\n",
              "  .colab-df-spinner {\n",
              "    border: 2px solid var(--fill-color);\n",
              "    border-color: transparent;\n",
              "    border-bottom-color: var(--fill-color);\n",
              "    animation:\n",
              "      spin 1s steps(1) infinite;\n",
              "  }\n",
              "\n",
              "  @keyframes spin {\n",
              "    0% {\n",
              "      border-color: transparent;\n",
              "      border-bottom-color: var(--fill-color);\n",
              "      border-left-color: var(--fill-color);\n",
              "    }\n",
              "    20% {\n",
              "      border-color: transparent;\n",
              "      border-left-color: var(--fill-color);\n",
              "      border-top-color: var(--fill-color);\n",
              "    }\n",
              "    30% {\n",
              "      border-color: transparent;\n",
              "      border-left-color: var(--fill-color);\n",
              "      border-top-color: var(--fill-color);\n",
              "      border-right-color: var(--fill-color);\n",
              "    }\n",
              "    40% {\n",
              "      border-color: transparent;\n",
              "      border-right-color: var(--fill-color);\n",
              "      border-top-color: var(--fill-color);\n",
              "    }\n",
              "    60% {\n",
              "      border-color: transparent;\n",
              "      border-right-color: var(--fill-color);\n",
              "    }\n",
              "    80% {\n",
              "      border-color: transparent;\n",
              "      border-right-color: var(--fill-color);\n",
              "      border-bottom-color: var(--fill-color);\n",
              "    }\n",
              "    90% {\n",
              "      border-color: transparent;\n",
              "      border-bottom-color: var(--fill-color);\n",
              "    }\n",
              "  }\n",
              "</style>\n",
              "\n",
              "  <script>\n",
              "    async function quickchart(key) {\n",
              "      const quickchartButtonEl =\n",
              "        document.querySelector('#' + key + ' button');\n",
              "      quickchartButtonEl.disabled = true;  // To prevent multiple clicks.\n",
              "      quickchartButtonEl.classList.add('colab-df-spinner');\n",
              "      try {\n",
              "        const charts = await google.colab.kernel.invokeFunction(\n",
              "            'suggestCharts', [key], {});\n",
              "      } catch (error) {\n",
              "        console.error('Error during call to suggestCharts:', error);\n",
              "      }\n",
              "      quickchartButtonEl.classList.remove('colab-df-spinner');\n",
              "      quickchartButtonEl.classList.add('colab-df-quickchart-complete');\n",
              "    }\n",
              "    (() => {\n",
              "      let quickchartButtonEl =\n",
              "        document.querySelector('#df-359c9a46-05b8-419f-8127-211a0243603f button');\n",
              "      quickchartButtonEl.style.display =\n",
              "        google.colab.kernel.accessAllowed ? 'block' : 'none';\n",
              "    })();\n",
              "  </script>\n",
              "</div>\n",
              "    </div>\n",
              "  </div>\n"
            ],
            "application/vnd.google.colaboratory.intrinsic+json": {
              "type": "dataframe",
              "variable_name": "display_df",
              "summary": "{\n  \"name\": \"display_df\",\n  \"rows\": 28,\n  \"fields\": [\n    {\n      \"column\": \"TotalRecovered\",\n      \"properties\": {\n        \"dtype\": \"number\",\n        \"std\": 486720.8924754412,\n        \"min\": 10.0,\n        \"max\": 2576668.0,\n        \"samples\": [\n          4832.0,\n          41.0,\n          9236.0\n        ],\n        \"num_unique_values\": 28,\n        \"semantic_type\": \"\",\n        \"description\": \"\"\n      }\n    },\n    {\n      \"column\": \"TotalDeaths\",\n      \"properties\": {\n        \"dtype\": \"number\",\n        \"std\": 31775.541579834622,\n        \"min\": 1.0,\n        \"max\": 162804.0,\n        \"samples\": [\n          162804.0,\n          14.0,\n          513.0\n        ],\n        \"num_unique_values\": 22,\n        \"semantic_type\": \"\",\n        \"description\": \"\"\n      }\n    },\n    {\n      \"column\": \"Continent\",\n      \"properties\": {\n        \"dtype\": \"category\",\n        \"samples\": [\n          \"North America\"\n        ],\n        \"num_unique_values\": 1,\n        \"semantic_type\": \"\",\n        \"description\": \"\"\n      }\n    },\n    {\n      \"column\": \"Country/Region\",\n      \"properties\": {\n        \"dtype\": \"string\",\n        \"samples\": [\n          \"Haiti\"\n        ],\n        \"num_unique_values\": 28,\n        \"semantic_type\": \"\",\n        \"description\": \"\"\n      }\n    }\n  ]\n}"
            }
          },
          "metadata": {},
          "execution_count": 39
        }
      ]
    },
    {
      "cell_type": "markdown",
      "source": [
        "Now lets look at USA indivdually."
      ],
      "metadata": {
        "id": "B_CcmVTXCT5N"
      }
    },
    {
      "cell_type": "code",
      "source": [
        "df2_na = df2[df2['Country/Region'] == 'USA']\n",
        "threshold = 100000  # Set threshold value for TotalRecovered and TotalDeaths columns\n",
        "df3_na = df2_na[selected_columns].query('TotalRecovered > @threshold and TotalDeaths > @threshold')  # Query for high values\n",
        "ax = df3_na.plot.bar(x='Country/Region', rot=0)\n",
        "ax.set_xlabel(\"Country\")\n",
        "ax.set_ylabel(\"Values\")\n",
        "ax.set_title(\"Total Recovered and Deaths in USA\")\n",
        "plt.show()"
      ],
      "metadata": {
        "id": "y4GuxI7eAuup",
        "colab": {
          "base_uri": "https://localhost:8080/",
          "height": 472
        },
        "outputId": "93f12696-95fd-46f4-e6e9-5646c3d81f10"
      },
      "execution_count": 40,
      "outputs": [
        {
          "output_type": "display_data",
          "data": {
            "text/plain": [
              "<Figure size 640x480 with 1 Axes>"
            ],
            "image/png": "[encoded data removed]"
          },
          "metadata": {}
        }
      ]
    },
    {
      "cell_type": "markdown",
      "metadata": {
        "id": "UyLqMxEuciC-"
      },
      "source": [
        "# **Data Modelling [40 marks]**\n",
        "**Task 1:** Incorporate 3 Descriptive Statistic methods and Data Visualization to describe and summarize data.\n",
        "\n",
        "**Task 2:** Define a `function` including a `Series` method, then use `apply()` to execute it over the column(s).\n",
        "\n",
        "*note*: seaborn and complex methods will be considered for full mark.\n",
        "\n",
        "*note*: you can use Series methods from here:\n",
        "https://pandas.pydata.org/docs/reference/series.html"
      ]
    },
    {
      "cell_type": "code",
      "execution_count": 41,
      "metadata": {
        "id": "2vomglC8Aptw",
        "colab": {
          "base_uri": "https://localhost:8080/",
          "height": 335
        },
        "outputId": "3a71c2b6-9fc9-4b1e-a510-03b1487bb1fc"
      },
      "outputs": [
        {
          "output_type": "execute_result",
          "data": {
            "text/plain": [
              "         Population    TotalCases     NewCases    TotalDeaths  NewDeaths  \\\n",
              "count  1.870000e+02  1.870000e+02   187.000000     187.000000  187.00000   \n",
              "mean   3.364411e+07  1.024951e+05  1980.500000    3812.802139  300.00000   \n",
              "std    1.100442e+08  4.562410e+05   397.461048   15526.274946   46.78721   \n",
              "min    4.992000e+03  1.000000e+01    20.000000       1.000000    1.00000   \n",
              "25%    2.081166e+06  1.215500e+03  1980.500000      22.500000  300.00000   \n",
              "50%    9.197590e+06  6.375000e+03  1980.500000     119.000000  300.00000   \n",
              "75%    2.953669e+07  4.399350e+04  1980.500000     800.000000  300.00000   \n",
              "max    1.381345e+09  5.032179e+06  6590.000000  162804.000000  819.00000   \n",
              "\n",
              "       TotalRecovered  NewRecovered   ActiveCases  Serious,Critical  \\\n",
              "count    1.870000e+02    187.000000  1.870000e+02        187.000000   \n",
              "mean     6.579370e+04   1706.000000  3.091741e+04        545.786885   \n",
              "std      2.679818e+05    223.440257  1.826111e+05       1649.556981   \n",
              "min      8.000000e+00     42.000000  0.000000e+00          1.000000   \n",
              "25%      8.330000e+02   1706.000000  2.175000e+02         17.500000   \n",
              "50%      4.974000e+03   1706.000000  1.346000e+03        239.000000   \n",
              "75%      3.082750e+04   1706.000000  9.567500e+03        534.393443   \n",
              "max      2.576668e+06   4140.000000  2.292707e+06      18296.000000   \n",
              "\n",
              "       Tot Cases/1M pop  Deaths/1M pop  \n",
              "count        187.000000     187.000000  \n",
              "mean        3373.379679      98.681176  \n",
              "std         5325.132093     174.956862  \n",
              "min            7.000000       0.080000  \n",
              "25%          343.500000       6.000000  \n",
              "50%         1274.000000      29.000000  \n",
              "75%         4042.500000      98.000000  \n",
              "max        39922.000000    1238.000000  "
            ],
            "text/html": [
              "\n",
              "  <div id=\"df-e75b6415-b3ab-46b3-ac93-9f97fff4a9af\" class=\"colab-df-container\">\n",
              "    <div>\n",
              "<style scoped>\n",
              "    .dataframe tbody tr th:only-of-type {\n",
              "        vertical-align: middle;\n",
              "    }\n",
              "\n",
              "    .dataframe tbody tr th {\n",
              "        vertical-align: top;\n",
              "    }\n",
              "\n",
              "    .dataframe thead th {\n",
              "        text-align: right;\n",
              "    }\n",
              "</style>\n",
              "<table border=\"1\" class=\"dataframe\">\n",
              "  <thead>\n",
              "    <tr style=\"text-align: right;\">\n",
              "      <th></th>\n",
              "      <th>Population</th>\n",
              "      <th>TotalCases</th>\n",
              "      <th>NewCases</th>\n",
              "      <th>TotalDeaths</th>\n",
              "      <th>NewDeaths</th>\n",
              "      <th>TotalRecovered</th>\n",
              "      <th>NewRecovered</th>\n",
              "      <th>ActiveCases</th>\n",
              "      <th>Serious,Critical</th>\n",
              "      <th>Tot Cases/1M pop</th>\n",
              "      <th>Deaths/1M pop</th>\n",
              "    </tr>\n",
              "  </thead>\n",
              "  <tbody>\n",
              "    <tr>\n",
              "      <th>count</th>\n",
              "      <td>1.870000e+02</td>\n",
              "      <td>1.870000e+02</td>\n",
              "      <td>187.000000</td>\n",
              "      <td>187.000000</td>\n",
              "      <td>187.00000</td>\n",
              "      <td>1.870000e+02</td>\n",
              "      <td>187.000000</td>\n",
              "      <td>1.870000e+02</td>\n",
              "      <td>187.000000</td>\n",
              "      <td>187.000000</td>\n",
              "      <td>187.000000</td>\n",
              "    </tr>\n",
              "    <tr>\n",
              "      <th>mean</th>\n",
              "      <td>3.364411e+07</td>\n",
              "      <td>1.024951e+05</td>\n",
              "      <td>1980.500000</td>\n",
              "      <td>3812.802139</td>\n",
              "      <td>300.00000</td>\n",
              "      <td>6.579370e+04</td>\n",
              "      <td>1706.000000</td>\n",
              "      <td>3.091741e+04</td>\n",
              "      <td>545.786885</td>\n",
              "      <td>3373.379679</td>\n",
              "      <td>98.681176</td>\n",
              "    </tr>\n",
              "    <tr>\n",
              "      <th>std</th>\n",
              "      <td>1.100442e+08</td>\n",
              "      <td>4.562410e+05</td>\n",
              "      <td>397.461048</td>\n",
              "      <td>15526.274946</td>\n",
              "      <td>46.78721</td>\n",
              "      <td>2.679818e+05</td>\n",
              "      <td>223.440257</td>\n",
              "      <td>1.826111e+05</td>\n",
              "      <td>1649.556981</td>\n",
              "      <td>5325.132093</td>\n",
              "      <td>174.956862</td>\n",
              "    </tr>\n",
              "    <tr>\n",
              "      <th>min</th>\n",
              "      <td>4.992000e+03</td>\n",
              "      <td>1.000000e+01</td>\n",
              "      <td>20.000000</td>\n",
              "      <td>1.000000</td>\n",
              "      <td>1.00000</td>\n",
              "      <td>8.000000e+00</td>\n",
              "      <td>42.000000</td>\n",
              "      <td>0.000000e+00</td>\n",
              "      <td>1.000000</td>\n",
              "      <td>7.000000</td>\n",
              "      <td>0.080000</td>\n",
              "    </tr>\n",
              "    <tr>\n",
              "      <th>25%</th>\n",
              "      <td>2.081166e+06</td>\n",
              "      <td>1.215500e+03</td>\n",
              "      <td>1980.500000</td>\n",
              "      <td>22.500000</td>\n",
              "      <td>300.00000</td>\n",
              "      <td>8.330000e+02</td>\n",
              "      <td>1706.000000</td>\n",
              "      <td>2.175000e+02</td>\n",
              "      <td>17.500000</td>\n",
              "      <td>343.500000</td>\n",
              "      <td>6.000000</td>\n",
              "    </tr>\n",
              "    <tr>\n",
              "      <th>50%</th>\n",
              "      <td>9.197590e+06</td>\n",
              "      <td>6.375000e+03</td>\n",
              "      <td>1980.500000</td>\n",
              "      <td>119.000000</td>\n",
              "      <td>300.00000</td>\n",
              "      <td>4.974000e+03</td>\n",
              "      <td>1706.000000</td>\n",
              "      <td>1.346000e+03</td>\n",
              "      <td>239.000000</td>\n",
              "      <td>1274.000000</td>\n",
              "      <td>29.000000</td>\n",
              "    </tr>\n",
              "    <tr>\n",
              "      <th>75%</th>\n",
              "      <td>2.953669e+07</td>\n",
              "      <td>4.399350e+04</td>\n",
              "      <td>1980.500000</td>\n",
              "      <td>800.000000</td>\n",
              "      <td>300.00000</td>\n",
              "      <td>3.082750e+04</td>\n",
              "      <td>1706.000000</td>\n",
              "      <td>9.567500e+03</td>\n",
              "      <td>534.393443</td>\n",
              "      <td>4042.500000</td>\n",
              "      <td>98.000000</td>\n",
              "    </tr>\n",
              "    <tr>\n",
              "      <th>max</th>\n",
              "      <td>1.381345e+09</td>\n",
              "      <td>5.032179e+06</td>\n",
              "      <td>6590.000000</td>\n",
              "      <td>162804.000000</td>\n",
              "      <td>819.00000</td>\n",
              "      <td>2.576668e+06</td>\n",
              "      <td>4140.000000</td>\n",
              "      <td>2.292707e+06</td>\n",
              "      <td>18296.000000</td>\n",
              "      <td>39922.000000</td>\n",
              "      <td>1238.000000</td>\n",
              "    </tr>\n",
              "  </tbody>\n",
              "</table>\n",
              "</div>\n",
              "    <div class=\"colab-df-buttons\">\n",
              "\n",
              "  <div class=\"colab-df-container\">\n",
              "    <button class=\"colab-df-convert\" onclick=\"convertToInteractive('df-e75b6415-b3ab-46b3-ac93-9f97fff4a9af')\"\n",
              "            title=\"Convert this dataframe to an interactive table.\"\n",
              "            style=\"display:none;\">\n",
              "\n",
              "  <svg xmlns=\"http://www.w3.org/2000/svg\" height=\"24px\" viewBox=\"0 -960 960 960\">\n",
              "    <path d=\"M120-120v-720h720v720H120Zm60-500h600v-160H180v160Zm220 220h160v-160H400v160Zm0 220h160v-160H400v160ZM180-400h160v-160H180v160Zm440 0h160v-160H620v160ZM180-180h160v-160H180v160Zm440 0h160v-160H620v160Z\"/>\n",
              "  </svg>\n",
              "    </button>\n",
              "\n",
              "  <style>\n",
              "    .colab-df-container {\n",
              "      display:flex;\n",
              "      gap: 12px;\n",
              "    }\n",
              "\n",
              "    .colab-df-convert {\n",
              "      background-color: #E8F0FE;\n",
              "      border: none;\n",
              "      border-radius: 50%;\n",
              "      cursor: pointer;\n",
              "      display: none;\n",
              "      fill: #1967D2;\n",
              "      height: 32px;\n",
              "      padding: 0 0 0 0;\n",
              "      width: 32px;\n",
              "    }\n",
              "\n",
              "    .colab-df-convert:hover {\n",
              "      background-color: #E2EBFA;\n",
              "      box-shadow: 0px 1px 2px rgba(60, 64, 67, 0.3), 0px 1px 3px 1px rgba(60, 64, 67, 0.15);\n",
              "      fill: #174EA6;\n",
              "    }\n",
              "\n",
              "    .colab-df-buttons div {\n",
              "      margin-bottom: 4px;\n",
              "    }\n",
              "\n",
              "    [theme=dark] .colab-df-convert {\n",
              "      background-color: #3B4455;\n",
              "      fill: #D2E3FC;\n",
              "    }\n",
              "\n",
              "    [theme=dark] .colab-df-convert:hover {\n",
              "      background-color: #434B5C;\n",
              "      box-shadow: 0px 1px 3px 1px rgba(0, 0, 0, 0.15);\n",
              "      filter: drop-shadow(0px 1px 2px rgba(0, 0, 0, 0.3));\n",
              "      fill: #FFFFFF;\n",
              "    }\n",
              "  </style>\n",
              "\n",
              "    <script>\n",
              "      const buttonEl =\n",
              "        document.querySelector('#df-e75b6415-b3ab-46b3-ac93-9f97fff4a9af button.colab-df-convert');\n",
              "      buttonEl.style.display =\n",
              "        google.colab.kernel.accessAllowed ? 'block' : 'none';\n",
              "\n",
              "      async function convertToInteractive(key) {\n",
              "        const element = document.querySelector('#df-e75b6415-b3ab-46b3-ac93-9f97fff4a9af');\n",
              "        const dataTable =\n",
              "          await google.colab.kernel.invokeFunction('convertToInteractive',\n",
              "                                                    [key], {});\n",
              "        if (!dataTable) return;\n",
              "\n",
              "        const docLinkHtml = 'Like what you see? Visit the ' +\n",
              "          '<a target=\"_blank\" href=https://colab.research.google.com/notebooks/data_table.ipynb>data table notebook</a>'\n",
              "          + ' to learn more about interactive tables.';\n",
              "        element.innerHTML = '';\n",
              "        dataTable['output_type'] = 'display_data';\n",
              "        await google.colab.output.renderOutput(dataTable, element);\n",
              "        const docLink = document.createElement('div');\n",
              "        docLink.innerHTML = docLinkHtml;\n",
              "        element.appendChild(docLink);\n",
              "      }\n",
              "    </script>\n",
              "  </div>\n",
              "\n",
              "\n",
              "<div id=\"df-807e7aa4-0dbf-4a3d-bb3d-930642c0d11b\">\n",
              "  <button class=\"colab-df-quickchart\" onclick=\"quickchart('df-807e7aa4-0dbf-4a3d-bb3d-930642c0d11b')\"\n",
              "            title=\"Suggest charts\"\n",
              "            style=\"display:none;\">\n",
              "\n",
              "<svg xmlns=\"http://www.w3.org/2000/svg\" height=\"24px\"viewBox=\"0 0 24 24\"\n",
              "     width=\"24px\">\n",
              "    <g>\n",
              "        <path d=\"M19 3H5c-1.1 0-2 .9-2 2v14c0 1.1.9 2 2 2h14c1.1 0 2-.9 2-2V5c0-1.1-.9-2-2-2zM9 17H7v-7h2v7zm4 0h-2V7h2v10zm4 0h-2v-4h2v4z\"/>\n",
              "    </g>\n",
              "</svg>\n",
              "  </button>\n",
              "\n",
              "<style>\n",
              "  .colab-df-quickchart {\n",
              "      --bg-color: #E8F0FE;\n",
              "      --fill-color: #1967D2;\n",
              "      --hover-bg-color: #E2EBFA;\n",
              "      --hover-fill-color: #174EA6;\n",
              "      --disabled-fill-color: #AAA;\n",
              "      --disabled-bg-color: #DDD;\n",
              "  }\n",
              "\n",
              "  [theme=dark] .colab-df-quickchart {\n",
              "      --bg-color: #3B4455;\n",
              "      --fill-color: #D2E3FC;\n",
              "      --hover-bg-color: #434B5C;\n",
              "      --hover-fill-color: #FFFFFF;\n",
              "      --disabled-bg-color: #3B4455;\n",
              "      --disabled-fill-color: #666;\n",
              "  }\n",
              "\n",
              "  .colab-df-quickchart {\n",
              "    background-color: var(--bg-color);\n",
              "    border: none;\n",
              "    border-radius: 50%;\n",
              "    cursor: pointer;\n",
              "    display: none;\n",
              "    fill: var(--fill-color);\n",
              "    height: 32px;\n",
              "    padding: 0;\n",
              "    width: 32px;\n",
              "  }\n",
              "\n",
              "  .colab-df-quickchart:hover {\n",
              "    background-color: var(--hover-bg-color);\n",
              "    box-shadow: 0 1px 2px rgba(60, 64, 67, 0.3), 0 1px 3px 1px rgba(60, 64, 67, 0.15);\n",
              "    fill: var(--button-hover-fill-color);\n",
              "  }\n",
              "\n",
              "  .colab-df-quickchart-complete:disabled,\n",
              "  .colab-df-quickchart-complete:disabled:hover {\n",
              "    background-color: var(--disabled-bg-color);\n",
              "    fill: var(--disabled-fill-color);\n",
              "    box-shadow: none;\n",
              "  }\n",
              "\n",
              "  .colab-df-spinner {\n",
              "    border: 2px solid var(--fill-color);\n",
              "    border-color: transparent;\n",
              "    border-bottom-color: var(--fill-color);\n",
              "    animation:\n",
              "      spin 1s steps(1) infinite;\n",
              "  }\n",
              "\n",
              "  @keyframes spin {\n",
              "    0% {\n",
              "      border-color: transparent;\n",
              "      border-bottom-color: var(--fill-color);\n",
              "      border-left-color: var(--fill-color);\n",
              "    }\n",
              "    20% {\n",
              "      border-color: transparent;\n",
              "      border-left-color: var(--fill-color);\n",
              "      border-top-color: var(--fill-color);\n",
              "    }\n",
              "    30% {\n",
              "      border-color: transparent;\n",
              "      border-left-color: var(--fill-color);\n",
              "      border-top-color: var(--fill-color);\n",
              "      border-right-color: var(--fill-color);\n",
              "    }\n",
              "    40% {\n",
              "      border-color: transparent;\n",
              "      border-right-color: var(--fill-color);\n",
              "      border-top-color: var(--fill-color);\n",
              "    }\n",
              "    60% {\n",
              "      border-color: transparent;\n",
              "      border-right-color: var(--fill-color);\n",
              "    }\n",
              "    80% {\n",
              "      border-color: transparent;\n",
              "      border-right-color: var(--fill-color);\n",
              "      border-bottom-color: var(--fill-color);\n",
              "    }\n",
              "    90% {\n",
              "      border-color: transparent;\n",
              "      border-bottom-color: var(--fill-color);\n",
              "    }\n",
              "  }\n",
              "</style>\n",
              "\n",
              "  <script>\n",
              "    async function quickchart(key) {\n",
              "      const quickchartButtonEl =\n",
              "        document.querySelector('#' + key + ' button');\n",
              "      quickchartButtonEl.disabled = true;  // To prevent multiple clicks.\n",
              "      quickchartButtonEl.classList.add('colab-df-spinner');\n",
              "      try {\n",
              "        const charts = await google.colab.kernel.invokeFunction(\n",
              "            'suggestCharts', [key], {});\n",
              "      } catch (error) {\n",
              "        console.error('Error during call to suggestCharts:', error);\n",
              "      }\n",
              "      quickchartButtonEl.classList.remove('colab-df-spinner');\n",
              "      quickchartButtonEl.classList.add('colab-df-quickchart-complete');\n",
              "    }\n",
              "    (() => {\n",
              "      let quickchartButtonEl =\n",
              "        document.querySelector('#df-807e7aa4-0dbf-4a3d-bb3d-930642c0d11b button');\n",
              "      quickchartButtonEl.style.display =\n",
              "        google.colab.kernel.accessAllowed ? 'block' : 'none';\n",
              "    })();\n",
              "  </script>\n",
              "</div>\n",
              "    </div>\n",
              "  </div>\n"
            ],
            "application/vnd.google.colaboratory.intrinsic+json": {
              "type": "dataframe",
              "summary": "{\n  \"name\": \"df2\",\n  \"rows\": 8,\n  \"fields\": [\n    {\n      \"column\": \"Population\",\n      \"properties\": {\n        \"dtype\": \"number\",\n        \"std\": 480450632.8751785,\n        \"min\": 187.0,\n        \"max\": 1381344997.0,\n        \"samples\": [\n          33644109.919786096,\n          9197590.0,\n          187.0\n        ],\n        \"num_unique_values\": 8,\n        \"semantic_type\": \"\",\n        \"description\": \"\"\n      }\n    },\n    {\n      \"column\": \"TotalCases\",\n      \"properties\": {\n        \"dtype\": \"number\",\n        \"std\": 1755133.7675222734,\n        \"min\": 10.0,\n        \"max\": 5032179.0,\n        \"samples\": [\n          102495.08021390374,\n          6375.0,\n          187.0\n        ],\n        \"num_unique_values\": 8,\n        \"semantic_type\": \"\",\n        \"description\": \"\"\n      }\n    },\n    {\n      \"column\": \"NewCases\",\n      \"properties\": {\n        \"dtype\": \"number\",\n        \"std\": 2095.830587370514,\n        \"min\": 20.0,\n        \"max\": 6590.0,\n        \"samples\": [\n          1980.5,\n          6590.0,\n          397.4610483383706\n        ],\n        \"num_unique_values\": 5,\n        \"semantic_type\": \"\",\n        \"description\": \"\"\n      }\n    },\n    {\n      \"column\": \"TotalDeaths\",\n      \"properties\": {\n        \"dtype\": \"number\",\n        \"std\": 56773.774174572034,\n        \"min\": 1.0,\n        \"max\": 162804.0,\n        \"samples\": [\n          3812.8021390374333,\n          119.0,\n          187.0\n        ],\n        \"num_unique_values\": 8,\n        \"semantic_type\": \"\",\n        \"description\": \"\"\n      }\n    },\n    {\n      \"column\": \"NewDeaths\",\n      \"properties\": {\n        \"dtype\": \"number\",\n        \"std\": 248.70391017920483,\n        \"min\": 1.0,\n        \"max\": 819.0,\n        \"samples\": [\n          300.0,\n          819.0,\n          46.787209905621516\n        ],\n        \"num_unique_values\": 5,\n        \"semantic_type\": \"\",\n        \"description\": \"\"\n      }\n    },\n    {\n      \"column\": \"TotalRecovered\",\n      \"properties\": {\n        \"dtype\": \"number\",\n        \"std\": 896862.3540697787,\n        \"min\": 8.0,\n        \"max\": 2576668.0,\n        \"samples\": [\n          65793.7001173862,\n          4974.0,\n          187.0\n        ],\n        \"num_unique_values\": 8,\n        \"semantic_type\": \"\",\n        \"description\": \"\"\n      }\n    },\n    {\n      \"column\": \"NewRecovered\",\n      \"properties\": {\n        \"dtype\": \"number\",\n        \"std\": 1340.3685010938084,\n        \"min\": 42.0,\n        \"max\": 4140.0,\n        \"samples\": [\n          1706.0,\n          4140.0,\n          223.4402568632089\n        ],\n        \"num_unique_values\": 5,\n        \"semantic_type\": \"\",\n        \"description\": \"\"\n      }\n    },\n    {\n      \"column\": \"ActiveCases\",\n      \"properties\": {\n        \"dtype\": \"number\",\n        \"std\": 801662.742312401,\n        \"min\": 0.0,\n        \"max\": 2292707.0,\n        \"samples\": [\n          30917.413408112694,\n          1346.0,\n          187.0\n        ],\n        \"num_unique_values\": 8,\n        \"semantic_type\": \"\",\n        \"description\": \"\"\n      }\n    },\n    {\n      \"column\": \"Serious,Critical\",\n      \"properties\": {\n        \"dtype\": \"number\",\n        \"std\": 6330.415523442712,\n        \"min\": 1.0,\n        \"max\": 18296.0,\n        \"samples\": [\n          545.7868852459017,\n          239.0,\n          187.0\n        ],\n        \"num_unique_values\": 8,\n        \"semantic_type\": \"\",\n        \"description\": \"\"\n      }\n    },\n    {\n      \"column\": \"Tot Cases/1M pop\",\n      \"properties\": {\n        \"dtype\": \"number\",\n        \"std\": 13526.094593500236,\n        \"min\": 7.0,\n        \"max\": 39922.0,\n        \"samples\": [\n          3373.379679144385,\n          1274.0,\n          187.0\n        ],\n        \"num_unique_values\": 8,\n        \"semantic_type\": \"\",\n        \"description\": \"\"\n      }\n    },\n    {\n      \"column\": \"Deaths/1M pop\",\n      \"properties\": {\n        \"dtype\": \"number\",\n        \"std\": 413.8742067315237,\n        \"min\": 0.08,\n        \"max\": 1238.0,\n        \"samples\": [\n          98.68117647058824,\n          29.0,\n          187.0\n        ],\n        \"num_unique_values\": 8,\n        \"semantic_type\": \"\",\n        \"description\": \"\"\n      }\n    }\n  ]\n}"
            }
          },
          "metadata": {},
          "execution_count": 41
        }
      ],
      "source": [
        "# method 1: add your solution here.\n",
        "df2.describe()"
      ]
    },
    {
      "cell_type": "markdown",
      "metadata": {
        "id": "0-A8USaAxcFZ"
      },
      "source": [
        "#### Our observations:\n",
        "- Unfortunately some key columns were missing a LOT of values which have been filled with a fabricated mean value.\n",
        "- Population max is 1,400,000,000.\n",
        "- Cases max of 5,000,000\n",
        "- Overall deaths go to a max of 163,000 with the minimum being 0\n",
        "- The average no. of cases per one million are 3,373 cases\n",
        "- The average no. of deaths per one million are 99 deaths\n",
        "- IQR of population is 27,500,000 (50%)\n",
        "- This dataset has no obvious target variable, it can be used for clustering not classification\n",
        "- Africa is responsible for just under 30% of the records due to the number countries in Africa."
      ]
    },
    {
      "cell_type": "code",
      "execution_count": 42,
      "metadata": {
        "id": "kuGUlvEv9x81",
        "colab": {
          "base_uri": "https://localhost:8080/",
          "height": 501
        },
        "outputId": "a3c69140-5f53-4a78-ecb6-20a329b93670"
      },
      "outputs": [
        {
          "output_type": "execute_result",
          "data": {
            "text/plain": [
              "<Figure size 10000x10000 with 0 Axes>"
            ]
          },
          "metadata": {},
          "execution_count": 42
        },
        {
          "output_type": "display_data",
          "data": {
            "text/plain": [
              "<Figure size 640x480 with 1 Axes>"
            ],
            "image/png": "[encoded data removed]"
          },
          "metadata": {}
        },
        {
          "output_type": "display_data",
          "data": {
            "text/plain": [
              "<Figure size 10000x10000 with 0 Axes>"
            ]
          },
          "metadata": {}
        }
      ],
      "source": [
        "#Method 2:\n",
        "sns.barplot(data = df2.head(7),\n",
        "            x = 'Population',\n",
        "            y = 'ActiveCases',\n",
        "            hue = 'Continent');\n",
        "plt.figure(figsize=(100, 100))"
      ]
    },
    {
      "cell_type": "markdown",
      "metadata": {
        "id": "IWee_rWpCvnt"
      },
      "source": [
        "Here we compare random instances of population vs cases"
      ]
    },
    {
      "cell_type": "code",
      "execution_count": 43,
      "metadata": {
        "id": "xTu0TMG_Cke8",
        "colab": {
          "base_uri": "https://localhost:8080/",
          "height": 250
        },
        "outputId": "44d9b422-9f7f-40b9-c0ce-e08844da3459"
      },
      "outputs": [
        {
          "output_type": "display_data",
          "data": {
            "text/plain": [
              "<Figure size 5380.38x1000 with 5 Axes>"
            ],
            "image/png": "[encoded data removed]"
          },
          "metadata": {}
        }
      ],
      "source": [
        "sns.set(font_scale = 2)\n",
        "sns.displot(data = df2, x = 'TotalCases', col = 'NewCases',\n",
        "            hue = 'Continent', multiple = 'stack',\n",
        "            height = 10, palette = 'viridis');"
      ]
    },
    {
      "cell_type": "markdown",
      "metadata": {
        "id": "3agTfT8zDs6p"
      },
      "source": [
        "Here we compare totalcases to newcases based on the continent. The reason for the biased distribution of results is because NewCases was filled with the mean and 95% of those are in one graph"
      ]
    },
    {
      "cell_type": "code",
      "execution_count": null,
      "metadata": {
        "id": "AZCS-jtqQ_jB"
      },
      "outputs": [],
      "source": [
        "sns.pairplot(df2)\n",
        "plt.show()"
      ]
    },
    {
      "cell_type": "markdown",
      "metadata": {
        "id": "V5hjFnHtEoE3"
      },
      "source": [
        "This pairplot function puts each feature against each other to show us the relationship between one another."
      ]
    },
    {
      "cell_type": "code",
      "execution_count": null,
      "metadata": {
        "id": "FS7kwywONDho"
      },
      "outputs": [],
      "source": [
        "df2.hist(['Population', 'NewDeaths'], figsize = (20,5));"
      ]
    },
    {
      "cell_type": "markdown",
      "metadata": {
        "id": "96p9szfRNiTp"
      },
      "source": [
        "Most new deaths are the value 300 due to the mean value. 1e9 = 10^9 = 1,000,000,000"
      ]
    },
    {
      "cell_type": "code",
      "execution_count": null,
      "metadata": {
        "id": "yVekmiYnOVmM"
      },
      "outputs": [],
      "source": [
        "plt.figure(figsize = (10,5))\n",
        "sns.set(font_scale = 1.5)\n",
        "sns.boxplot(data = df2.head(5), x = \"Tot Cases/1M pop\", y = \"Deaths/1M pop\", hue = \"Continent\");"
      ]
    },
    {
      "cell_type": "code",
      "execution_count": null,
      "metadata": {
        "id": "WeYGixoVE93q"
      },
      "outputs": [],
      "source": [
        "#Method 3:\n",
        "df2.groupby('Continent').mean().sort_values(by = 'Population', ascending = True)"
      ]
    },
    {
      "cell_type": "code",
      "execution_count": null,
      "metadata": {
        "id": "7O7N6J4EI0Ng"
      },
      "outputs": [],
      "source": [
        "df2[['Continent', 'TotalDeaths']].groupby('Continent').mean().sort_values(by = 'Continent', ascending = True)"
      ]
    },
    {
      "cell_type": "markdown",
      "metadata": {
        "id": "PR3lHiyFJoOK"
      },
      "source": [
        "Although Africa has the most records, South America is the continent responsible for the most deaths"
      ]
    },
    {
      "cell_type": "code",
      "execution_count": null,
      "metadata": {
        "id": "0jk43ggaJ8Ps"
      },
      "outputs": [],
      "source": [
        "df2[['Country/Region', 'Tot Cases/1M pop']].groupby('Country/Region').mean().sort_values(by = 'Country/Region', ascending = True)"
      ]
    },
    {
      "cell_type": "markdown",
      "metadata": {
        "id": "gh-hPGyqKb-r"
      },
      "source": [
        "All countries/regions and their total cases per 1,000,000 population"
      ]
    },
    {
      "cell_type": "code",
      "execution_count": null,
      "metadata": {
        "id": "ddQJgMWyLjw9"
      },
      "outputs": [],
      "source": [
        "def mean_aggregation(data, Split1, Split2, Agg_feature):\n",
        "  return data.groupby([Split1, Split2])[Agg_feature].mean()"
      ]
    },
    {
      "cell_type": "code",
      "execution_count": null,
      "metadata": {
        "id": "TvxlkIwdL35w"
      },
      "outputs": [],
      "source": [
        "mean_aggregation(df2, 'Continent', 'Country/Region', 'ActiveCases').to_frame()"
      ]
    },
    {
      "cell_type": "markdown",
      "metadata": {
        "id": "ZoAJCZCXMaST"
      },
      "source": [
        "The function above allows us to show the mean of activecases for countries/regions and their respective continent"
      ]
    },
    {
      "cell_type": "code",
      "execution_count": null,
      "metadata": {
        "id": "PveDbqxFc6tR"
      },
      "outputs": [],
      "source": [
        "# Task 2 - add your solution here.\n",
        "\n",
        "# define a function to calculate the mean of newcases\n",
        "def mean_if_numeric(NewCases):\n",
        "    if pd.api.types.is_numeric_dtype(NewCases):\n",
        "        return NewCases.mean()\n",
        "    else:\n",
        "        return NewCases\n",
        "# apply the function to all columns using apply()\n",
        "df3 = df2.apply(mean_if_numeric)\n"
      ]
    },
    {
      "cell_type": "markdown",
      "metadata": {
        "id": "Fu50YAuvjBaV"
      },
      "source": [
        "This makes ALL of the numeric columns an average value."
      ]
    },
    {
      "cell_type": "code",
      "execution_count": null,
      "metadata": {
        "id": "KfTd3hvMiVK2"
      },
      "outputs": [],
      "source": [
        "df3"
      ]
    }
  ],
  "metadata": {
    "colab": {
      "provenance": []
    },
    "kernel_info": {
      "name": "python3"
    },
    "kernelspec": {
      "display_name": "Python 3",
      "language": "python",
      "name": "python3"
    },
    "language_info": {
      "codemirror_mode": {
        "name": "ipython",
        "version": 3
      },
      "file_extension": ".py",
      "mimetype": "text/x-python",
      "name": "python",
      "nbconvert_exporter": "python",
      "pygments_lexer": "ipython3",
      "version": "3.8.2"
    },
    "nteract": {
      "version": "0.15.0"
    }
  },
  "nbformat": 4,
  "nbformat_minor": 0
}